{
  "nbformat": 4,
  "nbformat_minor": 0,
  "metadata": {
    "colab": {
      "provenance": [],
      "authorship_tag": "ABX9TyOpt2sVZVxuLLaYP+ERqU+F",
      "include_colab_link": true
    },
    "kernelspec": {
      "name": "python3",
      "display_name": "Python 3"
    },
    "language_info": {
      "name": "python"
    }
  },
  "cells": [
    {
      "cell_type": "markdown",
      "metadata": {
        "id": "view-in-github",
        "colab_type": "text"
      },
      "source": [
        "<a href=\"https://colab.research.google.com/github/szymonszwedzinskiii/DataTemplates/blob/main/Linearregression.ipynb\" target=\"_parent\"><img src=\"https://colab.research.google.com/assets/colab-badge.svg\" alt=\"Open In Colab\"/></a>"
      ]
    },
    {
      "cell_type": "code",
      "execution_count": 1,
      "metadata": {
        "id": "4NSBjAepBQai"
      },
      "outputs": [],
      "source": [
        "import numpy as np\n",
        "import matplotlib.pyplot as plt\n",
        "from sklearn.datasets import load_breast_cancer\n",
        "from sklearn.model_selection import train_test_split\n",
        "import pylab"
      ]
    },
    {
      "cell_type": "code",
      "source": [
        "def activation(X):\n",
        "  return 1 if X>0 else 0\n",
        "X= np.array([210, 270,290,310,370,400, 450, 480, 510, 520,550, 600])\n",
        "y = np.array([140, 190, 250, 270, 290, 310, 340, 360, 420, 390, 450, 500])\n",
        "print(X.shape)\n",
        "print(y.shape)"
      ],
      "metadata": {
        "colab": {
          "base_uri": "https://localhost:8080/"
        },
        "id": "tvxVyF60KmAx",
        "outputId": "fffaf81d-7c22-4d6f-b9ca-bfe2bc1ecda9"
      },
      "execution_count": 2,
      "outputs": [
        {
          "output_type": "stream",
          "name": "stdout",
          "text": [
            "(12,)\n",
            "(12,)\n"
          ]
        }
      ]
    },
    {
      "cell_type": "code",
      "source": [
        "w = 5.0\n",
        "b = 1\n",
        "\n",
        "def model(X,w,b):\n",
        "  return w*X +b\n",
        "\n",
        "ret = model(X,w,b)\n",
        "print(ret)"
      ],
      "metadata": {
        "colab": {
          "base_uri": "https://localhost:8080/"
        },
        "id": "ml0VrBzoJixV",
        "outputId": "9c3ca565-2fb4-4678-da99-a93de81bae0d"
      },
      "execution_count": 3,
      "outputs": [
        {
          "output_type": "stream",
          "name": "stdout",
          "text": [
            "[1051. 1351. 1451. 1551. 1851. 2001. 2251. 2401. 2551. 2601. 2751. 3001.]\n"
          ]
        }
      ]
    },
    {
      "cell_type": "code",
      "source": [
        "def check_accuracy(x,y,w,b):\n",
        "  y_pred = model(x,w,b)\n",
        "  return np.mean((y-y_pred)**2)\n",
        "\n",
        "print(check_accuracy(X,y,w,b))\n",
        "\n"
      ],
      "metadata": {
        "colab": {
          "base_uri": "https://localhost:8080/"
        },
        "id": "gdUGUOzYBBoD",
        "outputId": "a378d7fd-334b-49cf-9d2d-5599942de8f1"
      },
      "execution_count": 4,
      "outputs": [
        {
          "output_type": "stream",
          "name": "stdout",
          "text": [
            "3279524.3333333335\n"
          ]
        }
      ]
    },
    {
      "cell_type": "code",
      "source": [
        "def training(x,y,w,b,lr):\n",
        "  for _ in range(150):\n",
        "    for xi,target in zip(x,y):\n",
        "      y_pred = model(x,w,b)\n",
        "      err= target - y_pred\n",
        "      w += lr*err * xi\n",
        "      b += lr*err\n",
        "\n",
        "training(X,y,w,b,lr=0.1)\n",
        "\n",
        "y_pred = []\n",
        "for x in X:\n",
        "  y_pred.append(model(x,w,b))\n",
        "\n",
        "print(list(y_pred))\n",
        "print(list(y))"
      ],
      "metadata": {
        "colab": {
          "base_uri": "https://localhost:8080/"
        },
        "id": "V414b-SdBSAC",
        "outputId": "29ad5b82-d4c0-4863-9427-00d0007b1857"
      },
      "execution_count": 11,
      "outputs": [
        {
          "output_type": "stream",
          "name": "stdout",
          "text": [
            "[np.float64(1051.0), np.float64(1351.0), np.float64(1451.0), np.float64(1551.0), np.float64(1851.0), np.float64(2001.0), np.float64(2251.0), np.float64(2401.0), np.float64(2551.0), np.float64(2601.0), np.float64(2751.0), np.float64(3001.0)]\n",
            "[np.int64(140), np.int64(190), np.int64(250), np.int64(270), np.int64(290), np.int64(310), np.int64(340), np.int64(360), np.int64(420), np.int64(390), np.int64(450), np.int64(500)]\n"
          ]
        },
        {
          "output_type": "stream",
          "name": "stderr",
          "text": [
            "<ipython-input-3-80a0f7d7aa78>:5: RuntimeWarning: overflow encountered in multiply\n",
            "  return w*X +b\n",
            "<ipython-input-11-1a837bd0cd7a>:6: RuntimeWarning: overflow encountered in multiply\n",
            "  w += lr*err * xi\n",
            "<ipython-input-11-1a837bd0cd7a>:6: RuntimeWarning: invalid value encountered in add\n",
            "  w += lr*err * xi\n",
            "<ipython-input-11-1a837bd0cd7a>:7: RuntimeWarning: invalid value encountered in add\n",
            "  b += lr*err\n"
          ]
        }
      ]
    },
    {
      "cell_type": "code",
      "source": [],
      "metadata": {
        "id": "zlKb7tR0DU-J"
      },
      "execution_count": null,
      "outputs": []
    }
  ]
}