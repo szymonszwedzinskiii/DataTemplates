{
  "nbformat": 4,
  "nbformat_minor": 0,
  "metadata": {
    "colab": {
      "provenance": [],
      "authorship_tag": "ABX9TyPA/eF31MpwV8fiIhCmF9uv",
      "include_colab_link": true
    },
    "kernelspec": {
      "name": "python3",
      "display_name": "Python 3"
    },
    "language_info": {
      "name": "python"
    }
  },
  "cells": [
    {
      "cell_type": "markdown",
      "metadata": {
        "id": "view-in-github",
        "colab_type": "text"
      },
      "source": [
        "<a href=\"https://colab.research.google.com/github/szymonszwedzinskiii/DataTemplates/blob/main/Untitled0.ipynb\" target=\"_parent\"><img src=\"https://colab.research.google.com/assets/colab-badge.svg\" alt=\"Open In Colab\"/></a>"
      ]
    },
    {
      "cell_type": "code",
      "execution_count": 46,
      "metadata": {
        "id": "4mS1ss7eBviO"
      },
      "outputs": [],
      "source": [
        "import pandas as pd\n",
        "import numpy as np\n",
        "import matplotlib.pyplot as plt\n"
      ]
    },
    {
      "cell_type": "code",
      "source": [
        "v = np.array([1,2])\n",
        "w = np.array([3,-5])\n",
        "def skalar(v,w):\n",
        "  skalar = (v[0] * w[0]) + (v[1]*w[1])\n",
        "  return skalar\n",
        "\n",
        "array = np.array([140,150,160])\n",
        "print(array.mean())\n",
        "print(array.std())\n",
        "print(array.var())\n",
        "\n",
        "rng = np.random.default_rng(seed=42)\n",
        "xarr = rng.random((3,3))\n",
        "print(xarr)\n",
        "\n",
        "x1 = np.corrcoef(xarr)\n",
        "print(x1)\n",
        "print()\n",
        "print(np.argmax(xarr))"
      ],
      "metadata": {
        "colab": {
          "base_uri": "https://localhost:8080/"
        },
        "id": "9ZWnSk1f0bP2",
        "outputId": "039889d3-9635-49e8-a270-897d1671a5cd"
      },
      "execution_count": 30,
      "outputs": [
        {
          "output_type": "stream",
          "name": "stdout",
          "text": [
            "150.0\n",
            "8.16496580927726\n",
            "66.66666666666667\n",
            "[[0.77395605 0.43887844 0.85859792]\n",
            " [0.69736803 0.09417735 0.97562235]\n",
            " [0.7611397  0.78606431 0.12811363]]\n",
            "[[ 1.          0.99256089 -0.68080986]\n",
            " [ 0.99256089  1.         -0.76492172]\n",
            " [-0.68080986 -0.76492172  1.        ]]\n",
            "\n",
            "5\n"
          ]
        }
      ]
    },
    {
      "cell_type": "code",
      "source": [
        "df = pd.read_csv('/content/sample_data/Sales Dataset.csv')"
      ],
      "metadata": {
        "id": "2XUEW94KByAB"
      },
      "execution_count": 34,
      "outputs": []
    },
    {
      "cell_type": "code",
      "source": [
        "df['Profit']"
      ],
      "metadata": {
        "colab": {
          "base_uri": "https://localhost:8080/",
          "height": 458
        },
        "id": "FJHwUU66B0VP",
        "outputId": "71c24f5c-bb2e-4795-ee50-7c037ca29806"
      },
      "execution_count": 36,
      "outputs": [
        {
          "output_type": "execute_result",
          "data": {
            "text/plain": [
              "0       1275\n",
              "1       1275\n",
              "2       1275\n",
              "3       1330\n",
              "4       1330\n",
              "        ... \n",
              "1189    3594\n",
              "1190     642\n",
              "1191     642\n",
              "1192     642\n",
              "1193     163\n",
              "Name: Profit, Length: 1194, dtype: int64"
            ],
            "text/html": [
              "<div>\n",
              "<style scoped>\n",
              "    .dataframe tbody tr th:only-of-type {\n",
              "        vertical-align: middle;\n",
              "    }\n",
              "\n",
              "    .dataframe tbody tr th {\n",
              "        vertical-align: top;\n",
              "    }\n",
              "\n",
              "    .dataframe thead th {\n",
              "        text-align: right;\n",
              "    }\n",
              "</style>\n",
              "<table border=\"1\" class=\"dataframe\">\n",
              "  <thead>\n",
              "    <tr style=\"text-align: right;\">\n",
              "      <th></th>\n",
              "      <th>Profit</th>\n",
              "    </tr>\n",
              "  </thead>\n",
              "  <tbody>\n",
              "    <tr>\n",
              "      <th>0</th>\n",
              "      <td>1275</td>\n",
              "    </tr>\n",
              "    <tr>\n",
              "      <th>1</th>\n",
              "      <td>1275</td>\n",
              "    </tr>\n",
              "    <tr>\n",
              "      <th>2</th>\n",
              "      <td>1275</td>\n",
              "    </tr>\n",
              "    <tr>\n",
              "      <th>3</th>\n",
              "      <td>1330</td>\n",
              "    </tr>\n",
              "    <tr>\n",
              "      <th>4</th>\n",
              "      <td>1330</td>\n",
              "    </tr>\n",
              "    <tr>\n",
              "      <th>...</th>\n",
              "      <td>...</td>\n",
              "    </tr>\n",
              "    <tr>\n",
              "      <th>1189</th>\n",
              "      <td>3594</td>\n",
              "    </tr>\n",
              "    <tr>\n",
              "      <th>1190</th>\n",
              "      <td>642</td>\n",
              "    </tr>\n",
              "    <tr>\n",
              "      <th>1191</th>\n",
              "      <td>642</td>\n",
              "    </tr>\n",
              "    <tr>\n",
              "      <th>1192</th>\n",
              "      <td>642</td>\n",
              "    </tr>\n",
              "    <tr>\n",
              "      <th>1193</th>\n",
              "      <td>163</td>\n",
              "    </tr>\n",
              "  </tbody>\n",
              "</table>\n",
              "<p>1194 rows × 1 columns</p>\n",
              "</div><br><label><b>dtype:</b> int64</label>"
            ]
          },
          "metadata": {},
          "execution_count": 36
        }
      ]
    },
    {
      "cell_type": "code",
      "source": [
        "min = np.min(df['Profit'])\n",
        "print(min)"
      ],
      "metadata": {
        "colab": {
          "base_uri": "https://localhost:8080/"
        },
        "id": "6BvlLrAyJC-S",
        "outputId": "d808ba13-99ae-452a-94dc-671038f4e4b6"
      },
      "execution_count": 38,
      "outputs": [
        {
          "output_type": "stream",
          "name": "stdout",
          "text": [
            "50\n"
          ]
        }
      ]
    },
    {
      "cell_type": "code",
      "source": [
        "max = np.max(df['Profit'])\n",
        "print(max)"
      ],
      "metadata": {
        "colab": {
          "base_uri": "https://localhost:8080/"
        },
        "id": "gp9HL3mkJHdy",
        "outputId": "5d2c3226-1018-4c86-cd2a-ccb1c3bc1a1b"
      },
      "execution_count": 39,
      "outputs": [
        {
          "output_type": "stream",
          "name": "stdout",
          "text": [
            "4930\n"
          ]
        }
      ]
    },
    {
      "cell_type": "code",
      "source": [
        "ind = np.argmax(df['Profit'])\n",
        "print(ind)\n",
        "print(df.iloc[[ind]])"
      ],
      "metadata": {
        "colab": {
          "base_uri": "https://localhost:8080/"
        },
        "id": "Irx3Jow1JOcO",
        "outputId": "288db129-14e8-4e4f-deb9-9a923af1a8cd"
      },
      "execution_count": 44,
      "outputs": [
        {
          "output_type": "stream",
          "name": "stdout",
          "text": [
            "834\n",
            "    Order ID  Amount  Profit  Quantity     Category Sub-Category PaymentMode  \\\n",
            "834  B-26357    9879    4930        15  Electronics      Laptops  Debit Card   \n",
            "\n",
            "     Order Date    CustomerName     State       City Year-Month  \n",
            "834  2023-06-08  Brandi Vasquez  New York  Rochester    2023-06  \n"
          ]
        }
      ]
    },
    {
      "cell_type": "code",
      "source": [
        "korelacje = np.corrcoef(df[\"Profit\"], df['Quantity'])\n",
        "print(korelacje)\n",
        "plt.scatter(df['Profit'], df['Quantity'])"
      ],
      "metadata": {
        "colab": {
          "base_uri": "https://localhost:8080/",
          "height": 482
        },
        "id": "Rde_w5-xJUAs",
        "outputId": "9cbe1239-9f6a-474f-c30a-d559940265b4"
      },
      "execution_count": 47,
      "outputs": [
        {
          "output_type": "stream",
          "name": "stdout",
          "text": [
            "[[1.         0.06608766]\n",
            " [0.06608766 1.        ]]\n"
          ]
        },
        {
          "output_type": "execute_result",
          "data": {
            "text/plain": [
              "<matplotlib.collections.PathCollection at 0x7ec8039074d0>"
            ]
          },
          "metadata": {},
          "execution_count": 47
        },
        {
          "output_type": "display_data",
          "data": {
            "text/plain": [
              "<Figure size 640x480 with 1 Axes>"
            ],
            "image/png": "[encoded data removed]"
          },
          "metadata": {}
        }
      ]
    },
    {
      "cell_type": "code",
      "source": [],
      "metadata": {
        "id": "NYYluaXPJ6oW"
      },
      "execution_count": null,
      "outputs": []
    }
  ]
}