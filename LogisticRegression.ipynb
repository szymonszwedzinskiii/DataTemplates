{
  "nbformat": 4,
  "nbformat_minor": 0,
  "metadata": {
    "colab": {
      "provenance": [],
      "authorship_tag": "ABX9TyN3IKoHNFZe8YF18e3Tis2s",
      "include_colab_link": true
    },
    "kernelspec": {
      "name": "python3",
      "display_name": "Python 3"
    },
    "language_info": {
      "name": "python"
    }
  },
  "cells": [
    {
      "cell_type": "markdown",
      "metadata": {
        "id": "view-in-github",
        "colab_type": "text"
      },
      "source": [
        "<a href=\"https://colab.research.google.com/github/szymonszwedzinskiii/DataTemplates/blob/main/LogisticRegression.ipynb\" target=\"_parent\"><img src=\"https://colab.research.google.com/assets/colab-badge.svg\" alt=\"Open In Colab\"/></a>"
      ]
    },
    {
      "cell_type": "code",
      "execution_count": 56,
      "metadata": {
        "id": "XAN7QOx3bZ10"
      },
      "outputs": [],
      "source": [
        "import numpy as np\n",
        "from sklearn import datasets\n",
        "import pandas as pd\n",
        "from sklearn.model_selection import train_test_split\n",
        "from sklearn.preprocessing import LabelEncoder"
      ]
    },
    {
      "cell_type": "code",
      "source": [
        "N, D = 200, 2\n",
        "SEED = 54321\n",
        "X,y = datasets.make_classification(n_samples=N,n_features=D,n_informative=2,n_redundant=0,random_state=SEED)\n",
        "\n",
        "X = np.reshape(X, (N, D))\n",
        "y = np.reshape(y, (N, 1))\n",
        "\n"
      ],
      "metadata": {
        "id": "CWdjvloIco57"
      },
      "execution_count": 26,
      "outputs": []
    },
    {
      "cell_type": "code",
      "source": [
        "df = pd.DataFrame({\n",
        "    \"X_1\": X[:,0],\n",
        "    \"X_2\":X[:,1],\n",
        "    \"label\": [\"positive\" if y_i>0 else \"negative\" for y_i in y]\n",
        "},index = list(range(N)))\n",
        "\n",
        "df"
      ],
      "metadata": {
        "colab": {
          "base_uri": "https://localhost:8080/",
          "height": 423
        },
        "id": "8WCqt7HKcxeb",
        "outputId": "58734673-9e14-4501-cb9d-96591abddbbf"
      },
      "execution_count": 27,
      "outputs": [
        {
          "output_type": "execute_result",
          "data": {
            "text/plain": [
              "          X_1       X_2     label\n",
              "0    1.434174 -0.593742  negative\n",
              "1   -0.546980 -1.061760  negative\n",
              "2    0.651044  0.868971  positive\n",
              "3    0.249456 -1.033361  negative\n",
              "4   -1.047607 -0.693791  negative\n",
              "..        ...       ...       ...\n",
              "195 -0.922138 -2.105524  negative\n",
              "196 -1.309470  0.949647  positive\n",
              "197  0.617753  0.751026  positive\n",
              "198 -1.028913 -1.058349  negative\n",
              "199  0.267971  2.973200  positive\n",
              "\n",
              "[200 rows x 3 columns]"
            ],
            "text/html": [
              "\n",
              "  <div id=\"df-5122823c-c53d-4dac-b6f1-df5d3aa9d509\" class=\"colab-df-container\">\n",
              "    <div>\n",
              "<style scoped>\n",
              "    .dataframe tbody tr th:only-of-type {\n",
              "        vertical-align: middle;\n",
              "    }\n",
              "\n",
              "    .dataframe tbody tr th {\n",
              "        vertical-align: top;\n",
              "    }\n",
              "\n",
              "    .dataframe thead th {\n",
              "        text-align: right;\n",
              "    }\n",
              "</style>\n",
              "<table border=\"1\" class=\"dataframe\">\n",
              "  <thead>\n",
              "    <tr style=\"text-align: right;\">\n",
              "      <th></th>\n",
              "      <th>X_1</th>\n",
              "      <th>X_2</th>\n",
              "      <th>label</th>\n",
              "    </tr>\n",
              "  </thead>\n",
              "  <tbody>\n",
              "    <tr>\n",
              "      <th>0</th>\n",
              "      <td>1.434174</td>\n",
              "      <td>-0.593742</td>\n",
              "      <td>negative</td>\n",
              "    </tr>\n",
              "    <tr>\n",
              "      <th>1</th>\n",
              "      <td>-0.546980</td>\n",
              "      <td>-1.061760</td>\n",
              "      <td>negative</td>\n",
              "    </tr>\n",
              "    <tr>\n",
              "      <th>2</th>\n",
              "      <td>0.651044</td>\n",
              "      <td>0.868971</td>\n",
              "      <td>positive</td>\n",
              "    </tr>\n",
              "    <tr>\n",
              "      <th>3</th>\n",
              "      <td>0.249456</td>\n",
              "      <td>-1.033361</td>\n",
              "      <td>negative</td>\n",
              "    </tr>\n",
              "    <tr>\n",
              "      <th>4</th>\n",
              "      <td>-1.047607</td>\n",
              "      <td>-0.693791</td>\n",
              "      <td>negative</td>\n",
              "    </tr>\n",
              "    <tr>\n",
              "      <th>...</th>\n",
              "      <td>...</td>\n",
              "      <td>...</td>\n",
              "      <td>...</td>\n",
              "    </tr>\n",
              "    <tr>\n",
              "      <th>195</th>\n",
              "      <td>-0.922138</td>\n",
              "      <td>-2.105524</td>\n",
              "      <td>negative</td>\n",
              "    </tr>\n",
              "    <tr>\n",
              "      <th>196</th>\n",
              "      <td>-1.309470</td>\n",
              "      <td>0.949647</td>\n",
              "      <td>positive</td>\n",
              "    </tr>\n",
              "    <tr>\n",
              "      <th>197</th>\n",
              "      <td>0.617753</td>\n",
              "      <td>0.751026</td>\n",
              "      <td>positive</td>\n",
              "    </tr>\n",
              "    <tr>\n",
              "      <th>198</th>\n",
              "      <td>-1.028913</td>\n",
              "      <td>-1.058349</td>\n",
              "      <td>negative</td>\n",
              "    </tr>\n",
              "    <tr>\n",
              "      <th>199</th>\n",
              "      <td>0.267971</td>\n",
              "      <td>2.973200</td>\n",
              "      <td>positive</td>\n",
              "    </tr>\n",
              "  </tbody>\n",
              "</table>\n",
              "<p>200 rows × 3 columns</p>\n",
              "</div>\n",
              "    <div class=\"colab-df-buttons\">\n",
              "\n",
              "  <div class=\"colab-df-container\">\n",
              "    <button class=\"colab-df-convert\" onclick=\"convertToInteractive('df-5122823c-c53d-4dac-b6f1-df5d3aa9d509')\"\n",
              "            title=\"Convert this dataframe to an interactive table.\"\n",
              "            style=\"display:none;\">\n",
              "\n",
              "  <svg xmlns=\"http://www.w3.org/2000/svg\" height=\"24px\" viewBox=\"0 -960 960 960\">\n",
              "    <path d=\"M120-120v-720h720v720H120Zm60-500h600v-160H180v160Zm220 220h160v-160H400v160Zm0 220h160v-160H400v160ZM180-400h160v-160H180v160Zm440 0h160v-160H620v160ZM180-180h160v-160H180v160Zm440 0h160v-160H620v160Z\"/>\n",
              "  </svg>\n",
              "    </button>\n",
              "\n",
              "  <style>\n",
              "    .colab-df-container {\n",
              "      display:flex;\n",
              "      gap: 12px;\n",
              "    }\n",
              "\n",
              "    .colab-df-convert {\n",
              "      background-color: #E8F0FE;\n",
              "      border: none;\n",
              "      border-radius: 50%;\n",
              "      cursor: pointer;\n",
              "      display: none;\n",
              "      fill: #1967D2;\n",
              "      height: 32px;\n",
              "      padding: 0 0 0 0;\n",
              "      width: 32px;\n",
              "    }\n",
              "\n",
              "    .colab-df-convert:hover {\n",
              "      background-color: #E2EBFA;\n",
              "      box-shadow: 0px 1px 2px rgba(60, 64, 67, 0.3), 0px 1px 3px 1px rgba(60, 64, 67, 0.15);\n",
              "      fill: #174EA6;\n",
              "    }\n",
              "\n",
              "    .colab-df-buttons div {\n",
              "      margin-bottom: 4px;\n",
              "    }\n",
              "\n",
              "    [theme=dark] .colab-df-convert {\n",
              "      background-color: #3B4455;\n",
              "      fill: #D2E3FC;\n",
              "    }\n",
              "\n",
              "    [theme=dark] .colab-df-convert:hover {\n",
              "      background-color: #434B5C;\n",
              "      box-shadow: 0px 1px 3px 1px rgba(0, 0, 0, 0.15);\n",
              "      filter: drop-shadow(0px 1px 2px rgba(0, 0, 0, 0.3));\n",
              "      fill: #FFFFFF;\n",
              "    }\n",
              "  </style>\n",
              "\n",
              "    <script>\n",
              "      const buttonEl =\n",
              "        document.querySelector('#df-5122823c-c53d-4dac-b6f1-df5d3aa9d509 button.colab-df-convert');\n",
              "      buttonEl.style.display =\n",
              "        google.colab.kernel.accessAllowed ? 'block' : 'none';\n",
              "\n",
              "      async function convertToInteractive(key) {\n",
              "        const element = document.querySelector('#df-5122823c-c53d-4dac-b6f1-df5d3aa9d509');\n",
              "        const dataTable =\n",
              "          await google.colab.kernel.invokeFunction('convertToInteractive',\n",
              "                                                    [key], {});\n",
              "        if (!dataTable) return;\n",
              "\n",
              "        const docLinkHtml = 'Like what you see? Visit the ' +\n",
              "          '<a target=\"_blank\" href=https://colab.research.google.com/notebooks/data_table.ipynb>data table notebook</a>'\n",
              "          + ' to learn more about interactive tables.';\n",
              "        element.innerHTML = '';\n",
              "        dataTable['output_type'] = 'display_data';\n",
              "        await google.colab.output.renderOutput(dataTable, element);\n",
              "        const docLink = document.createElement('div');\n",
              "        docLink.innerHTML = docLinkHtml;\n",
              "        element.appendChild(docLink);\n",
              "      }\n",
              "    </script>\n",
              "  </div>\n",
              "\n",
              "\n",
              "    <div id=\"df-8e691d67-b167-4c06-9bd4-5f69ea69c7bb\">\n",
              "      <button class=\"colab-df-quickchart\" onclick=\"quickchart('df-8e691d67-b167-4c06-9bd4-5f69ea69c7bb')\"\n",
              "                title=\"Suggest charts\"\n",
              "                style=\"display:none;\">\n",
              "\n",
              "<svg xmlns=\"http://www.w3.org/2000/svg\" height=\"24px\"viewBox=\"0 0 24 24\"\n",
              "     width=\"24px\">\n",
              "    <g>\n",
              "        <path d=\"M19 3H5c-1.1 0-2 .9-2 2v14c0 1.1.9 2 2 2h14c1.1 0 2-.9 2-2V5c0-1.1-.9-2-2-2zM9 17H7v-7h2v7zm4 0h-2V7h2v10zm4 0h-2v-4h2v4z\"/>\n",
              "    </g>\n",
              "</svg>\n",
              "      </button>\n",
              "\n",
              "<style>\n",
              "  .colab-df-quickchart {\n",
              "      --bg-color: #E8F0FE;\n",
              "      --fill-color: #1967D2;\n",
              "      --hover-bg-color: #E2EBFA;\n",
              "      --hover-fill-color: #174EA6;\n",
              "      --disabled-fill-color: #AAA;\n",
              "      --disabled-bg-color: #DDD;\n",
              "  }\n",
              "\n",
              "  [theme=dark] .colab-df-quickchart {\n",
              "      --bg-color: #3B4455;\n",
              "      --fill-color: #D2E3FC;\n",
              "      --hover-bg-color: #434B5C;\n",
              "      --hover-fill-color: #FFFFFF;\n",
              "      --disabled-bg-color: #3B4455;\n",
              "      --disabled-fill-color: #666;\n",
              "  }\n",
              "\n",
              "  .colab-df-quickchart {\n",
              "    background-color: var(--bg-color);\n",
              "    border: none;\n",
              "    border-radius: 50%;\n",
              "    cursor: pointer;\n",
              "    display: none;\n",
              "    fill: var(--fill-color);\n",
              "    height: 32px;\n",
              "    padding: 0;\n",
              "    width: 32px;\n",
              "  }\n",
              "\n",
              "  .colab-df-quickchart:hover {\n",
              "    background-color: var(--hover-bg-color);\n",
              "    box-shadow: 0 1px 2px rgba(60, 64, 67, 0.3), 0 1px 3px 1px rgba(60, 64, 67, 0.15);\n",
              "    fill: var(--button-hover-fill-color);\n",
              "  }\n",
              "\n",
              "  .colab-df-quickchart-complete:disabled,\n",
              "  .colab-df-quickchart-complete:disabled:hover {\n",
              "    background-color: var(--disabled-bg-color);\n",
              "    fill: var(--disabled-fill-color);\n",
              "    box-shadow: none;\n",
              "  }\n",
              "\n",
              "  .colab-df-spinner {\n",
              "    border: 2px solid var(--fill-color);\n",
              "    border-color: transparent;\n",
              "    border-bottom-color: var(--fill-color);\n",
              "    animation:\n",
              "      spin 1s steps(1) infinite;\n",
              "  }\n",
              "\n",
              "  @keyframes spin {\n",
              "    0% {\n",
              "      border-color: transparent;\n",
              "      border-bottom-color: var(--fill-color);\n",
              "      border-left-color: var(--fill-color);\n",
              "    }\n",
              "    20% {\n",
              "      border-color: transparent;\n",
              "      border-left-color: var(--fill-color);\n",
              "      border-top-color: var(--fill-color);\n",
              "    }\n",
              "    30% {\n",
              "      border-color: transparent;\n",
              "      border-left-color: var(--fill-color);\n",
              "      border-top-color: var(--fill-color);\n",
              "      border-right-color: var(--fill-color);\n",
              "    }\n",
              "    40% {\n",
              "      border-color: transparent;\n",
              "      border-right-color: var(--fill-color);\n",
              "      border-top-color: var(--fill-color);\n",
              "    }\n",
              "    60% {\n",
              "      border-color: transparent;\n",
              "      border-right-color: var(--fill-color);\n",
              "    }\n",
              "    80% {\n",
              "      border-color: transparent;\n",
              "      border-right-color: var(--fill-color);\n",
              "      border-bottom-color: var(--fill-color);\n",
              "    }\n",
              "    90% {\n",
              "      border-color: transparent;\n",
              "      border-bottom-color: var(--fill-color);\n",
              "    }\n",
              "  }\n",
              "</style>\n",
              "\n",
              "      <script>\n",
              "        async function quickchart(key) {\n",
              "          const quickchartButtonEl =\n",
              "            document.querySelector('#' + key + ' button');\n",
              "          quickchartButtonEl.disabled = true;  // To prevent multiple clicks.\n",
              "          quickchartButtonEl.classList.add('colab-df-spinner');\n",
              "          try {\n",
              "            const charts = await google.colab.kernel.invokeFunction(\n",
              "                'suggestCharts', [key], {});\n",
              "          } catch (error) {\n",
              "            console.error('Error during call to suggestCharts:', error);\n",
              "          }\n",
              "          quickchartButtonEl.classList.remove('colab-df-spinner');\n",
              "          quickchartButtonEl.classList.add('colab-df-quickchart-complete');\n",
              "        }\n",
              "        (() => {\n",
              "          let quickchartButtonEl =\n",
              "            document.querySelector('#df-8e691d67-b167-4c06-9bd4-5f69ea69c7bb button');\n",
              "          quickchartButtonEl.style.display =\n",
              "            google.colab.kernel.accessAllowed ? 'block' : 'none';\n",
              "        })();\n",
              "      </script>\n",
              "    </div>\n",
              "\n",
              "  <div id=\"id_3ec867ec-16a7-4e9e-876b-7a914cf05069\">\n",
              "    <style>\n",
              "      .colab-df-generate {\n",
              "        background-color: #E8F0FE;\n",
              "        border: none;\n",
              "        border-radius: 50%;\n",
              "        cursor: pointer;\n",
              "        display: none;\n",
              "        fill: #1967D2;\n",
              "        height: 32px;\n",
              "        padding: 0 0 0 0;\n",
              "        width: 32px;\n",
              "      }\n",
              "\n",
              "      .colab-df-generate:hover {\n",
              "        background-color: #E2EBFA;\n",
              "        box-shadow: 0px 1px 2px rgba(60, 64, 67, 0.3), 0px 1px 3px 1px rgba(60, 64, 67, 0.15);\n",
              "        fill: #174EA6;\n",
              "      }\n",
              "\n",
              "      [theme=dark] .colab-df-generate {\n",
              "        background-color: #3B4455;\n",
              "        fill: #D2E3FC;\n",
              "      }\n",
              "\n",
              "      [theme=dark] .colab-df-generate:hover {\n",
              "        background-color: #434B5C;\n",
              "        box-shadow: 0px 1px 3px 1px rgba(0, 0, 0, 0.15);\n",
              "        filter: drop-shadow(0px 1px 2px rgba(0, 0, 0, 0.3));\n",
              "        fill: #FFFFFF;\n",
              "      }\n",
              "    </style>\n",
              "    <button class=\"colab-df-generate\" onclick=\"generateWithVariable('df')\"\n",
              "            title=\"Generate code using this dataframe.\"\n",
              "            style=\"display:none;\">\n",
              "\n",
              "  <svg xmlns=\"http://www.w3.org/2000/svg\" height=\"24px\"viewBox=\"0 0 24 24\"\n",
              "       width=\"24px\">\n",
              "    <path d=\"M7,19H8.4L18.45,9,17,7.55,7,17.6ZM5,21V16.75L18.45,3.32a2,2,0,0,1,2.83,0l1.4,1.43a1.91,1.91,0,0,1,.58,1.4,1.91,1.91,0,0,1-.58,1.4L9.25,21ZM18.45,9,17,7.55Zm-12,3A5.31,5.31,0,0,0,4.9,8.1,5.31,5.31,0,0,0,1,6.5,5.31,5.31,0,0,0,4.9,4.9,5.31,5.31,0,0,0,6.5,1,5.31,5.31,0,0,0,8.1,4.9,5.31,5.31,0,0,0,12,6.5,5.46,5.46,0,0,0,6.5,12Z\"/>\n",
              "  </svg>\n",
              "    </button>\n",
              "    <script>\n",
              "      (() => {\n",
              "      const buttonEl =\n",
              "        document.querySelector('#id_3ec867ec-16a7-4e9e-876b-7a914cf05069 button.colab-df-generate');\n",
              "      buttonEl.style.display =\n",
              "        google.colab.kernel.accessAllowed ? 'block' : 'none';\n",
              "\n",
              "      buttonEl.onclick = () => {\n",
              "        google.colab.notebook.generateWithVariable('df');\n",
              "      }\n",
              "      })();\n",
              "    </script>\n",
              "  </div>\n",
              "\n",
              "    </div>\n",
              "  </div>\n"
            ],
            "application/vnd.google.colaboratory.intrinsic+json": {
              "type": "dataframe",
              "variable_name": "df",
              "summary": "{\n  \"name\": \"df\",\n  \"rows\": 200,\n  \"fields\": [\n    {\n      \"column\": \"X_1\",\n      \"properties\": {\n        \"dtype\": \"number\",\n        \"std\": 1.269808386710216,\n        \"min\": -2.059851039646218,\n        \"max\": 3.486147907234487,\n        \"num_unique_values\": 200,\n        \"samples\": [\n          0.2356781491695965,\n          0.11443704641698771,\n          1.0379017583590378\n        ],\n        \"semantic_type\": \"\",\n        \"description\": \"\"\n      }\n    },\n    {\n      \"column\": \"X_2\",\n      \"properties\": {\n        \"dtype\": \"number\",\n        \"std\": 1.4612397321250603,\n        \"min\": -3.423914469881648,\n        \"max\": 3.8919891326538067,\n        \"num_unique_values\": 200,\n        \"samples\": [\n          -0.8090425333688327,\n          2.145363357730863,\n          -1.1827897162215155\n        ],\n        \"semantic_type\": \"\",\n        \"description\": \"\"\n      }\n    },\n    {\n      \"column\": \"label\",\n      \"properties\": {\n        \"dtype\": \"category\",\n        \"num_unique_values\": 2,\n        \"samples\": [\n          \"positive\",\n          \"negative\"\n        ],\n        \"semantic_type\": \"\",\n        \"description\": \"\"\n      }\n    }\n  ]\n}"
            }
          },
          "metadata": {},
          "execution_count": 27
        }
      ]
    },
    {
      "cell_type": "code",
      "source": [
        "import plotly.express as px"
      ],
      "metadata": {
        "id": "-EMvWD2If53s"
      },
      "execution_count": 28,
      "outputs": []
    },
    {
      "cell_type": "code",
      "source": [
        "px.scatter(df,x=\"X_1\", y=\"X_2\",color=\"label\")"
      ],
      "metadata": {
        "colab": {
          "base_uri": "https://localhost:8080/",
          "height": 542
        },
        "id": "JFmaqdfDgfPm",
        "outputId": "1b8594aa-7d05-41b1-a47b-b79205d8e462"
      },
      "execution_count": 29,
      "outputs": [
        {
          "output_type": "display_data",
          "data": {
            "text/html": [
              "<html>\n",
              "<head><meta charset=\"utf-8\" /></head>\n",
              "<body>\n",
              "    <div>            <script src=\"https://cdnjs.cloudflare.com/ajax/libs/mathjax/2.7.5/MathJax.js?config=TeX-AMS-MML_SVG\"></script><script type=\"text/javascript\">if (window.MathJax && window.MathJax.Hub && window.MathJax.Hub.Config) {window.MathJax.Hub.Config({SVG: {font: \"STIX-Web\"}});}</script>                <script type=\"text/javascript\">window.PlotlyConfig = {MathJaxConfig: 'local'};</script>\n",
              "        <script charset=\"utf-8\" src=\"https://cdn.plot.ly/plotly-2.35.2.min.js\"></script>                <div id=\"be61d176-3cb8-4edd-847b-3211aace822c\" class=\"plotly-graph-div\" style=\"height:525px; width:100%;\"></div>            <script type=\"text/javascript\">                                    window.PLOTLYENV=window.PLOTLYENV || {};                                    if (document.getElementById(\"be61d176-3cb8-4edd-847b-3211aace822c\")) {                    Plotly.newPlot(                        \"be61d176-3cb8-4edd-847b-3211aace822c\",                        [{\"hovertemplate\":\"label=negative\\u003cbr\\u003eX_1=%{x}\\u003cbr\\u003eX_2=%{y}\\u003cextra\\u003e\\u003c\\u002fextra\\u003e\",\"legendgroup\":\"negative\",\"marker\":{\"color\":\"#636efa\",\"symbol\":\"circle\"},\"mode\":\"markers\",\"name\":\"negative\",\"orientation\":\"v\",\"showlegend\":true,\"x\":[1.434173635112031,-0.5469796802994843,0.24945568966188492,-1.0476066942141207,1.0832910619757434,0.0032250772357975688,-0.19683979873497215,1.1011976577275857,1.9072880096908222,-1.02113561308211,-1.1890243964309262,-0.9841168963809241,0.7976567283121585,-0.6668487210974013,0.43605818630062343,1.0404406336717182,1.0379017583590378,-0.6665896431292061,-0.5067129215131958,-0.9228829453892919,1.5867583319988618,-1.0464204597595783,2.3389396485994207,-1.1944935743138911,-0.6800950033413216,-0.8297910155085373,1.3250705067295145,-1.0481753395549422,0.3316404302443122,3.486147907234487,0.15315978468509017,-0.27431942937850873,-0.44598479838425975,-1.0704795316824134,0.3715499455724911,-0.5767535999432052,1.0960570141026196,2.199731343460071,-0.6532288263201578,1.5204423488162426,-0.6330693570891105,-1.3018898298573163,1.2063675339608968,1.604948824955505,-0.9122097196345488,0.2356781491695965,1.5222453853198652,1.268835056204761,-0.6677736898683282,1.0449954118473959,-0.00741554577248138,-1.06090632554496,-0.443192967631553,1.5670906141096337,-0.3718258399113319,1.3335118794829988,-1.2770823103063584,-1.1245582546901345,3.150024125877107,-0.26904280055593954,2.842403900484512,-1.4171010153111583,-1.1502394210411435,-0.5580183990596479,-0.9350458699576284,-0.5255894117514601,0.09233329570714344,0.8299507533944536,-0.062111432284645884,-0.3163498648460451,1.0811390139928967,1.2770787556501946,-0.45780057559044174,-1.2761968768979273,3.4059933802379634,-0.47489159766101996,-1.6786904836738152,2.7819580569778863,-0.8508331278401153,1.173619234527523,-0.6901902134888895,1.4600222060453132,-1.0215880314295191,-0.8733575898418926,1.860393113455874,1.7474899019389922,-0.15930635716140973,1.942763205103346,-0.9114702698449234,1.8619038915857051,1.894516412543466,-1.0850010580386786,-0.6772412833392627,1.1456602902749142,-0.7680303358959724,-0.542080851619884,-0.7848968148416233,-1.172132786791159,-0.9221377430009943,-1.0289125004643918],\"xaxis\":\"x\",\"y\":[-0.5937424792168728,-1.0617598692054115,-1.0333614912508065,-0.6937908736014446,-0.9055340458849237,-1.1205013286440806,-2.3693486994866366,0.22312514133001504,0.885041261321615,-1.2672894373822519,-1.6643369666262202,-2.1986432983298556,-0.5276170155152538,0.5902400374466996,-2.431184846867298,-1.4350042230287727,-1.1827897162215155,-1.0122070083872463,-2.5310483348068376,-0.9306826793473737,-0.10775267228457841,0.49783029509314614,-1.26172653531555,-1.356197250621976,-2.783864672043528,-0.8412562573193982,-1.8600717978336267,-0.49943962334147307,-1.4663397533194655,0.5975427484626821,-3.423914469881648,-1.8271013717999334,-0.3397829733573765,-0.547185390861365,-0.8692198189919627,-0.8981580628576675,-0.7127786543459882,-0.23504037042663262,-1.097100203226748,-0.8549927495415822,-1.741160662876014,-2.1638415831456483,-2.321854292912754,1.6298186753214625,0.21130211732064996,-0.8090425333688327,-1.1961245260476296,0.7006974072706913,-1.5842304913802319,-0.6934390910995909,-1.626488668625368,-0.3872285115327685,-0.533875317168361,0.11779391402639261,-0.0687440376915831,-0.016424446069008947,-0.650031223781796,0.030806034194265086,-1.067842872521462,-2.0630775335044813,1.7145704883334507,-3.117055201032854,0.6904286282832777,-2.063380516662323,-0.484024222754067,-2.7837353612767295,-1.405915759661006,-1.94427336417065,-1.7042300485191093,-0.18897377086430545,-0.8944076763115142,-2.7977943422189977,-0.03811275963607108,-1.0799574600243604,-0.7767054260348945,-0.9744685554844783,-0.7834799991909414,1.1054115688517276,-2.201332871115371,-2.2438176686026425,-1.5442076627429402,-0.41965382095526704,-1.4920787085608345,-1.4098972127739773,0.47552607520092405,-0.5073021544232863,-1.3072651852146597,0.6534927201086411,-2.1664317813605196,-0.35998385456389437,-1.1336855500348602,-0.4412254639097881,-0.5202518364532942,-1.2622945580958747,-1.576901800257325,-1.0869131760068007,1.1225880937073387,-1.582148727982375,-2.105524467786564,-1.0583491703900738],\"yaxis\":\"y\",\"type\":\"scatter\"},{\"hovertemplate\":\"label=positive\\u003cbr\\u003eX_1=%{x}\\u003cbr\\u003eX_2=%{y}\\u003cextra\\u003e\\u003c\\u002fextra\\u003e\",\"legendgroup\":\"positive\",\"marker\":{\"color\":\"#EF553B\",\"symbol\":\"circle\"},\"mode\":\"markers\",\"name\":\"positive\",\"orientation\":\"v\",\"showlegend\":true,\"x\":[0.6510436832547352,-0.3410376012882108,0.8617305852770683,1.6027681545263912,0.9365735054085003,0.10821284145501597,0.9655195962216812,-1.0001587915829502,0.11443704641698771,-1.7973232561347752,0.2970587124906483,1.8894200172994657,1.0357772317434946,2.0424401027238863,-0.8318651417803088,-0.5191026555223968,-1.3662843586334787,-1.6041552219245667,0.39186572886284277,2.5748561683765168,-0.23148278903150954,-0.06325539205681219,2.6516134781696623,0.1420115593764577,1.6873853176721323,-0.7807491025005086,-0.27095982951056274,-0.6849483057616574,-0.03628477816024889,0.37533296126232796,2.4469243827115736,-1.1757552880087836,-1.1226980484085467,1.3381071135820148,1.9857056206900054,0.3551154772800872,-1.2928405036391402,2.712178066557498,-0.92463346850637,-0.8808570717236589,0.19335378354673272,-1.6557060190822872,2.184009024732495,0.2144074932590475,-0.6959618145269912,0.9751001133336679,-1.0863991250718785,-0.5395531041201886,-2.059851039646218,0.26270955647378424,-1.3505591921343205,1.2965235317842714,-1.2204920305222637,-1.5453951737046212,1.134848028974001,-0.6826126203231383,-0.22166023730957307,-1.513550696486212,-1.16773623022518,2.471452293656415,1.4535615315098331,-0.34618955384579486,-0.07350275392955319,2.878763476552823,1.1334782198552205,1.1203041951882828,-0.14351937814585247,1.548674247489685,1.0839224441567763,0.6527481560659303,-0.3533281392877743,-0.7801628454249668,3.144663361162778,0.5522634453946011,-1.5839048990797184,-0.2779626074800725,-0.0952772886330977,-1.860351857931264,-0.41420302522970576,-1.7369492090202265,0.7606885612174914,-0.6398022828790222,-0.31698505021383483,0.18729941893382507,1.4613269191532985,-1.3749851211341155,1.7951503151743646,1.6209976516952556,-1.8864099604255016,-1.4265599737161012,-0.6937911366795119,-1.3413277208935337,-0.8708281378824403,-0.27976400639830745,0.6901385461362237,-1.9215116969329675,0.601835294963196,-1.3094696060289863,0.6177532610944598,0.26797144916940585],\"xaxis\":\"x\",\"y\":[0.8689714292342421,2.7318904170989304,0.8313684352127544,1.087409831689059,1.3711767769197787,0.6277025746774652,0.7388063393792065,1.827343387101576,2.145363357730863,-0.6221031730736324,3.003882413282427,0.7229775728153559,0.4221566479032871,1.657690150375862,1.7639181574525318,0.9269107547974382,0.35425055992420984,0.6138399555877183,-0.20820503241061905,2.693471419410173,1.3022635621611014,0.7013832716397305,0.9192538340540002,0.25074625949733076,0.9418447382765991,1.6018358955379393,1.5478315425682314,2.2725532374654795,1.0612484809670166,2.5018015197450882,1.7354546796524906,1.3038107127586032,0.3887655637155524,1.6417486663351777,1.2242774870774038,0.7480738422134088,1.7062344737147905,1.6789201176334347,-1.3183441462023788,1.0542554281245176,0.4592853420396935,-0.30653869519380117,1.1137032577311137,-0.36946864275666047,0.35868687509394304,0.1847448541880523,0.8489984323078783,2.82014130225763,-0.6126492766826697,2.523199215531265,0.16136294594849687,0.9630936044017779,1.1227631933835196,1.3770502242128133,1.390305798605041,2.32532078017761,-0.3730534770380276,0.956055652007788,1.2773279532004937,1.4166760298111751,0.27861055587475914,2.4866251664707213,0.7020043875666935,1.7171654855706007,2.3196542845601145,0.7602061407961114,1.3783900115066883,1.399625573221033,2.480798816640032,-0.37340748399885637,0.9153769522685488,0.8097016440617862,3.163970968194664,1.0940662029815658,-0.5515649003233232,2.6123526471290046,0.3121040404228138,0.376943521515933,0.5864857128679506,0.08792592017205914,0.9843691019956373,0.7278115478880403,2.1963294841409686,2.033058387897179,2.7395367184983295,0.09152183506577449,1.7953547137406425,1.530712288503985,-0.03174448455364143,0.5605900386584055,2.0896382461468064,1.1423076038254933,0.5078208733939417,2.9125706387992016,1.9439762341805595,-0.10689791208897925,3.8919891326538067,0.9496468818941581,0.7510261408268538,2.9731999261871334],\"yaxis\":\"y\",\"type\":\"scatter\"}],                        {\"template\":{\"data\":{\"histogram2dcontour\":[{\"type\":\"histogram2dcontour\",\"colorbar\":{\"outlinewidth\":0,\"ticks\":\"\"},\"colorscale\":[[0.0,\"#0d0887\"],[0.1111111111111111,\"#46039f\"],[0.2222222222222222,\"#7201a8\"],[0.3333333333333333,\"#9c179e\"],[0.4444444444444444,\"#bd3786\"],[0.5555555555555556,\"#d8576b\"],[0.6666666666666666,\"#ed7953\"],[0.7777777777777778,\"#fb9f3a\"],[0.8888888888888888,\"#fdca26\"],[1.0,\"#f0f921\"]]}],\"choropleth\":[{\"type\":\"choropleth\",\"colorbar\":{\"outlinewidth\":0,\"ticks\":\"\"}}],\"histogram2d\":[{\"type\":\"histogram2d\",\"colorbar\":{\"outlinewidth\":0,\"ticks\":\"\"},\"colorscale\":[[0.0,\"#0d0887\"],[0.1111111111111111,\"#46039f\"],[0.2222222222222222,\"#7201a8\"],[0.3333333333333333,\"#9c179e\"],[0.4444444444444444,\"#bd3786\"],[0.5555555555555556,\"#d8576b\"],[0.6666666666666666,\"#ed7953\"],[0.7777777777777778,\"#fb9f3a\"],[0.8888888888888888,\"#fdca26\"],[1.0,\"#f0f921\"]]}],\"heatmap\":[{\"type\":\"heatmap\",\"colorbar\":{\"outlinewidth\":0,\"ticks\":\"\"},\"colorscale\":[[0.0,\"#0d0887\"],[0.1111111111111111,\"#46039f\"],[0.2222222222222222,\"#7201a8\"],[0.3333333333333333,\"#9c179e\"],[0.4444444444444444,\"#bd3786\"],[0.5555555555555556,\"#d8576b\"],[0.6666666666666666,\"#ed7953\"],[0.7777777777777778,\"#fb9f3a\"],[0.8888888888888888,\"#fdca26\"],[1.0,\"#f0f921\"]]}],\"heatmapgl\":[{\"type\":\"heatmapgl\",\"colorbar\":{\"outlinewidth\":0,\"ticks\":\"\"},\"colorscale\":[[0.0,\"#0d0887\"],[0.1111111111111111,\"#46039f\"],[0.2222222222222222,\"#7201a8\"],[0.3333333333333333,\"#9c179e\"],[0.4444444444444444,\"#bd3786\"],[0.5555555555555556,\"#d8576b\"],[0.6666666666666666,\"#ed7953\"],[0.7777777777777778,\"#fb9f3a\"],[0.8888888888888888,\"#fdca26\"],[1.0,\"#f0f921\"]]}],\"contourcarpet\":[{\"type\":\"contourcarpet\",\"colorbar\":{\"outlinewidth\":0,\"ticks\":\"\"}}],\"contour\":[{\"type\":\"contour\",\"colorbar\":{\"outlinewidth\":0,\"ticks\":\"\"},\"colorscale\":[[0.0,\"#0d0887\"],[0.1111111111111111,\"#46039f\"],[0.2222222222222222,\"#7201a8\"],[0.3333333333333333,\"#9c179e\"],[0.4444444444444444,\"#bd3786\"],[0.5555555555555556,\"#d8576b\"],[0.6666666666666666,\"#ed7953\"],[0.7777777777777778,\"#fb9f3a\"],[0.8888888888888888,\"#fdca26\"],[1.0,\"#f0f921\"]]}],\"surface\":[{\"type\":\"surface\",\"colorbar\":{\"outlinewidth\":0,\"ticks\":\"\"},\"colorscale\":[[0.0,\"#0d0887\"],[0.1111111111111111,\"#46039f\"],[0.2222222222222222,\"#7201a8\"],[0.3333333333333333,\"#9c179e\"],[0.4444444444444444,\"#bd3786\"],[0.5555555555555556,\"#d8576b\"],[0.6666666666666666,\"#ed7953\"],[0.7777777777777778,\"#fb9f3a\"],[0.8888888888888888,\"#fdca26\"],[1.0,\"#f0f921\"]]}],\"mesh3d\":[{\"type\":\"mesh3d\",\"colorbar\":{\"outlinewidth\":0,\"ticks\":\"\"}}],\"scatter\":[{\"fillpattern\":{\"fillmode\":\"overlay\",\"size\":10,\"solidity\":0.2},\"type\":\"scatter\"}],\"parcoords\":[{\"type\":\"parcoords\",\"line\":{\"colorbar\":{\"outlinewidth\":0,\"ticks\":\"\"}}}],\"scatterpolargl\":[{\"type\":\"scatterpolargl\",\"marker\":{\"colorbar\":{\"outlinewidth\":0,\"ticks\":\"\"}}}],\"bar\":[{\"error_x\":{\"color\":\"#2a3f5f\"},\"error_y\":{\"color\":\"#2a3f5f\"},\"marker\":{\"line\":{\"color\":\"#E5ECF6\",\"width\":0.5},\"pattern\":{\"fillmode\":\"overlay\",\"size\":10,\"solidity\":0.2}},\"type\":\"bar\"}],\"scattergeo\":[{\"type\":\"scattergeo\",\"marker\":{\"colorbar\":{\"outlinewidth\":0,\"ticks\":\"\"}}}],\"scatterpolar\":[{\"type\":\"scatterpolar\",\"marker\":{\"colorbar\":{\"outlinewidth\":0,\"ticks\":\"\"}}}],\"histogram\":[{\"marker\":{\"pattern\":{\"fillmode\":\"overlay\",\"size\":10,\"solidity\":0.2}},\"type\":\"histogram\"}],\"scattergl\":[{\"type\":\"scattergl\",\"marker\":{\"colorbar\":{\"outlinewidth\":0,\"ticks\":\"\"}}}],\"scatter3d\":[{\"type\":\"scatter3d\",\"line\":{\"colorbar\":{\"outlinewidth\":0,\"ticks\":\"\"}},\"marker\":{\"colorbar\":{\"outlinewidth\":0,\"ticks\":\"\"}}}],\"scattermapbox\":[{\"type\":\"scattermapbox\",\"marker\":{\"colorbar\":{\"outlinewidth\":0,\"ticks\":\"\"}}}],\"scatterternary\":[{\"type\":\"scatterternary\",\"marker\":{\"colorbar\":{\"outlinewidth\":0,\"ticks\":\"\"}}}],\"scattercarpet\":[{\"type\":\"scattercarpet\",\"marker\":{\"colorbar\":{\"outlinewidth\":0,\"ticks\":\"\"}}}],\"carpet\":[{\"aaxis\":{\"endlinecolor\":\"#2a3f5f\",\"gridcolor\":\"white\",\"linecolor\":\"white\",\"minorgridcolor\":\"white\",\"startlinecolor\":\"#2a3f5f\"},\"baxis\":{\"endlinecolor\":\"#2a3f5f\",\"gridcolor\":\"white\",\"linecolor\":\"white\",\"minorgridcolor\":\"white\",\"startlinecolor\":\"#2a3f5f\"},\"type\":\"carpet\"}],\"table\":[{\"cells\":{\"fill\":{\"color\":\"#EBF0F8\"},\"line\":{\"color\":\"white\"}},\"header\":{\"fill\":{\"color\":\"#C8D4E3\"},\"line\":{\"color\":\"white\"}},\"type\":\"table\"}],\"barpolar\":[{\"marker\":{\"line\":{\"color\":\"#E5ECF6\",\"width\":0.5},\"pattern\":{\"fillmode\":\"overlay\",\"size\":10,\"solidity\":0.2}},\"type\":\"barpolar\"}],\"pie\":[{\"automargin\":true,\"type\":\"pie\"}]},\"layout\":{\"autotypenumbers\":\"strict\",\"colorway\":[\"#636efa\",\"#EF553B\",\"#00cc96\",\"#ab63fa\",\"#FFA15A\",\"#19d3f3\",\"#FF6692\",\"#B6E880\",\"#FF97FF\",\"#FECB52\"],\"font\":{\"color\":\"#2a3f5f\"},\"hovermode\":\"closest\",\"hoverlabel\":{\"align\":\"left\"},\"paper_bgcolor\":\"white\",\"plot_bgcolor\":\"#E5ECF6\",\"polar\":{\"bgcolor\":\"#E5ECF6\",\"angularaxis\":{\"gridcolor\":\"white\",\"linecolor\":\"white\",\"ticks\":\"\"},\"radialaxis\":{\"gridcolor\":\"white\",\"linecolor\":\"white\",\"ticks\":\"\"}},\"ternary\":{\"bgcolor\":\"#E5ECF6\",\"aaxis\":{\"gridcolor\":\"white\",\"linecolor\":\"white\",\"ticks\":\"\"},\"baxis\":{\"gridcolor\":\"white\",\"linecolor\":\"white\",\"ticks\":\"\"},\"caxis\":{\"gridcolor\":\"white\",\"linecolor\":\"white\",\"ticks\":\"\"}},\"coloraxis\":{\"colorbar\":{\"outlinewidth\":0,\"ticks\":\"\"}},\"colorscale\":{\"sequential\":[[0.0,\"#0d0887\"],[0.1111111111111111,\"#46039f\"],[0.2222222222222222,\"#7201a8\"],[0.3333333333333333,\"#9c179e\"],[0.4444444444444444,\"#bd3786\"],[0.5555555555555556,\"#d8576b\"],[0.6666666666666666,\"#ed7953\"],[0.7777777777777778,\"#fb9f3a\"],[0.8888888888888888,\"#fdca26\"],[1.0,\"#f0f921\"]],\"sequentialminus\":[[0.0,\"#0d0887\"],[0.1111111111111111,\"#46039f\"],[0.2222222222222222,\"#7201a8\"],[0.3333333333333333,\"#9c179e\"],[0.4444444444444444,\"#bd3786\"],[0.5555555555555556,\"#d8576b\"],[0.6666666666666666,\"#ed7953\"],[0.7777777777777778,\"#fb9f3a\"],[0.8888888888888888,\"#fdca26\"],[1.0,\"#f0f921\"]],\"diverging\":[[0,\"#8e0152\"],[0.1,\"#c51b7d\"],[0.2,\"#de77ae\"],[0.3,\"#f1b6da\"],[0.4,\"#fde0ef\"],[0.5,\"#f7f7f7\"],[0.6,\"#e6f5d0\"],[0.7,\"#b8e186\"],[0.8,\"#7fbc41\"],[0.9,\"#4d9221\"],[1,\"#276419\"]]},\"xaxis\":{\"gridcolor\":\"white\",\"linecolor\":\"white\",\"ticks\":\"\",\"title\":{\"standoff\":15},\"zerolinecolor\":\"white\",\"automargin\":true,\"zerolinewidth\":2},\"yaxis\":{\"gridcolor\":\"white\",\"linecolor\":\"white\",\"ticks\":\"\",\"title\":{\"standoff\":15},\"zerolinecolor\":\"white\",\"automargin\":true,\"zerolinewidth\":2},\"scene\":{\"xaxis\":{\"backgroundcolor\":\"#E5ECF6\",\"gridcolor\":\"white\",\"linecolor\":\"white\",\"showbackground\":true,\"ticks\":\"\",\"zerolinecolor\":\"white\",\"gridwidth\":2},\"yaxis\":{\"backgroundcolor\":\"#E5ECF6\",\"gridcolor\":\"white\",\"linecolor\":\"white\",\"showbackground\":true,\"ticks\":\"\",\"zerolinecolor\":\"white\",\"gridwidth\":2},\"zaxis\":{\"backgroundcolor\":\"#E5ECF6\",\"gridcolor\":\"white\",\"linecolor\":\"white\",\"showbackground\":true,\"ticks\":\"\",\"zerolinecolor\":\"white\",\"gridwidth\":2}},\"shapedefaults\":{\"line\":{\"color\":\"#2a3f5f\"}},\"annotationdefaults\":{\"arrowcolor\":\"#2a3f5f\",\"arrowhead\":0,\"arrowwidth\":1},\"geo\":{\"bgcolor\":\"white\",\"landcolor\":\"#E5ECF6\",\"subunitcolor\":\"white\",\"showland\":true,\"showlakes\":true,\"lakecolor\":\"white\"},\"title\":{\"x\":0.05},\"mapbox\":{\"style\":\"light\"}}},\"xaxis\":{\"anchor\":\"y\",\"domain\":[0.0,1.0],\"title\":{\"text\":\"X_1\"}},\"yaxis\":{\"anchor\":\"x\",\"domain\":[0.0,1.0],\"title\":{\"text\":\"X_2\"}},\"legend\":{\"title\":{\"text\":\"label\"},\"tracegroupgap\":0},\"margin\":{\"t\":60}},                        {\"responsive\": true}                    ).then(function(){\n",
              "                            \n",
              "var gd = document.getElementById('be61d176-3cb8-4edd-847b-3211aace822c');\n",
              "var x = new MutationObserver(function (mutations, observer) {{\n",
              "        var display = window.getComputedStyle(gd).display;\n",
              "        if (!display || display === 'none') {{\n",
              "            console.log([gd, 'removed!']);\n",
              "            Plotly.purge(gd);\n",
              "            observer.disconnect();\n",
              "        }}\n",
              "}});\n",
              "\n",
              "// Listen for the removal of the full notebook cells\n",
              "var notebookContainer = gd.closest('#notebook-container');\n",
              "if (notebookContainer) {{\n",
              "    x.observe(notebookContainer, {childList: true});\n",
              "}}\n",
              "\n",
              "// Listen for the clearing of the current output cell\n",
              "var outputEl = gd.closest('.output');\n",
              "if (outputEl) {{\n",
              "    x.observe(outputEl, {childList: true});\n",
              "}}\n",
              "\n",
              "                        })                };                            </script>        </div>\n",
              "</body>\n",
              "</html>"
            ]
          },
          "metadata": {}
        }
      ]
    },
    {
      "cell_type": "code",
      "source": [
        "def sigmoid(x):\n",
        "  x = np.clip(x,-500,500)\n",
        "  return 1/(1 + np.exp(-x))"
      ],
      "metadata": {
        "id": "0w5L1S-ngqh4"
      },
      "execution_count": 68,
      "outputs": []
    },
    {
      "cell_type": "code",
      "source": [
        "w= np.array([1.0,2.0])\n",
        "b = 3.0\n",
        "\n",
        "w = np.reshape(w, (D,1))\n"
      ],
      "metadata": {
        "id": "2xdzfGChhrOB"
      },
      "execution_count": 31,
      "outputs": []
    },
    {
      "cell_type": "code",
      "source": [
        "def model(x,w,b):\n",
        "  logits = np.matmul(x,w) + b\n",
        "  return sigmoid(logits)\n",
        "\n",
        "y_pred = model(X,w,b)\n",
        "print(f\" ypred= {list(y_pred)}\\n target = {list(y)}\")"
      ],
      "metadata": {
        "colab": {
          "base_uri": "https://localhost:8080/"
        },
        "id": "fUK4ymYYiJim",
        "outputId": "02ffb3fa-c60f-4079-bab7-345b5000dd7f"
      },
      "execution_count": 32,
      "outputs": [
        {
          "output_type": "stream",
          "name": "stdout",
          "text": [
            " ypred= [array([0.96255394]), array([0.58163786]), array([0.99545416]), array([0.7654388]), array([0.63756511]), array([0.90655028]), array([0.68183605]), array([0.99970337]), array([0.99602785]), array([0.99886228]), array([0.99874445]), array([0.98742783]), array([0.99569272]), array([0.12613896]), array([0.99651059]), array([0.99939227]), array([0.98951685]), array([0.9987425]), array([0.36453962]), array([0.1798007]), array([0.48961909]), array([0.99990902]), array([0.99823066]), array([0.99246094]), array([0.08460181]), array([0.9997655]), array([0.93948398]), array([0.97107314]), array([0.19367404]), array([0.76322313]), array([0.8418852]), array([0.99665178]), array([0.98706398]), array([0.91231358]), array([0.93236033]), array([0.57664026]), array([0.07117296]), array([0.9514529]), array([0.55372966]), array([0.99998265]), array([0.98752226]), array([0.95022756]), array([0.94350697]), array([0.99538145]), array([0.98712502]), array([0.99944174]), array([0.28763706]), array([0.03740515]), array([0.97450641]), array([0.61956363]), array([0.99860167]), array([0.6467827]), array([0.99560517]), array([0.72170714]), array([0.59843799]), array([0.99705502]), array([0.99895235]), array([0.99385659]), array([0.9997704]), array([0.99986604]), array([0.98824749]), array([0.99953881]), array([0.02425285]), array([0.28322463]), array([0.93430825]), array([0.99951048]), array([0.86697225]), array([0.6974427]), array([0.83659527]), array([0.99940968]), array([0.99224216]), array([0.99405728]), array([0.65179309]), array([0.93526329]), array([0.99124772]), array([0.99988495]), array([0.36324168]), array([0.98562314]), array([0.98388763]), array([0.53806887]), array([0.67507219]), array([0.99939605]), array([0.9224042]), array([0.94323828]), array([0.95353213]), array([0.24686727]), array([0.98718941]), array([0.06725923]), array([0.39237473]), array([0.99961604]), array([0.97370162]), array([0.92486731]), array([0.99969677]), array([0.42919174]), array([0.9997538]), array([0.83446292]), array([0.89378466]), array([0.87784365]), array([0.99802007]), array([0.99656477]), array([0.98245067]), array([0.98535215]), array([0.99900866]), array([0.3023284]), array([0.99905938]), array([0.93450953]), array([0.43526713]), array([0.7621742]), array([0.8159366]), array([0.88414]), array([0.99185908]), array([0.9234863]), array([0.96765952]), array([0.98662184]), array([0.98771384]), array([0.99975274]), array([0.60416628]), array([0.87402812]), array([0.99337845]), array([0.99951315]), array([0.98701007]), array([0.99990977]), array([0.99984513]), array([0.9822653]), array([0.99646224]), array([0.99636412]), array([0.99935649]), array([0.19857924]), array([0.9998821]), array([0.94813896]), array([0.99990595]), array([0.98876503]), array([0.00945969]), array([0.96197036]), array([0.978943]), array([0.15646363]), array([0.99999617]), array([0.74967988]), array([0.04339443]), array([0.9967968]), array([0.56966924]), array([0.57760889]), array([0.99964631]), array([0.4853552]), array([0.38448098]), array([0.97149982]), array([0.86915808]), array([0.90934823]), array([0.90823929]), array([0.21106631]), array([0.92172177]), array([0.97721865]), array([0.39266784]), array([0.99225231]), array([0.64018595]), array([0.80828466]), array([0.99676158]), array([0.97845478]), array([0.43889435]), array([0.99915529]), array([0.99966222]), array([0.09504809]), array([0.42213476]), array([0.3146205]), array([0.97393407]), array([0.99929275]), array([0.2678133]), array([0.33333226]), array([0.99995181]), array([0.85912707]), array([0.99977198]), array([0.99953936]), array([0.99701583]), array([0.74079431]), array([0.93670844]), array([0.97663527]), array([0.9984769]), array([0.55630104]), array([0.99807278]), array([0.09583934]), array([0.98098423]), array([0.98435655]), array([0.9325883]), array([0.73740958]), array([0.95870388]), array([0.78283339]), array([0.9998056]), array([0.8349428]), array([0.28458436]), array([0.57054934]), array([0.99948872]), array([0.98857295]), array([0.70364011]), array([0.99998864]), array([0.20809772]), array([0.10591285]), array([0.97313829]), array([0.99405833]), array([0.46366147]), array([0.99990041])]\n",
            " target = [array([0]), array([0]), array([1]), array([0]), array([0]), array([0]), array([0]), array([1]), array([1]), array([1]), array([1]), array([1]), array([1]), array([0]), array([1]), array([1]), array([0]), array([0]), array([0]), array([0]), array([1]), array([1]), array([1]), array([1]), array([0]), array([1]), array([0]), array([0]), array([0]), array([0]), array([0]), array([1]), array([1]), array([1]), array([1]), array([0]), array([0]), array([1]), array([0]), array([1]), array([0]), array([0]), array([0]), array([1]), array([1]), array([1]), array([0]), array([0]), array([1]), array([0]), array([1]), array([0]), array([1]), array([0]), array([0]), array([1]), array([1]), array([1]), array([1]), array([1]), array([1]), array([0]), array([0]), array([0]), array([1]), array([1]), array([0]), array([0]), array([0]), array([1]), array([1]), array([1]), array([0]), array([0]), array([0]), array([1]), array([1]), array([1]), array([1]), array([0]), array([1]), array([1]), array([1]), array([0]), array([1]), array([0]), array([1]), array([0]), array([0]), array([0]), array([1]), array([0]), array([1]), array([1]), array([1]), array([0]), array([0]), array([1]), array([1]), array([0]), array([1]), array([1]), array([1]), array([0]), array([1]), array([0]), array([0]), array([0]), array([0]), array([1]), array([0]), array([0]), array([1]), array([0]), array([1]), array([1]), array([0]), array([0]), array([1]), array([1]), array([1]), array([1]), array([1]), array([0]), array([1]), array([1]), array([1]), array([0]), array([1]), array([1]), array([0]), array([1]), array([0]), array([0]), array([1]), array([0]), array([1]), array([0]), array([0]), array([1]), array([0]), array([1]), array([1]), array([0]), array([0]), array([1]), array([1]), array([0]), array([0]), array([0]), array([0]), array([1]), array([0]), array([0]), array([0]), array([1]), array([1]), array([1]), array([0]), array([1]), array([0]), array([0]), array([0]), array([0]), array([0]), array([1]), array([0]), array([0]), array([1]), array([1]), array([1]), array([1]), array([0]), array([1]), array([1]), array([0]), array([1]), array([0]), array([0]), array([0]), array([1]), array([0]), array([0]), array([0]), array([1]), array([0]), array([1]), array([0]), array([0]), array([0]), array([1]), array([0]), array([1]), array([1]), array([0]), array([0]), array([1]), array([1]), array([0]), array([1])]\n"
          ]
        }
      ]
    },
    {
      "cell_type": "code",
      "source": [
        "def plot(w,b):\n",
        "  import plotly.graph_objects as go\n",
        "  def get_points(w,b,x1,x2):\n",
        "    A,B = w[0,0], w[1,0]\n",
        "    C= b\n",
        "    return {\n",
        "        \"x\":[x1,x2],\n",
        "        \"y\":[(C-A*x1)/B, (C-A*x2)/B]\n",
        "    }\n",
        "  fig1 = px.scatter(df,x='X_1',y=\"X_2\",color=\"label\")\n",
        "  fig2= go.Figure(go.Scatter(**get_points(w,b,-2,4), name=\"brzeg\"))\n",
        "  return go.Figure(data=fig1.data + fig2.data)"
      ],
      "metadata": {
        "id": "YCBlZiqxijPt"
      },
      "execution_count": 33,
      "outputs": []
    },
    {
      "cell_type": "code",
      "source": [
        "plot(w,b)"
      ],
      "metadata": {
        "colab": {
          "base_uri": "https://localhost:8080/",
          "height": 542
        },
        "id": "nYfF6WvDleeS",
        "outputId": "4a3274f0-a19d-4e4f-b659-a501d6e8e2a7"
      },
      "execution_count": 34,
      "outputs": [
        {
          "output_type": "display_data",
          "data": {
            "text/html": [
              "<html>\n",
              "<head><meta charset=\"utf-8\" /></head>\n",
              "<body>\n",
              "    <div>            <script src=\"https://cdnjs.cloudflare.com/ajax/libs/mathjax/2.7.5/MathJax.js?config=TeX-AMS-MML_SVG\"></script><script type=\"text/javascript\">if (window.MathJax && window.MathJax.Hub && window.MathJax.Hub.Config) {window.MathJax.Hub.Config({SVG: {font: \"STIX-Web\"}});}</script>                <script type=\"text/javascript\">window.PlotlyConfig = {MathJaxConfig: 'local'};</script>\n",
              "        <script charset=\"utf-8\" src=\"https://cdn.plot.ly/plotly-2.35.2.min.js\"></script>                <div id=\"9f3c09a8-ef36-4116-8af8-00a845c3a00d\" class=\"plotly-graph-div\" style=\"height:525px; width:100%;\"></div>            <script type=\"text/javascript\">                                    window.PLOTLYENV=window.PLOTLYENV || {};                                    if (document.getElementById(\"9f3c09a8-ef36-4116-8af8-00a845c3a00d\")) {                    Plotly.newPlot(                        \"9f3c09a8-ef36-4116-8af8-00a845c3a00d\",                        [{\"hovertemplate\":\"label=negative\\u003cbr\\u003eX_1=%{x}\\u003cbr\\u003eX_2=%{y}\\u003cextra\\u003e\\u003c\\u002fextra\\u003e\",\"legendgroup\":\"negative\",\"marker\":{\"color\":\"#636efa\",\"symbol\":\"circle\"},\"mode\":\"markers\",\"name\":\"negative\",\"orientation\":\"v\",\"showlegend\":true,\"x\":[1.434173635112031,-0.5469796802994843,0.24945568966188492,-1.0476066942141207,1.0832910619757434,0.0032250772357975688,-0.19683979873497215,1.1011976577275857,1.9072880096908222,-1.02113561308211,-1.1890243964309262,-0.9841168963809241,0.7976567283121585,-0.6668487210974013,0.43605818630062343,1.0404406336717182,1.0379017583590378,-0.6665896431292061,-0.5067129215131958,-0.9228829453892919,1.5867583319988618,-1.0464204597595783,2.3389396485994207,-1.1944935743138911,-0.6800950033413216,-0.8297910155085373,1.3250705067295145,-1.0481753395549422,0.3316404302443122,3.486147907234487,0.15315978468509017,-0.27431942937850873,-0.44598479838425975,-1.0704795316824134,0.3715499455724911,-0.5767535999432052,1.0960570141026196,2.199731343460071,-0.6532288263201578,1.5204423488162426,-0.6330693570891105,-1.3018898298573163,1.2063675339608968,1.604948824955505,-0.9122097196345488,0.2356781491695965,1.5222453853198652,1.268835056204761,-0.6677736898683282,1.0449954118473959,-0.00741554577248138,-1.06090632554496,-0.443192967631553,1.5670906141096337,-0.3718258399113319,1.3335118794829988,-1.2770823103063584,-1.1245582546901345,3.150024125877107,-0.26904280055593954,2.842403900484512,-1.4171010153111583,-1.1502394210411435,-0.5580183990596479,-0.9350458699576284,-0.5255894117514601,0.09233329570714344,0.8299507533944536,-0.062111432284645884,-0.3163498648460451,1.0811390139928967,1.2770787556501946,-0.45780057559044174,-1.2761968768979273,3.4059933802379634,-0.47489159766101996,-1.6786904836738152,2.7819580569778863,-0.8508331278401153,1.173619234527523,-0.6901902134888895,1.4600222060453132,-1.0215880314295191,-0.8733575898418926,1.860393113455874,1.7474899019389922,-0.15930635716140973,1.942763205103346,-0.9114702698449234,1.8619038915857051,1.894516412543466,-1.0850010580386786,-0.6772412833392627,1.1456602902749142,-0.7680303358959724,-0.542080851619884,-0.7848968148416233,-1.172132786791159,-0.9221377430009943,-1.0289125004643918],\"xaxis\":\"x\",\"y\":[-0.5937424792168728,-1.0617598692054115,-1.0333614912508065,-0.6937908736014446,-0.9055340458849237,-1.1205013286440806,-2.3693486994866366,0.22312514133001504,0.885041261321615,-1.2672894373822519,-1.6643369666262202,-2.1986432983298556,-0.5276170155152538,0.5902400374466996,-2.431184846867298,-1.4350042230287727,-1.1827897162215155,-1.0122070083872463,-2.5310483348068376,-0.9306826793473737,-0.10775267228457841,0.49783029509314614,-1.26172653531555,-1.356197250621976,-2.783864672043528,-0.8412562573193982,-1.8600717978336267,-0.49943962334147307,-1.4663397533194655,0.5975427484626821,-3.423914469881648,-1.8271013717999334,-0.3397829733573765,-0.547185390861365,-0.8692198189919627,-0.8981580628576675,-0.7127786543459882,-0.23504037042663262,-1.097100203226748,-0.8549927495415822,-1.741160662876014,-2.1638415831456483,-2.321854292912754,1.6298186753214625,0.21130211732064996,-0.8090425333688327,-1.1961245260476296,0.7006974072706913,-1.5842304913802319,-0.6934390910995909,-1.626488668625368,-0.3872285115327685,-0.533875317168361,0.11779391402639261,-0.0687440376915831,-0.016424446069008947,-0.650031223781796,0.030806034194265086,-1.067842872521462,-2.0630775335044813,1.7145704883334507,-3.117055201032854,0.6904286282832777,-2.063380516662323,-0.484024222754067,-2.7837353612767295,-1.405915759661006,-1.94427336417065,-1.7042300485191093,-0.18897377086430545,-0.8944076763115142,-2.7977943422189977,-0.03811275963607108,-1.0799574600243604,-0.7767054260348945,-0.9744685554844783,-0.7834799991909414,1.1054115688517276,-2.201332871115371,-2.2438176686026425,-1.5442076627429402,-0.41965382095526704,-1.4920787085608345,-1.4098972127739773,0.47552607520092405,-0.5073021544232863,-1.3072651852146597,0.6534927201086411,-2.1664317813605196,-0.35998385456389437,-1.1336855500348602,-0.4412254639097881,-0.5202518364532942,-1.2622945580958747,-1.576901800257325,-1.0869131760068007,1.1225880937073387,-1.582148727982375,-2.105524467786564,-1.0583491703900738],\"yaxis\":\"y\",\"type\":\"scatter\"},{\"hovertemplate\":\"label=positive\\u003cbr\\u003eX_1=%{x}\\u003cbr\\u003eX_2=%{y}\\u003cextra\\u003e\\u003c\\u002fextra\\u003e\",\"legendgroup\":\"positive\",\"marker\":{\"color\":\"#EF553B\",\"symbol\":\"circle\"},\"mode\":\"markers\",\"name\":\"positive\",\"orientation\":\"v\",\"showlegend\":true,\"x\":[0.6510436832547352,-0.3410376012882108,0.8617305852770683,1.6027681545263912,0.9365735054085003,0.10821284145501597,0.9655195962216812,-1.0001587915829502,0.11443704641698771,-1.7973232561347752,0.2970587124906483,1.8894200172994657,1.0357772317434946,2.0424401027238863,-0.8318651417803088,-0.5191026555223968,-1.3662843586334787,-1.6041552219245667,0.39186572886284277,2.5748561683765168,-0.23148278903150954,-0.06325539205681219,2.6516134781696623,0.1420115593764577,1.6873853176721323,-0.7807491025005086,-0.27095982951056274,-0.6849483057616574,-0.03628477816024889,0.37533296126232796,2.4469243827115736,-1.1757552880087836,-1.1226980484085467,1.3381071135820148,1.9857056206900054,0.3551154772800872,-1.2928405036391402,2.712178066557498,-0.92463346850637,-0.8808570717236589,0.19335378354673272,-1.6557060190822872,2.184009024732495,0.2144074932590475,-0.6959618145269912,0.9751001133336679,-1.0863991250718785,-0.5395531041201886,-2.059851039646218,0.26270955647378424,-1.3505591921343205,1.2965235317842714,-1.2204920305222637,-1.5453951737046212,1.134848028974001,-0.6826126203231383,-0.22166023730957307,-1.513550696486212,-1.16773623022518,2.471452293656415,1.4535615315098331,-0.34618955384579486,-0.07350275392955319,2.878763476552823,1.1334782198552205,1.1203041951882828,-0.14351937814585247,1.548674247489685,1.0839224441567763,0.6527481560659303,-0.3533281392877743,-0.7801628454249668,3.144663361162778,0.5522634453946011,-1.5839048990797184,-0.2779626074800725,-0.0952772886330977,-1.860351857931264,-0.41420302522970576,-1.7369492090202265,0.7606885612174914,-0.6398022828790222,-0.31698505021383483,0.18729941893382507,1.4613269191532985,-1.3749851211341155,1.7951503151743646,1.6209976516952556,-1.8864099604255016,-1.4265599737161012,-0.6937911366795119,-1.3413277208935337,-0.8708281378824403,-0.27976400639830745,0.6901385461362237,-1.9215116969329675,0.601835294963196,-1.3094696060289863,0.6177532610944598,0.26797144916940585],\"xaxis\":\"x\",\"y\":[0.8689714292342421,2.7318904170989304,0.8313684352127544,1.087409831689059,1.3711767769197787,0.6277025746774652,0.7388063393792065,1.827343387101576,2.145363357730863,-0.6221031730736324,3.003882413282427,0.7229775728153559,0.4221566479032871,1.657690150375862,1.7639181574525318,0.9269107547974382,0.35425055992420984,0.6138399555877183,-0.20820503241061905,2.693471419410173,1.3022635621611014,0.7013832716397305,0.9192538340540002,0.25074625949733076,0.9418447382765991,1.6018358955379393,1.5478315425682314,2.2725532374654795,1.0612484809670166,2.5018015197450882,1.7354546796524906,1.3038107127586032,0.3887655637155524,1.6417486663351777,1.2242774870774038,0.7480738422134088,1.7062344737147905,1.6789201176334347,-1.3183441462023788,1.0542554281245176,0.4592853420396935,-0.30653869519380117,1.1137032577311137,-0.36946864275666047,0.35868687509394304,0.1847448541880523,0.8489984323078783,2.82014130225763,-0.6126492766826697,2.523199215531265,0.16136294594849687,0.9630936044017779,1.1227631933835196,1.3770502242128133,1.390305798605041,2.32532078017761,-0.3730534770380276,0.956055652007788,1.2773279532004937,1.4166760298111751,0.27861055587475914,2.4866251664707213,0.7020043875666935,1.7171654855706007,2.3196542845601145,0.7602061407961114,1.3783900115066883,1.399625573221033,2.480798816640032,-0.37340748399885637,0.9153769522685488,0.8097016440617862,3.163970968194664,1.0940662029815658,-0.5515649003233232,2.6123526471290046,0.3121040404228138,0.376943521515933,0.5864857128679506,0.08792592017205914,0.9843691019956373,0.7278115478880403,2.1963294841409686,2.033058387897179,2.7395367184983295,0.09152183506577449,1.7953547137406425,1.530712288503985,-0.03174448455364143,0.5605900386584055,2.0896382461468064,1.1423076038254933,0.5078208733939417,2.9125706387992016,1.9439762341805595,-0.10689791208897925,3.8919891326538067,0.9496468818941581,0.7510261408268538,2.9731999261871334],\"yaxis\":\"y\",\"type\":\"scatter\"},{\"name\":\"brzeg\",\"x\":[-2,4],\"y\":[2.5,-0.5],\"type\":\"scatter\"}],                        {\"template\":{\"data\":{\"histogram2dcontour\":[{\"type\":\"histogram2dcontour\",\"colorbar\":{\"outlinewidth\":0,\"ticks\":\"\"},\"colorscale\":[[0.0,\"#0d0887\"],[0.1111111111111111,\"#46039f\"],[0.2222222222222222,\"#7201a8\"],[0.3333333333333333,\"#9c179e\"],[0.4444444444444444,\"#bd3786\"],[0.5555555555555556,\"#d8576b\"],[0.6666666666666666,\"#ed7953\"],[0.7777777777777778,\"#fb9f3a\"],[0.8888888888888888,\"#fdca26\"],[1.0,\"#f0f921\"]]}],\"choropleth\":[{\"type\":\"choropleth\",\"colorbar\":{\"outlinewidth\":0,\"ticks\":\"\"}}],\"histogram2d\":[{\"type\":\"histogram2d\",\"colorbar\":{\"outlinewidth\":0,\"ticks\":\"\"},\"colorscale\":[[0.0,\"#0d0887\"],[0.1111111111111111,\"#46039f\"],[0.2222222222222222,\"#7201a8\"],[0.3333333333333333,\"#9c179e\"],[0.4444444444444444,\"#bd3786\"],[0.5555555555555556,\"#d8576b\"],[0.6666666666666666,\"#ed7953\"],[0.7777777777777778,\"#fb9f3a\"],[0.8888888888888888,\"#fdca26\"],[1.0,\"#f0f921\"]]}],\"heatmap\":[{\"type\":\"heatmap\",\"colorbar\":{\"outlinewidth\":0,\"ticks\":\"\"},\"colorscale\":[[0.0,\"#0d0887\"],[0.1111111111111111,\"#46039f\"],[0.2222222222222222,\"#7201a8\"],[0.3333333333333333,\"#9c179e\"],[0.4444444444444444,\"#bd3786\"],[0.5555555555555556,\"#d8576b\"],[0.6666666666666666,\"#ed7953\"],[0.7777777777777778,\"#fb9f3a\"],[0.8888888888888888,\"#fdca26\"],[1.0,\"#f0f921\"]]}],\"heatmapgl\":[{\"type\":\"heatmapgl\",\"colorbar\":{\"outlinewidth\":0,\"ticks\":\"\"},\"colorscale\":[[0.0,\"#0d0887\"],[0.1111111111111111,\"#46039f\"],[0.2222222222222222,\"#7201a8\"],[0.3333333333333333,\"#9c179e\"],[0.4444444444444444,\"#bd3786\"],[0.5555555555555556,\"#d8576b\"],[0.6666666666666666,\"#ed7953\"],[0.7777777777777778,\"#fb9f3a\"],[0.8888888888888888,\"#fdca26\"],[1.0,\"#f0f921\"]]}],\"contourcarpet\":[{\"type\":\"contourcarpet\",\"colorbar\":{\"outlinewidth\":0,\"ticks\":\"\"}}],\"contour\":[{\"type\":\"contour\",\"colorbar\":{\"outlinewidth\":0,\"ticks\":\"\"},\"colorscale\":[[0.0,\"#0d0887\"],[0.1111111111111111,\"#46039f\"],[0.2222222222222222,\"#7201a8\"],[0.3333333333333333,\"#9c179e\"],[0.4444444444444444,\"#bd3786\"],[0.5555555555555556,\"#d8576b\"],[0.6666666666666666,\"#ed7953\"],[0.7777777777777778,\"#fb9f3a\"],[0.8888888888888888,\"#fdca26\"],[1.0,\"#f0f921\"]]}],\"surface\":[{\"type\":\"surface\",\"colorbar\":{\"outlinewidth\":0,\"ticks\":\"\"},\"colorscale\":[[0.0,\"#0d0887\"],[0.1111111111111111,\"#46039f\"],[0.2222222222222222,\"#7201a8\"],[0.3333333333333333,\"#9c179e\"],[0.4444444444444444,\"#bd3786\"],[0.5555555555555556,\"#d8576b\"],[0.6666666666666666,\"#ed7953\"],[0.7777777777777778,\"#fb9f3a\"],[0.8888888888888888,\"#fdca26\"],[1.0,\"#f0f921\"]]}],\"mesh3d\":[{\"type\":\"mesh3d\",\"colorbar\":{\"outlinewidth\":0,\"ticks\":\"\"}}],\"scatter\":[{\"fillpattern\":{\"fillmode\":\"overlay\",\"size\":10,\"solidity\":0.2},\"type\":\"scatter\"}],\"parcoords\":[{\"type\":\"parcoords\",\"line\":{\"colorbar\":{\"outlinewidth\":0,\"ticks\":\"\"}}}],\"scatterpolargl\":[{\"type\":\"scatterpolargl\",\"marker\":{\"colorbar\":{\"outlinewidth\":0,\"ticks\":\"\"}}}],\"bar\":[{\"error_x\":{\"color\":\"#2a3f5f\"},\"error_y\":{\"color\":\"#2a3f5f\"},\"marker\":{\"line\":{\"color\":\"#E5ECF6\",\"width\":0.5},\"pattern\":{\"fillmode\":\"overlay\",\"size\":10,\"solidity\":0.2}},\"type\":\"bar\"}],\"scattergeo\":[{\"type\":\"scattergeo\",\"marker\":{\"colorbar\":{\"outlinewidth\":0,\"ticks\":\"\"}}}],\"scatterpolar\":[{\"type\":\"scatterpolar\",\"marker\":{\"colorbar\":{\"outlinewidth\":0,\"ticks\":\"\"}}}],\"histogram\":[{\"marker\":{\"pattern\":{\"fillmode\":\"overlay\",\"size\":10,\"solidity\":0.2}},\"type\":\"histogram\"}],\"scattergl\":[{\"type\":\"scattergl\",\"marker\":{\"colorbar\":{\"outlinewidth\":0,\"ticks\":\"\"}}}],\"scatter3d\":[{\"type\":\"scatter3d\",\"line\":{\"colorbar\":{\"outlinewidth\":0,\"ticks\":\"\"}},\"marker\":{\"colorbar\":{\"outlinewidth\":0,\"ticks\":\"\"}}}],\"scattermapbox\":[{\"type\":\"scattermapbox\",\"marker\":{\"colorbar\":{\"outlinewidth\":0,\"ticks\":\"\"}}}],\"scatterternary\":[{\"type\":\"scatterternary\",\"marker\":{\"colorbar\":{\"outlinewidth\":0,\"ticks\":\"\"}}}],\"scattercarpet\":[{\"type\":\"scattercarpet\",\"marker\":{\"colorbar\":{\"outlinewidth\":0,\"ticks\":\"\"}}}],\"carpet\":[{\"aaxis\":{\"endlinecolor\":\"#2a3f5f\",\"gridcolor\":\"white\",\"linecolor\":\"white\",\"minorgridcolor\":\"white\",\"startlinecolor\":\"#2a3f5f\"},\"baxis\":{\"endlinecolor\":\"#2a3f5f\",\"gridcolor\":\"white\",\"linecolor\":\"white\",\"minorgridcolor\":\"white\",\"startlinecolor\":\"#2a3f5f\"},\"type\":\"carpet\"}],\"table\":[{\"cells\":{\"fill\":{\"color\":\"#EBF0F8\"},\"line\":{\"color\":\"white\"}},\"header\":{\"fill\":{\"color\":\"#C8D4E3\"},\"line\":{\"color\":\"white\"}},\"type\":\"table\"}],\"barpolar\":[{\"marker\":{\"line\":{\"color\":\"#E5ECF6\",\"width\":0.5},\"pattern\":{\"fillmode\":\"overlay\",\"size\":10,\"solidity\":0.2}},\"type\":\"barpolar\"}],\"pie\":[{\"automargin\":true,\"type\":\"pie\"}]},\"layout\":{\"autotypenumbers\":\"strict\",\"colorway\":[\"#636efa\",\"#EF553B\",\"#00cc96\",\"#ab63fa\",\"#FFA15A\",\"#19d3f3\",\"#FF6692\",\"#B6E880\",\"#FF97FF\",\"#FECB52\"],\"font\":{\"color\":\"#2a3f5f\"},\"hovermode\":\"closest\",\"hoverlabel\":{\"align\":\"left\"},\"paper_bgcolor\":\"white\",\"plot_bgcolor\":\"#E5ECF6\",\"polar\":{\"bgcolor\":\"#E5ECF6\",\"angularaxis\":{\"gridcolor\":\"white\",\"linecolor\":\"white\",\"ticks\":\"\"},\"radialaxis\":{\"gridcolor\":\"white\",\"linecolor\":\"white\",\"ticks\":\"\"}},\"ternary\":{\"bgcolor\":\"#E5ECF6\",\"aaxis\":{\"gridcolor\":\"white\",\"linecolor\":\"white\",\"ticks\":\"\"},\"baxis\":{\"gridcolor\":\"white\",\"linecolor\":\"white\",\"ticks\":\"\"},\"caxis\":{\"gridcolor\":\"white\",\"linecolor\":\"white\",\"ticks\":\"\"}},\"coloraxis\":{\"colorbar\":{\"outlinewidth\":0,\"ticks\":\"\"}},\"colorscale\":{\"sequential\":[[0.0,\"#0d0887\"],[0.1111111111111111,\"#46039f\"],[0.2222222222222222,\"#7201a8\"],[0.3333333333333333,\"#9c179e\"],[0.4444444444444444,\"#bd3786\"],[0.5555555555555556,\"#d8576b\"],[0.6666666666666666,\"#ed7953\"],[0.7777777777777778,\"#fb9f3a\"],[0.8888888888888888,\"#fdca26\"],[1.0,\"#f0f921\"]],\"sequentialminus\":[[0.0,\"#0d0887\"],[0.1111111111111111,\"#46039f\"],[0.2222222222222222,\"#7201a8\"],[0.3333333333333333,\"#9c179e\"],[0.4444444444444444,\"#bd3786\"],[0.5555555555555556,\"#d8576b\"],[0.6666666666666666,\"#ed7953\"],[0.7777777777777778,\"#fb9f3a\"],[0.8888888888888888,\"#fdca26\"],[1.0,\"#f0f921\"]],\"diverging\":[[0,\"#8e0152\"],[0.1,\"#c51b7d\"],[0.2,\"#de77ae\"],[0.3,\"#f1b6da\"],[0.4,\"#fde0ef\"],[0.5,\"#f7f7f7\"],[0.6,\"#e6f5d0\"],[0.7,\"#b8e186\"],[0.8,\"#7fbc41\"],[0.9,\"#4d9221\"],[1,\"#276419\"]]},\"xaxis\":{\"gridcolor\":\"white\",\"linecolor\":\"white\",\"ticks\":\"\",\"title\":{\"standoff\":15},\"zerolinecolor\":\"white\",\"automargin\":true,\"zerolinewidth\":2},\"yaxis\":{\"gridcolor\":\"white\",\"linecolor\":\"white\",\"ticks\":\"\",\"title\":{\"standoff\":15},\"zerolinecolor\":\"white\",\"automargin\":true,\"zerolinewidth\":2},\"scene\":{\"xaxis\":{\"backgroundcolor\":\"#E5ECF6\",\"gridcolor\":\"white\",\"linecolor\":\"white\",\"showbackground\":true,\"ticks\":\"\",\"zerolinecolor\":\"white\",\"gridwidth\":2},\"yaxis\":{\"backgroundcolor\":\"#E5ECF6\",\"gridcolor\":\"white\",\"linecolor\":\"white\",\"showbackground\":true,\"ticks\":\"\",\"zerolinecolor\":\"white\",\"gridwidth\":2},\"zaxis\":{\"backgroundcolor\":\"#E5ECF6\",\"gridcolor\":\"white\",\"linecolor\":\"white\",\"showbackground\":true,\"ticks\":\"\",\"zerolinecolor\":\"white\",\"gridwidth\":2}},\"shapedefaults\":{\"line\":{\"color\":\"#2a3f5f\"}},\"annotationdefaults\":{\"arrowcolor\":\"#2a3f5f\",\"arrowhead\":0,\"arrowwidth\":1},\"geo\":{\"bgcolor\":\"white\",\"landcolor\":\"#E5ECF6\",\"subunitcolor\":\"white\",\"showland\":true,\"showlakes\":true,\"lakecolor\":\"white\"},\"title\":{\"x\":0.05},\"mapbox\":{\"style\":\"light\"}}}},                        {\"responsive\": true}                    ).then(function(){\n",
              "                            \n",
              "var gd = document.getElementById('9f3c09a8-ef36-4116-8af8-00a845c3a00d');\n",
              "var x = new MutationObserver(function (mutations, observer) {{\n",
              "        var display = window.getComputedStyle(gd).display;\n",
              "        if (!display || display === 'none') {{\n",
              "            console.log([gd, 'removed!']);\n",
              "            Plotly.purge(gd);\n",
              "            observer.disconnect();\n",
              "        }}\n",
              "}});\n",
              "\n",
              "// Listen for the removal of the full notebook cells\n",
              "var notebookContainer = gd.closest('#notebook-container');\n",
              "if (notebookContainer) {{\n",
              "    x.observe(notebookContainer, {childList: true});\n",
              "}}\n",
              "\n",
              "// Listen for the clearing of the current output cell\n",
              "var outputEl = gd.closest('.output');\n",
              "if (outputEl) {{\n",
              "    x.observe(outputEl, {childList: true});\n",
              "}}\n",
              "\n",
              "                        })                };                            </script>        </div>\n",
              "</body>\n",
              "</html>"
            ]
          },
          "metadata": {}
        }
      ]
    },
    {
      "cell_type": "code",
      "source": [
        "def cross_entropy(y_pred,target):\n",
        "  epsilon = 1e-15\n",
        "  y_pred = np.clip(y_pred,epsilon,1-epsilon)\n",
        "  return -np.mean(target * np.log(y_pred) + (1-target) * np.log(1-y_pred))\n"
      ],
      "metadata": {
        "id": "0Rgvy_y1luqN"
      },
      "execution_count": 73,
      "outputs": []
    },
    {
      "cell_type": "code",
      "source": [
        "def compute_costs(X,y,w,b):\n",
        "  y_pred = model(X,w,b)\n",
        "  return cross_entropy(y_pred,y)\n"
      ],
      "metadata": {
        "id": "Te7J2ngkBIfj"
      },
      "execution_count": 36,
      "outputs": []
    },
    {
      "cell_type": "code",
      "source": [
        "compute_costs(X,y,w,b)"
      ],
      "metadata": {
        "colab": {
          "base_uri": "https://localhost:8080/"
        },
        "id": "VLoUVKRtCli6",
        "outputId": "fb969961-3f6d-4123-ca1c-8dc2d3cfd1a1"
      },
      "execution_count": 37,
      "outputs": [
        {
          "output_type": "execute_result",
          "data": {
            "text/plain": [
              "np.float64(1.027921502033809)"
            ]
          },
          "metadata": {},
          "execution_count": 37
        }
      ]
    },
    {
      "cell_type": "code",
      "source": [
        "def compute_gradient(X,y,w,b):\n",
        "  n = len(X)\n",
        "  y_pred = model(X,w,b)\n",
        "  dw = (1/n) * np.matmul(X.T,(y_pred-y))\n",
        "  db = (1/n) * np.sum(y_pred-y)\n",
        "  return dw,db"
      ],
      "metadata": {
        "id": "BkT1qlHUEHQA"
      },
      "execution_count": 38,
      "outputs": []
    },
    {
      "cell_type": "code",
      "source": [
        "compute_gradient(X,y,w,b)\n",
        "\n"
      ],
      "metadata": {
        "colab": {
          "base_uri": "https://localhost:8080/"
        },
        "id": "kMjWGrcLFYUu",
        "outputId": "aa5cd28e-634b-422d-fd61-93582306a99a"
      },
      "execution_count": 39,
      "outputs": [
        {
          "output_type": "execute_result",
          "data": {
            "text/plain": [
              "(array([[ 0.20607611],\n",
              "        [-0.15604127]]),\n",
              " np.float64(0.294252928552664))"
            ]
          },
          "metadata": {},
          "execution_count": 39
        }
      ]
    },
    {
      "cell_type": "code",
      "source": [
        "def step_gradient(data_x, data_y,w_current,b_current,alpha):\n",
        "  dw,db = compute_gradient(data_x,data_y,w_current,b_current)\n",
        "  w_new = w_current - alpha * dw\n",
        "  b_new = b_current - alpha * db\n",
        "  return w_new,b_new\n"
      ],
      "metadata": {
        "id": "0siTa1okFbpW"
      },
      "execution_count": 40,
      "outputs": []
    },
    {
      "cell_type": "code",
      "source": [
        "w_before, b_before = w,b\n",
        "cost_before = compute_costs(X,y,w_before,b_before)\n",
        "w_after, b_after = step_gradient(X,y,w_before,b_before,0.1)\n",
        "cost_after = compute_costs(X,y,w_after,b_after)\n",
        "print(f\"cost before = {cost_before}\\n cost after = {cost_after}\")"
      ],
      "metadata": {
        "colab": {
          "base_uri": "https://localhost:8080/"
        },
        "id": "yAblkr42GFF5",
        "outputId": "2378f523-7839-42d0-e316-f279878a308a"
      },
      "execution_count": 41,
      "outputs": [
        {
          "output_type": "stream",
          "name": "stdout",
          "text": [
            "cost before = 1.027921502033809\n",
            " cost after = 1.0126587031707026\n"
          ]
        }
      ]
    },
    {
      "cell_type": "code",
      "source": [
        "w_before, b_before = w,b\n",
        "cost_before = compute_costs(X,y,w_before,b_before)\n",
        "w_after, b_after = step_gradient(X,y,w_before,b_before,1.0)\n",
        "cost_after = compute_costs(X,y,w_after,b_after)\n",
        "print(f\"cost before = {cost_before}\\n cost after = {cost_after}\")"
      ],
      "metadata": {
        "colab": {
          "base_uri": "https://localhost:8080/"
        },
        "id": "5lVUqH6qGZ0X",
        "outputId": "454c6c29-e88c-4fc8-9e18-45c71af3ddaa"
      },
      "execution_count": 42,
      "outputs": [
        {
          "output_type": "stream",
          "name": "stdout",
          "text": [
            "cost before = 1.027921502033809\n",
            " cost after = 0.8823548482348891\n"
          ]
        }
      ]
    },
    {
      "cell_type": "code",
      "source": [
        "print(w_before,b_before)\n",
        "print(w_after,b_after)"
      ],
      "metadata": {
        "colab": {
          "base_uri": "https://localhost:8080/"
        },
        "id": "ZKTVqfKlGbF1",
        "outputId": "0065eefd-09ca-4efb-a551-0cfa813c2299"
      },
      "execution_count": 43,
      "outputs": [
        {
          "output_type": "stream",
          "name": "stdout",
          "text": [
            "[[1.]\n",
            " [2.]] 3.0\n",
            "[[0.79392389]\n",
            " [2.15604127]] 2.705747071447336\n"
          ]
        }
      ]
    },
    {
      "cell_type": "markdown",
      "source": [
        "Plot before 1 step\n",
        "\n",
        "---\n",
        "\n"
      ],
      "metadata": {
        "id": "D7e3QzEOHCjG"
      }
    },
    {
      "cell_type": "code",
      "source": [
        "plot(w_after,b_after)"
      ],
      "metadata": {
        "colab": {
          "base_uri": "https://localhost:8080/",
          "height": 542
        },
        "id": "PadtcKqIGlVb",
        "outputId": "dad143fb-3be4-4b1c-b22b-18f2356cebbf"
      },
      "execution_count": 44,
      "outputs": [
        {
          "output_type": "display_data",
          "data": {
            "text/html": [
              "<html>\n",
              "<head><meta charset=\"utf-8\" /></head>\n",
              "<body>\n",
              "    <div>            <script src=\"https://cdnjs.cloudflare.com/ajax/libs/mathjax/2.7.5/MathJax.js?config=TeX-AMS-MML_SVG\"></script><script type=\"text/javascript\">if (window.MathJax && window.MathJax.Hub && window.MathJax.Hub.Config) {window.MathJax.Hub.Config({SVG: {font: \"STIX-Web\"}});}</script>                <script type=\"text/javascript\">window.PlotlyConfig = {MathJaxConfig: 'local'};</script>\n",
              "        <script charset=\"utf-8\" src=\"https://cdn.plot.ly/plotly-2.35.2.min.js\"></script>                <div id=\"9f008d8b-c775-4fa4-9504-4426ca111cc8\" class=\"plotly-graph-div\" style=\"height:525px; width:100%;\"></div>            <script type=\"text/javascript\">                                    window.PLOTLYENV=window.PLOTLYENV || {};                                    if (document.getElementById(\"9f008d8b-c775-4fa4-9504-4426ca111cc8\")) {                    Plotly.newPlot(                        \"9f008d8b-c775-4fa4-9504-4426ca111cc8\",                        [{\"hovertemplate\":\"label=negative\\u003cbr\\u003eX_1=%{x}\\u003cbr\\u003eX_2=%{y}\\u003cextra\\u003e\\u003c\\u002fextra\\u003e\",\"legendgroup\":\"negative\",\"marker\":{\"color\":\"#636efa\",\"symbol\":\"circle\"},\"mode\":\"markers\",\"name\":\"negative\",\"orientation\":\"v\",\"showlegend\":true,\"x\":[1.434173635112031,-0.5469796802994843,0.24945568966188492,-1.0476066942141207,1.0832910619757434,0.0032250772357975688,-0.19683979873497215,1.1011976577275857,1.9072880096908222,-1.02113561308211,-1.1890243964309262,-0.9841168963809241,0.7976567283121585,-0.6668487210974013,0.43605818630062343,1.0404406336717182,1.0379017583590378,-0.6665896431292061,-0.5067129215131958,-0.9228829453892919,1.5867583319988618,-1.0464204597595783,2.3389396485994207,-1.1944935743138911,-0.6800950033413216,-0.8297910155085373,1.3250705067295145,-1.0481753395549422,0.3316404302443122,3.486147907234487,0.15315978468509017,-0.27431942937850873,-0.44598479838425975,-1.0704795316824134,0.3715499455724911,-0.5767535999432052,1.0960570141026196,2.199731343460071,-0.6532288263201578,1.5204423488162426,-0.6330693570891105,-1.3018898298573163,1.2063675339608968,1.604948824955505,-0.9122097196345488,0.2356781491695965,1.5222453853198652,1.268835056204761,-0.6677736898683282,1.0449954118473959,-0.00741554577248138,-1.06090632554496,-0.443192967631553,1.5670906141096337,-0.3718258399113319,1.3335118794829988,-1.2770823103063584,-1.1245582546901345,3.150024125877107,-0.26904280055593954,2.842403900484512,-1.4171010153111583,-1.1502394210411435,-0.5580183990596479,-0.9350458699576284,-0.5255894117514601,0.09233329570714344,0.8299507533944536,-0.062111432284645884,-0.3163498648460451,1.0811390139928967,1.2770787556501946,-0.45780057559044174,-1.2761968768979273,3.4059933802379634,-0.47489159766101996,-1.6786904836738152,2.7819580569778863,-0.8508331278401153,1.173619234527523,-0.6901902134888895,1.4600222060453132,-1.0215880314295191,-0.8733575898418926,1.860393113455874,1.7474899019389922,-0.15930635716140973,1.942763205103346,-0.9114702698449234,1.8619038915857051,1.894516412543466,-1.0850010580386786,-0.6772412833392627,1.1456602902749142,-0.7680303358959724,-0.542080851619884,-0.7848968148416233,-1.172132786791159,-0.9221377430009943,-1.0289125004643918],\"xaxis\":\"x\",\"y\":[-0.5937424792168728,-1.0617598692054115,-1.0333614912508065,-0.6937908736014446,-0.9055340458849237,-1.1205013286440806,-2.3693486994866366,0.22312514133001504,0.885041261321615,-1.2672894373822519,-1.6643369666262202,-2.1986432983298556,-0.5276170155152538,0.5902400374466996,-2.431184846867298,-1.4350042230287727,-1.1827897162215155,-1.0122070083872463,-2.5310483348068376,-0.9306826793473737,-0.10775267228457841,0.49783029509314614,-1.26172653531555,-1.356197250621976,-2.783864672043528,-0.8412562573193982,-1.8600717978336267,-0.49943962334147307,-1.4663397533194655,0.5975427484626821,-3.423914469881648,-1.8271013717999334,-0.3397829733573765,-0.547185390861365,-0.8692198189919627,-0.8981580628576675,-0.7127786543459882,-0.23504037042663262,-1.097100203226748,-0.8549927495415822,-1.741160662876014,-2.1638415831456483,-2.321854292912754,1.6298186753214625,0.21130211732064996,-0.8090425333688327,-1.1961245260476296,0.7006974072706913,-1.5842304913802319,-0.6934390910995909,-1.626488668625368,-0.3872285115327685,-0.533875317168361,0.11779391402639261,-0.0687440376915831,-0.016424446069008947,-0.650031223781796,0.030806034194265086,-1.067842872521462,-2.0630775335044813,1.7145704883334507,-3.117055201032854,0.6904286282832777,-2.063380516662323,-0.484024222754067,-2.7837353612767295,-1.405915759661006,-1.94427336417065,-1.7042300485191093,-0.18897377086430545,-0.8944076763115142,-2.7977943422189977,-0.03811275963607108,-1.0799574600243604,-0.7767054260348945,-0.9744685554844783,-0.7834799991909414,1.1054115688517276,-2.201332871115371,-2.2438176686026425,-1.5442076627429402,-0.41965382095526704,-1.4920787085608345,-1.4098972127739773,0.47552607520092405,-0.5073021544232863,-1.3072651852146597,0.6534927201086411,-2.1664317813605196,-0.35998385456389437,-1.1336855500348602,-0.4412254639097881,-0.5202518364532942,-1.2622945580958747,-1.576901800257325,-1.0869131760068007,1.1225880937073387,-1.582148727982375,-2.105524467786564,-1.0583491703900738],\"yaxis\":\"y\",\"type\":\"scatter\"},{\"hovertemplate\":\"label=positive\\u003cbr\\u003eX_1=%{x}\\u003cbr\\u003eX_2=%{y}\\u003cextra\\u003e\\u003c\\u002fextra\\u003e\",\"legendgroup\":\"positive\",\"marker\":{\"color\":\"#EF553B\",\"symbol\":\"circle\"},\"mode\":\"markers\",\"name\":\"positive\",\"orientation\":\"v\",\"showlegend\":true,\"x\":[0.6510436832547352,-0.3410376012882108,0.8617305852770683,1.6027681545263912,0.9365735054085003,0.10821284145501597,0.9655195962216812,-1.0001587915829502,0.11443704641698771,-1.7973232561347752,0.2970587124906483,1.8894200172994657,1.0357772317434946,2.0424401027238863,-0.8318651417803088,-0.5191026555223968,-1.3662843586334787,-1.6041552219245667,0.39186572886284277,2.5748561683765168,-0.23148278903150954,-0.06325539205681219,2.6516134781696623,0.1420115593764577,1.6873853176721323,-0.7807491025005086,-0.27095982951056274,-0.6849483057616574,-0.03628477816024889,0.37533296126232796,2.4469243827115736,-1.1757552880087836,-1.1226980484085467,1.3381071135820148,1.9857056206900054,0.3551154772800872,-1.2928405036391402,2.712178066557498,-0.92463346850637,-0.8808570717236589,0.19335378354673272,-1.6557060190822872,2.184009024732495,0.2144074932590475,-0.6959618145269912,0.9751001133336679,-1.0863991250718785,-0.5395531041201886,-2.059851039646218,0.26270955647378424,-1.3505591921343205,1.2965235317842714,-1.2204920305222637,-1.5453951737046212,1.134848028974001,-0.6826126203231383,-0.22166023730957307,-1.513550696486212,-1.16773623022518,2.471452293656415,1.4535615315098331,-0.34618955384579486,-0.07350275392955319,2.878763476552823,1.1334782198552205,1.1203041951882828,-0.14351937814585247,1.548674247489685,1.0839224441567763,0.6527481560659303,-0.3533281392877743,-0.7801628454249668,3.144663361162778,0.5522634453946011,-1.5839048990797184,-0.2779626074800725,-0.0952772886330977,-1.860351857931264,-0.41420302522970576,-1.7369492090202265,0.7606885612174914,-0.6398022828790222,-0.31698505021383483,0.18729941893382507,1.4613269191532985,-1.3749851211341155,1.7951503151743646,1.6209976516952556,-1.8864099604255016,-1.4265599737161012,-0.6937911366795119,-1.3413277208935337,-0.8708281378824403,-0.27976400639830745,0.6901385461362237,-1.9215116969329675,0.601835294963196,-1.3094696060289863,0.6177532610944598,0.26797144916940585],\"xaxis\":\"x\",\"y\":[0.8689714292342421,2.7318904170989304,0.8313684352127544,1.087409831689059,1.3711767769197787,0.6277025746774652,0.7388063393792065,1.827343387101576,2.145363357730863,-0.6221031730736324,3.003882413282427,0.7229775728153559,0.4221566479032871,1.657690150375862,1.7639181574525318,0.9269107547974382,0.35425055992420984,0.6138399555877183,-0.20820503241061905,2.693471419410173,1.3022635621611014,0.7013832716397305,0.9192538340540002,0.25074625949733076,0.9418447382765991,1.6018358955379393,1.5478315425682314,2.2725532374654795,1.0612484809670166,2.5018015197450882,1.7354546796524906,1.3038107127586032,0.3887655637155524,1.6417486663351777,1.2242774870774038,0.7480738422134088,1.7062344737147905,1.6789201176334347,-1.3183441462023788,1.0542554281245176,0.4592853420396935,-0.30653869519380117,1.1137032577311137,-0.36946864275666047,0.35868687509394304,0.1847448541880523,0.8489984323078783,2.82014130225763,-0.6126492766826697,2.523199215531265,0.16136294594849687,0.9630936044017779,1.1227631933835196,1.3770502242128133,1.390305798605041,2.32532078017761,-0.3730534770380276,0.956055652007788,1.2773279532004937,1.4166760298111751,0.27861055587475914,2.4866251664707213,0.7020043875666935,1.7171654855706007,2.3196542845601145,0.7602061407961114,1.3783900115066883,1.399625573221033,2.480798816640032,-0.37340748399885637,0.9153769522685488,0.8097016440617862,3.163970968194664,1.0940662029815658,-0.5515649003233232,2.6123526471290046,0.3121040404228138,0.376943521515933,0.5864857128679506,0.08792592017205914,0.9843691019956373,0.7278115478880403,2.1963294841409686,2.033058387897179,2.7395367184983295,0.09152183506577449,1.7953547137406425,1.530712288503985,-0.03174448455364143,0.5605900386584055,2.0896382461468064,1.1423076038254933,0.5078208733939417,2.9125706387992016,1.9439762341805595,-0.10689791208897925,3.8919891326538067,0.9496468818941581,0.7510261408268538,2.9731999261871334],\"yaxis\":\"y\",\"type\":\"scatter\"},{\"name\":\"brzeg\",\"x\":[-2,4],\"y\":[1.991425170925169,-0.21796822585890138],\"type\":\"scatter\"}],                        {\"template\":{\"data\":{\"histogram2dcontour\":[{\"type\":\"histogram2dcontour\",\"colorbar\":{\"outlinewidth\":0,\"ticks\":\"\"},\"colorscale\":[[0.0,\"#0d0887\"],[0.1111111111111111,\"#46039f\"],[0.2222222222222222,\"#7201a8\"],[0.3333333333333333,\"#9c179e\"],[0.4444444444444444,\"#bd3786\"],[0.5555555555555556,\"#d8576b\"],[0.6666666666666666,\"#ed7953\"],[0.7777777777777778,\"#fb9f3a\"],[0.8888888888888888,\"#fdca26\"],[1.0,\"#f0f921\"]]}],\"choropleth\":[{\"type\":\"choropleth\",\"colorbar\":{\"outlinewidth\":0,\"ticks\":\"\"}}],\"histogram2d\":[{\"type\":\"histogram2d\",\"colorbar\":{\"outlinewidth\":0,\"ticks\":\"\"},\"colorscale\":[[0.0,\"#0d0887\"],[0.1111111111111111,\"#46039f\"],[0.2222222222222222,\"#7201a8\"],[0.3333333333333333,\"#9c179e\"],[0.4444444444444444,\"#bd3786\"],[0.5555555555555556,\"#d8576b\"],[0.6666666666666666,\"#ed7953\"],[0.7777777777777778,\"#fb9f3a\"],[0.8888888888888888,\"#fdca26\"],[1.0,\"#f0f921\"]]}],\"heatmap\":[{\"type\":\"heatmap\",\"colorbar\":{\"outlinewidth\":0,\"ticks\":\"\"},\"colorscale\":[[0.0,\"#0d0887\"],[0.1111111111111111,\"#46039f\"],[0.2222222222222222,\"#7201a8\"],[0.3333333333333333,\"#9c179e\"],[0.4444444444444444,\"#bd3786\"],[0.5555555555555556,\"#d8576b\"],[0.6666666666666666,\"#ed7953\"],[0.7777777777777778,\"#fb9f3a\"],[0.8888888888888888,\"#fdca26\"],[1.0,\"#f0f921\"]]}],\"heatmapgl\":[{\"type\":\"heatmapgl\",\"colorbar\":{\"outlinewidth\":0,\"ticks\":\"\"},\"colorscale\":[[0.0,\"#0d0887\"],[0.1111111111111111,\"#46039f\"],[0.2222222222222222,\"#7201a8\"],[0.3333333333333333,\"#9c179e\"],[0.4444444444444444,\"#bd3786\"],[0.5555555555555556,\"#d8576b\"],[0.6666666666666666,\"#ed7953\"],[0.7777777777777778,\"#fb9f3a\"],[0.8888888888888888,\"#fdca26\"],[1.0,\"#f0f921\"]]}],\"contourcarpet\":[{\"type\":\"contourcarpet\",\"colorbar\":{\"outlinewidth\":0,\"ticks\":\"\"}}],\"contour\":[{\"type\":\"contour\",\"colorbar\":{\"outlinewidth\":0,\"ticks\":\"\"},\"colorscale\":[[0.0,\"#0d0887\"],[0.1111111111111111,\"#46039f\"],[0.2222222222222222,\"#7201a8\"],[0.3333333333333333,\"#9c179e\"],[0.4444444444444444,\"#bd3786\"],[0.5555555555555556,\"#d8576b\"],[0.6666666666666666,\"#ed7953\"],[0.7777777777777778,\"#fb9f3a\"],[0.8888888888888888,\"#fdca26\"],[1.0,\"#f0f921\"]]}],\"surface\":[{\"type\":\"surface\",\"colorbar\":{\"outlinewidth\":0,\"ticks\":\"\"},\"colorscale\":[[0.0,\"#0d0887\"],[0.1111111111111111,\"#46039f\"],[0.2222222222222222,\"#7201a8\"],[0.3333333333333333,\"#9c179e\"],[0.4444444444444444,\"#bd3786\"],[0.5555555555555556,\"#d8576b\"],[0.6666666666666666,\"#ed7953\"],[0.7777777777777778,\"#fb9f3a\"],[0.8888888888888888,\"#fdca26\"],[1.0,\"#f0f921\"]]}],\"mesh3d\":[{\"type\":\"mesh3d\",\"colorbar\":{\"outlinewidth\":0,\"ticks\":\"\"}}],\"scatter\":[{\"fillpattern\":{\"fillmode\":\"overlay\",\"size\":10,\"solidity\":0.2},\"type\":\"scatter\"}],\"parcoords\":[{\"type\":\"parcoords\",\"line\":{\"colorbar\":{\"outlinewidth\":0,\"ticks\":\"\"}}}],\"scatterpolargl\":[{\"type\":\"scatterpolargl\",\"marker\":{\"colorbar\":{\"outlinewidth\":0,\"ticks\":\"\"}}}],\"bar\":[{\"error_x\":{\"color\":\"#2a3f5f\"},\"error_y\":{\"color\":\"#2a3f5f\"},\"marker\":{\"line\":{\"color\":\"#E5ECF6\",\"width\":0.5},\"pattern\":{\"fillmode\":\"overlay\",\"size\":10,\"solidity\":0.2}},\"type\":\"bar\"}],\"scattergeo\":[{\"type\":\"scattergeo\",\"marker\":{\"colorbar\":{\"outlinewidth\":0,\"ticks\":\"\"}}}],\"scatterpolar\":[{\"type\":\"scatterpolar\",\"marker\":{\"colorbar\":{\"outlinewidth\":0,\"ticks\":\"\"}}}],\"histogram\":[{\"marker\":{\"pattern\":{\"fillmode\":\"overlay\",\"size\":10,\"solidity\":0.2}},\"type\":\"histogram\"}],\"scattergl\":[{\"type\":\"scattergl\",\"marker\":{\"colorbar\":{\"outlinewidth\":0,\"ticks\":\"\"}}}],\"scatter3d\":[{\"type\":\"scatter3d\",\"line\":{\"colorbar\":{\"outlinewidth\":0,\"ticks\":\"\"}},\"marker\":{\"colorbar\":{\"outlinewidth\":0,\"ticks\":\"\"}}}],\"scattermapbox\":[{\"type\":\"scattermapbox\",\"marker\":{\"colorbar\":{\"outlinewidth\":0,\"ticks\":\"\"}}}],\"scatterternary\":[{\"type\":\"scatterternary\",\"marker\":{\"colorbar\":{\"outlinewidth\":0,\"ticks\":\"\"}}}],\"scattercarpet\":[{\"type\":\"scattercarpet\",\"marker\":{\"colorbar\":{\"outlinewidth\":0,\"ticks\":\"\"}}}],\"carpet\":[{\"aaxis\":{\"endlinecolor\":\"#2a3f5f\",\"gridcolor\":\"white\",\"linecolor\":\"white\",\"minorgridcolor\":\"white\",\"startlinecolor\":\"#2a3f5f\"},\"baxis\":{\"endlinecolor\":\"#2a3f5f\",\"gridcolor\":\"white\",\"linecolor\":\"white\",\"minorgridcolor\":\"white\",\"startlinecolor\":\"#2a3f5f\"},\"type\":\"carpet\"}],\"table\":[{\"cells\":{\"fill\":{\"color\":\"#EBF0F8\"},\"line\":{\"color\":\"white\"}},\"header\":{\"fill\":{\"color\":\"#C8D4E3\"},\"line\":{\"color\":\"white\"}},\"type\":\"table\"}],\"barpolar\":[{\"marker\":{\"line\":{\"color\":\"#E5ECF6\",\"width\":0.5},\"pattern\":{\"fillmode\":\"overlay\",\"size\":10,\"solidity\":0.2}},\"type\":\"barpolar\"}],\"pie\":[{\"automargin\":true,\"type\":\"pie\"}]},\"layout\":{\"autotypenumbers\":\"strict\",\"colorway\":[\"#636efa\",\"#EF553B\",\"#00cc96\",\"#ab63fa\",\"#FFA15A\",\"#19d3f3\",\"#FF6692\",\"#B6E880\",\"#FF97FF\",\"#FECB52\"],\"font\":{\"color\":\"#2a3f5f\"},\"hovermode\":\"closest\",\"hoverlabel\":{\"align\":\"left\"},\"paper_bgcolor\":\"white\",\"plot_bgcolor\":\"#E5ECF6\",\"polar\":{\"bgcolor\":\"#E5ECF6\",\"angularaxis\":{\"gridcolor\":\"white\",\"linecolor\":\"white\",\"ticks\":\"\"},\"radialaxis\":{\"gridcolor\":\"white\",\"linecolor\":\"white\",\"ticks\":\"\"}},\"ternary\":{\"bgcolor\":\"#E5ECF6\",\"aaxis\":{\"gridcolor\":\"white\",\"linecolor\":\"white\",\"ticks\":\"\"},\"baxis\":{\"gridcolor\":\"white\",\"linecolor\":\"white\",\"ticks\":\"\"},\"caxis\":{\"gridcolor\":\"white\",\"linecolor\":\"white\",\"ticks\":\"\"}},\"coloraxis\":{\"colorbar\":{\"outlinewidth\":0,\"ticks\":\"\"}},\"colorscale\":{\"sequential\":[[0.0,\"#0d0887\"],[0.1111111111111111,\"#46039f\"],[0.2222222222222222,\"#7201a8\"],[0.3333333333333333,\"#9c179e\"],[0.4444444444444444,\"#bd3786\"],[0.5555555555555556,\"#d8576b\"],[0.6666666666666666,\"#ed7953\"],[0.7777777777777778,\"#fb9f3a\"],[0.8888888888888888,\"#fdca26\"],[1.0,\"#f0f921\"]],\"sequentialminus\":[[0.0,\"#0d0887\"],[0.1111111111111111,\"#46039f\"],[0.2222222222222222,\"#7201a8\"],[0.3333333333333333,\"#9c179e\"],[0.4444444444444444,\"#bd3786\"],[0.5555555555555556,\"#d8576b\"],[0.6666666666666666,\"#ed7953\"],[0.7777777777777778,\"#fb9f3a\"],[0.8888888888888888,\"#fdca26\"],[1.0,\"#f0f921\"]],\"diverging\":[[0,\"#8e0152\"],[0.1,\"#c51b7d\"],[0.2,\"#de77ae\"],[0.3,\"#f1b6da\"],[0.4,\"#fde0ef\"],[0.5,\"#f7f7f7\"],[0.6,\"#e6f5d0\"],[0.7,\"#b8e186\"],[0.8,\"#7fbc41\"],[0.9,\"#4d9221\"],[1,\"#276419\"]]},\"xaxis\":{\"gridcolor\":\"white\",\"linecolor\":\"white\",\"ticks\":\"\",\"title\":{\"standoff\":15},\"zerolinecolor\":\"white\",\"automargin\":true,\"zerolinewidth\":2},\"yaxis\":{\"gridcolor\":\"white\",\"linecolor\":\"white\",\"ticks\":\"\",\"title\":{\"standoff\":15},\"zerolinecolor\":\"white\",\"automargin\":true,\"zerolinewidth\":2},\"scene\":{\"xaxis\":{\"backgroundcolor\":\"#E5ECF6\",\"gridcolor\":\"white\",\"linecolor\":\"white\",\"showbackground\":true,\"ticks\":\"\",\"zerolinecolor\":\"white\",\"gridwidth\":2},\"yaxis\":{\"backgroundcolor\":\"#E5ECF6\",\"gridcolor\":\"white\",\"linecolor\":\"white\",\"showbackground\":true,\"ticks\":\"\",\"zerolinecolor\":\"white\",\"gridwidth\":2},\"zaxis\":{\"backgroundcolor\":\"#E5ECF6\",\"gridcolor\":\"white\",\"linecolor\":\"white\",\"showbackground\":true,\"ticks\":\"\",\"zerolinecolor\":\"white\",\"gridwidth\":2}},\"shapedefaults\":{\"line\":{\"color\":\"#2a3f5f\"}},\"annotationdefaults\":{\"arrowcolor\":\"#2a3f5f\",\"arrowhead\":0,\"arrowwidth\":1},\"geo\":{\"bgcolor\":\"white\",\"landcolor\":\"#E5ECF6\",\"subunitcolor\":\"white\",\"showland\":true,\"showlakes\":true,\"lakecolor\":\"white\"},\"title\":{\"x\":0.05},\"mapbox\":{\"style\":\"light\"}}}},                        {\"responsive\": true}                    ).then(function(){\n",
              "                            \n",
              "var gd = document.getElementById('9f008d8b-c775-4fa4-9504-4426ca111cc8');\n",
              "var x = new MutationObserver(function (mutations, observer) {{\n",
              "        var display = window.getComputedStyle(gd).display;\n",
              "        if (!display || display === 'none') {{\n",
              "            console.log([gd, 'removed!']);\n",
              "            Plotly.purge(gd);\n",
              "            observer.disconnect();\n",
              "        }}\n",
              "}});\n",
              "\n",
              "// Listen for the removal of the full notebook cells\n",
              "var notebookContainer = gd.closest('#notebook-container');\n",
              "if (notebookContainer) {{\n",
              "    x.observe(notebookContainer, {childList: true});\n",
              "}}\n",
              "\n",
              "// Listen for the clearing of the current output cell\n",
              "var outputEl = gd.closest('.output');\n",
              "if (outputEl) {{\n",
              "    x.observe(outputEl, {childList: true});\n",
              "}}\n",
              "\n",
              "                        })                };                            </script>        </div>\n",
              "</body>\n",
              "</html>"
            ]
          },
          "metadata": {}
        }
      ]
    },
    {
      "cell_type": "markdown",
      "source": [
        "Plot after 1 step"
      ],
      "metadata": {
        "id": "eOkqaxHfHAik"
      }
    },
    {
      "cell_type": "code",
      "source": [
        "plot(w_before,b_before)"
      ],
      "metadata": {
        "colab": {
          "base_uri": "https://localhost:8080/",
          "height": 542
        },
        "id": "ma7y1pl6GuN2",
        "outputId": "27a8d7b4-3b76-40cf-a8fd-fe693fd4d60c"
      },
      "execution_count": 45,
      "outputs": [
        {
          "output_type": "display_data",
          "data": {
            "text/html": [
              "<html>\n",
              "<head><meta charset=\"utf-8\" /></head>\n",
              "<body>\n",
              "    <div>            <script src=\"https://cdnjs.cloudflare.com/ajax/libs/mathjax/2.7.5/MathJax.js?config=TeX-AMS-MML_SVG\"></script><script type=\"text/javascript\">if (window.MathJax && window.MathJax.Hub && window.MathJax.Hub.Config) {window.MathJax.Hub.Config({SVG: {font: \"STIX-Web\"}});}</script>                <script type=\"text/javascript\">window.PlotlyConfig = {MathJaxConfig: 'local'};</script>\n",
              "        <script charset=\"utf-8\" src=\"https://cdn.plot.ly/plotly-2.35.2.min.js\"></script>                <div id=\"7420986d-3959-4f18-b0b7-a67ba7c5c4e2\" class=\"plotly-graph-div\" style=\"height:525px; width:100%;\"></div>            <script type=\"text/javascript\">                                    window.PLOTLYENV=window.PLOTLYENV || {};                                    if (document.getElementById(\"7420986d-3959-4f18-b0b7-a67ba7c5c4e2\")) {                    Plotly.newPlot(                        \"7420986d-3959-4f18-b0b7-a67ba7c5c4e2\",                        [{\"hovertemplate\":\"label=negative\\u003cbr\\u003eX_1=%{x}\\u003cbr\\u003eX_2=%{y}\\u003cextra\\u003e\\u003c\\u002fextra\\u003e\",\"legendgroup\":\"negative\",\"marker\":{\"color\":\"#636efa\",\"symbol\":\"circle\"},\"mode\":\"markers\",\"name\":\"negative\",\"orientation\":\"v\",\"showlegend\":true,\"x\":[1.434173635112031,-0.5469796802994843,0.24945568966188492,-1.0476066942141207,1.0832910619757434,0.0032250772357975688,-0.19683979873497215,1.1011976577275857,1.9072880096908222,-1.02113561308211,-1.1890243964309262,-0.9841168963809241,0.7976567283121585,-0.6668487210974013,0.43605818630062343,1.0404406336717182,1.0379017583590378,-0.6665896431292061,-0.5067129215131958,-0.9228829453892919,1.5867583319988618,-1.0464204597595783,2.3389396485994207,-1.1944935743138911,-0.6800950033413216,-0.8297910155085373,1.3250705067295145,-1.0481753395549422,0.3316404302443122,3.486147907234487,0.15315978468509017,-0.27431942937850873,-0.44598479838425975,-1.0704795316824134,0.3715499455724911,-0.5767535999432052,1.0960570141026196,2.199731343460071,-0.6532288263201578,1.5204423488162426,-0.6330693570891105,-1.3018898298573163,1.2063675339608968,1.604948824955505,-0.9122097196345488,0.2356781491695965,1.5222453853198652,1.268835056204761,-0.6677736898683282,1.0449954118473959,-0.00741554577248138,-1.06090632554496,-0.443192967631553,1.5670906141096337,-0.3718258399113319,1.3335118794829988,-1.2770823103063584,-1.1245582546901345,3.150024125877107,-0.26904280055593954,2.842403900484512,-1.4171010153111583,-1.1502394210411435,-0.5580183990596479,-0.9350458699576284,-0.5255894117514601,0.09233329570714344,0.8299507533944536,-0.062111432284645884,-0.3163498648460451,1.0811390139928967,1.2770787556501946,-0.45780057559044174,-1.2761968768979273,3.4059933802379634,-0.47489159766101996,-1.6786904836738152,2.7819580569778863,-0.8508331278401153,1.173619234527523,-0.6901902134888895,1.4600222060453132,-1.0215880314295191,-0.8733575898418926,1.860393113455874,1.7474899019389922,-0.15930635716140973,1.942763205103346,-0.9114702698449234,1.8619038915857051,1.894516412543466,-1.0850010580386786,-0.6772412833392627,1.1456602902749142,-0.7680303358959724,-0.542080851619884,-0.7848968148416233,-1.172132786791159,-0.9221377430009943,-1.0289125004643918],\"xaxis\":\"x\",\"y\":[-0.5937424792168728,-1.0617598692054115,-1.0333614912508065,-0.6937908736014446,-0.9055340458849237,-1.1205013286440806,-2.3693486994866366,0.22312514133001504,0.885041261321615,-1.2672894373822519,-1.6643369666262202,-2.1986432983298556,-0.5276170155152538,0.5902400374466996,-2.431184846867298,-1.4350042230287727,-1.1827897162215155,-1.0122070083872463,-2.5310483348068376,-0.9306826793473737,-0.10775267228457841,0.49783029509314614,-1.26172653531555,-1.356197250621976,-2.783864672043528,-0.8412562573193982,-1.8600717978336267,-0.49943962334147307,-1.4663397533194655,0.5975427484626821,-3.423914469881648,-1.8271013717999334,-0.3397829733573765,-0.547185390861365,-0.8692198189919627,-0.8981580628576675,-0.7127786543459882,-0.23504037042663262,-1.097100203226748,-0.8549927495415822,-1.741160662876014,-2.1638415831456483,-2.321854292912754,1.6298186753214625,0.21130211732064996,-0.8090425333688327,-1.1961245260476296,0.7006974072706913,-1.5842304913802319,-0.6934390910995909,-1.626488668625368,-0.3872285115327685,-0.533875317168361,0.11779391402639261,-0.0687440376915831,-0.016424446069008947,-0.650031223781796,0.030806034194265086,-1.067842872521462,-2.0630775335044813,1.7145704883334507,-3.117055201032854,0.6904286282832777,-2.063380516662323,-0.484024222754067,-2.7837353612767295,-1.405915759661006,-1.94427336417065,-1.7042300485191093,-0.18897377086430545,-0.8944076763115142,-2.7977943422189977,-0.03811275963607108,-1.0799574600243604,-0.7767054260348945,-0.9744685554844783,-0.7834799991909414,1.1054115688517276,-2.201332871115371,-2.2438176686026425,-1.5442076627429402,-0.41965382095526704,-1.4920787085608345,-1.4098972127739773,0.47552607520092405,-0.5073021544232863,-1.3072651852146597,0.6534927201086411,-2.1664317813605196,-0.35998385456389437,-1.1336855500348602,-0.4412254639097881,-0.5202518364532942,-1.2622945580958747,-1.576901800257325,-1.0869131760068007,1.1225880937073387,-1.582148727982375,-2.105524467786564,-1.0583491703900738],\"yaxis\":\"y\",\"type\":\"scatter\"},{\"hovertemplate\":\"label=positive\\u003cbr\\u003eX_1=%{x}\\u003cbr\\u003eX_2=%{y}\\u003cextra\\u003e\\u003c\\u002fextra\\u003e\",\"legendgroup\":\"positive\",\"marker\":{\"color\":\"#EF553B\",\"symbol\":\"circle\"},\"mode\":\"markers\",\"name\":\"positive\",\"orientation\":\"v\",\"showlegend\":true,\"x\":[0.6510436832547352,-0.3410376012882108,0.8617305852770683,1.6027681545263912,0.9365735054085003,0.10821284145501597,0.9655195962216812,-1.0001587915829502,0.11443704641698771,-1.7973232561347752,0.2970587124906483,1.8894200172994657,1.0357772317434946,2.0424401027238863,-0.8318651417803088,-0.5191026555223968,-1.3662843586334787,-1.6041552219245667,0.39186572886284277,2.5748561683765168,-0.23148278903150954,-0.06325539205681219,2.6516134781696623,0.1420115593764577,1.6873853176721323,-0.7807491025005086,-0.27095982951056274,-0.6849483057616574,-0.03628477816024889,0.37533296126232796,2.4469243827115736,-1.1757552880087836,-1.1226980484085467,1.3381071135820148,1.9857056206900054,0.3551154772800872,-1.2928405036391402,2.712178066557498,-0.92463346850637,-0.8808570717236589,0.19335378354673272,-1.6557060190822872,2.184009024732495,0.2144074932590475,-0.6959618145269912,0.9751001133336679,-1.0863991250718785,-0.5395531041201886,-2.059851039646218,0.26270955647378424,-1.3505591921343205,1.2965235317842714,-1.2204920305222637,-1.5453951737046212,1.134848028974001,-0.6826126203231383,-0.22166023730957307,-1.513550696486212,-1.16773623022518,2.471452293656415,1.4535615315098331,-0.34618955384579486,-0.07350275392955319,2.878763476552823,1.1334782198552205,1.1203041951882828,-0.14351937814585247,1.548674247489685,1.0839224441567763,0.6527481560659303,-0.3533281392877743,-0.7801628454249668,3.144663361162778,0.5522634453946011,-1.5839048990797184,-0.2779626074800725,-0.0952772886330977,-1.860351857931264,-0.41420302522970576,-1.7369492090202265,0.7606885612174914,-0.6398022828790222,-0.31698505021383483,0.18729941893382507,1.4613269191532985,-1.3749851211341155,1.7951503151743646,1.6209976516952556,-1.8864099604255016,-1.4265599737161012,-0.6937911366795119,-1.3413277208935337,-0.8708281378824403,-0.27976400639830745,0.6901385461362237,-1.9215116969329675,0.601835294963196,-1.3094696060289863,0.6177532610944598,0.26797144916940585],\"xaxis\":\"x\",\"y\":[0.8689714292342421,2.7318904170989304,0.8313684352127544,1.087409831689059,1.3711767769197787,0.6277025746774652,0.7388063393792065,1.827343387101576,2.145363357730863,-0.6221031730736324,3.003882413282427,0.7229775728153559,0.4221566479032871,1.657690150375862,1.7639181574525318,0.9269107547974382,0.35425055992420984,0.6138399555877183,-0.20820503241061905,2.693471419410173,1.3022635621611014,0.7013832716397305,0.9192538340540002,0.25074625949733076,0.9418447382765991,1.6018358955379393,1.5478315425682314,2.2725532374654795,1.0612484809670166,2.5018015197450882,1.7354546796524906,1.3038107127586032,0.3887655637155524,1.6417486663351777,1.2242774870774038,0.7480738422134088,1.7062344737147905,1.6789201176334347,-1.3183441462023788,1.0542554281245176,0.4592853420396935,-0.30653869519380117,1.1137032577311137,-0.36946864275666047,0.35868687509394304,0.1847448541880523,0.8489984323078783,2.82014130225763,-0.6126492766826697,2.523199215531265,0.16136294594849687,0.9630936044017779,1.1227631933835196,1.3770502242128133,1.390305798605041,2.32532078017761,-0.3730534770380276,0.956055652007788,1.2773279532004937,1.4166760298111751,0.27861055587475914,2.4866251664707213,0.7020043875666935,1.7171654855706007,2.3196542845601145,0.7602061407961114,1.3783900115066883,1.399625573221033,2.480798816640032,-0.37340748399885637,0.9153769522685488,0.8097016440617862,3.163970968194664,1.0940662029815658,-0.5515649003233232,2.6123526471290046,0.3121040404228138,0.376943521515933,0.5864857128679506,0.08792592017205914,0.9843691019956373,0.7278115478880403,2.1963294841409686,2.033058387897179,2.7395367184983295,0.09152183506577449,1.7953547137406425,1.530712288503985,-0.03174448455364143,0.5605900386584055,2.0896382461468064,1.1423076038254933,0.5078208733939417,2.9125706387992016,1.9439762341805595,-0.10689791208897925,3.8919891326538067,0.9496468818941581,0.7510261408268538,2.9731999261871334],\"yaxis\":\"y\",\"type\":\"scatter\"},{\"name\":\"brzeg\",\"x\":[-2,4],\"y\":[2.5,-0.5],\"type\":\"scatter\"}],                        {\"template\":{\"data\":{\"histogram2dcontour\":[{\"type\":\"histogram2dcontour\",\"colorbar\":{\"outlinewidth\":0,\"ticks\":\"\"},\"colorscale\":[[0.0,\"#0d0887\"],[0.1111111111111111,\"#46039f\"],[0.2222222222222222,\"#7201a8\"],[0.3333333333333333,\"#9c179e\"],[0.4444444444444444,\"#bd3786\"],[0.5555555555555556,\"#d8576b\"],[0.6666666666666666,\"#ed7953\"],[0.7777777777777778,\"#fb9f3a\"],[0.8888888888888888,\"#fdca26\"],[1.0,\"#f0f921\"]]}],\"choropleth\":[{\"type\":\"choropleth\",\"colorbar\":{\"outlinewidth\":0,\"ticks\":\"\"}}],\"histogram2d\":[{\"type\":\"histogram2d\",\"colorbar\":{\"outlinewidth\":0,\"ticks\":\"\"},\"colorscale\":[[0.0,\"#0d0887\"],[0.1111111111111111,\"#46039f\"],[0.2222222222222222,\"#7201a8\"],[0.3333333333333333,\"#9c179e\"],[0.4444444444444444,\"#bd3786\"],[0.5555555555555556,\"#d8576b\"],[0.6666666666666666,\"#ed7953\"],[0.7777777777777778,\"#fb9f3a\"],[0.8888888888888888,\"#fdca26\"],[1.0,\"#f0f921\"]]}],\"heatmap\":[{\"type\":\"heatmap\",\"colorbar\":{\"outlinewidth\":0,\"ticks\":\"\"},\"colorscale\":[[0.0,\"#0d0887\"],[0.1111111111111111,\"#46039f\"],[0.2222222222222222,\"#7201a8\"],[0.3333333333333333,\"#9c179e\"],[0.4444444444444444,\"#bd3786\"],[0.5555555555555556,\"#d8576b\"],[0.6666666666666666,\"#ed7953\"],[0.7777777777777778,\"#fb9f3a\"],[0.8888888888888888,\"#fdca26\"],[1.0,\"#f0f921\"]]}],\"heatmapgl\":[{\"type\":\"heatmapgl\",\"colorbar\":{\"outlinewidth\":0,\"ticks\":\"\"},\"colorscale\":[[0.0,\"#0d0887\"],[0.1111111111111111,\"#46039f\"],[0.2222222222222222,\"#7201a8\"],[0.3333333333333333,\"#9c179e\"],[0.4444444444444444,\"#bd3786\"],[0.5555555555555556,\"#d8576b\"],[0.6666666666666666,\"#ed7953\"],[0.7777777777777778,\"#fb9f3a\"],[0.8888888888888888,\"#fdca26\"],[1.0,\"#f0f921\"]]}],\"contourcarpet\":[{\"type\":\"contourcarpet\",\"colorbar\":{\"outlinewidth\":0,\"ticks\":\"\"}}],\"contour\":[{\"type\":\"contour\",\"colorbar\":{\"outlinewidth\":0,\"ticks\":\"\"},\"colorscale\":[[0.0,\"#0d0887\"],[0.1111111111111111,\"#46039f\"],[0.2222222222222222,\"#7201a8\"],[0.3333333333333333,\"#9c179e\"],[0.4444444444444444,\"#bd3786\"],[0.5555555555555556,\"#d8576b\"],[0.6666666666666666,\"#ed7953\"],[0.7777777777777778,\"#fb9f3a\"],[0.8888888888888888,\"#fdca26\"],[1.0,\"#f0f921\"]]}],\"surface\":[{\"type\":\"surface\",\"colorbar\":{\"outlinewidth\":0,\"ticks\":\"\"},\"colorscale\":[[0.0,\"#0d0887\"],[0.1111111111111111,\"#46039f\"],[0.2222222222222222,\"#7201a8\"],[0.3333333333333333,\"#9c179e\"],[0.4444444444444444,\"#bd3786\"],[0.5555555555555556,\"#d8576b\"],[0.6666666666666666,\"#ed7953\"],[0.7777777777777778,\"#fb9f3a\"],[0.8888888888888888,\"#fdca26\"],[1.0,\"#f0f921\"]]}],\"mesh3d\":[{\"type\":\"mesh3d\",\"colorbar\":{\"outlinewidth\":0,\"ticks\":\"\"}}],\"scatter\":[{\"fillpattern\":{\"fillmode\":\"overlay\",\"size\":10,\"solidity\":0.2},\"type\":\"scatter\"}],\"parcoords\":[{\"type\":\"parcoords\",\"line\":{\"colorbar\":{\"outlinewidth\":0,\"ticks\":\"\"}}}],\"scatterpolargl\":[{\"type\":\"scatterpolargl\",\"marker\":{\"colorbar\":{\"outlinewidth\":0,\"ticks\":\"\"}}}],\"bar\":[{\"error_x\":{\"color\":\"#2a3f5f\"},\"error_y\":{\"color\":\"#2a3f5f\"},\"marker\":{\"line\":{\"color\":\"#E5ECF6\",\"width\":0.5},\"pattern\":{\"fillmode\":\"overlay\",\"size\":10,\"solidity\":0.2}},\"type\":\"bar\"}],\"scattergeo\":[{\"type\":\"scattergeo\",\"marker\":{\"colorbar\":{\"outlinewidth\":0,\"ticks\":\"\"}}}],\"scatterpolar\":[{\"type\":\"scatterpolar\",\"marker\":{\"colorbar\":{\"outlinewidth\":0,\"ticks\":\"\"}}}],\"histogram\":[{\"marker\":{\"pattern\":{\"fillmode\":\"overlay\",\"size\":10,\"solidity\":0.2}},\"type\":\"histogram\"}],\"scattergl\":[{\"type\":\"scattergl\",\"marker\":{\"colorbar\":{\"outlinewidth\":0,\"ticks\":\"\"}}}],\"scatter3d\":[{\"type\":\"scatter3d\",\"line\":{\"colorbar\":{\"outlinewidth\":0,\"ticks\":\"\"}},\"marker\":{\"colorbar\":{\"outlinewidth\":0,\"ticks\":\"\"}}}],\"scattermapbox\":[{\"type\":\"scattermapbox\",\"marker\":{\"colorbar\":{\"outlinewidth\":0,\"ticks\":\"\"}}}],\"scatterternary\":[{\"type\":\"scatterternary\",\"marker\":{\"colorbar\":{\"outlinewidth\":0,\"ticks\":\"\"}}}],\"scattercarpet\":[{\"type\":\"scattercarpet\",\"marker\":{\"colorbar\":{\"outlinewidth\":0,\"ticks\":\"\"}}}],\"carpet\":[{\"aaxis\":{\"endlinecolor\":\"#2a3f5f\",\"gridcolor\":\"white\",\"linecolor\":\"white\",\"minorgridcolor\":\"white\",\"startlinecolor\":\"#2a3f5f\"},\"baxis\":{\"endlinecolor\":\"#2a3f5f\",\"gridcolor\":\"white\",\"linecolor\":\"white\",\"minorgridcolor\":\"white\",\"startlinecolor\":\"#2a3f5f\"},\"type\":\"carpet\"}],\"table\":[{\"cells\":{\"fill\":{\"color\":\"#EBF0F8\"},\"line\":{\"color\":\"white\"}},\"header\":{\"fill\":{\"color\":\"#C8D4E3\"},\"line\":{\"color\":\"white\"}},\"type\":\"table\"}],\"barpolar\":[{\"marker\":{\"line\":{\"color\":\"#E5ECF6\",\"width\":0.5},\"pattern\":{\"fillmode\":\"overlay\",\"size\":10,\"solidity\":0.2}},\"type\":\"barpolar\"}],\"pie\":[{\"automargin\":true,\"type\":\"pie\"}]},\"layout\":{\"autotypenumbers\":\"strict\",\"colorway\":[\"#636efa\",\"#EF553B\",\"#00cc96\",\"#ab63fa\",\"#FFA15A\",\"#19d3f3\",\"#FF6692\",\"#B6E880\",\"#FF97FF\",\"#FECB52\"],\"font\":{\"color\":\"#2a3f5f\"},\"hovermode\":\"closest\",\"hoverlabel\":{\"align\":\"left\"},\"paper_bgcolor\":\"white\",\"plot_bgcolor\":\"#E5ECF6\",\"polar\":{\"bgcolor\":\"#E5ECF6\",\"angularaxis\":{\"gridcolor\":\"white\",\"linecolor\":\"white\",\"ticks\":\"\"},\"radialaxis\":{\"gridcolor\":\"white\",\"linecolor\":\"white\",\"ticks\":\"\"}},\"ternary\":{\"bgcolor\":\"#E5ECF6\",\"aaxis\":{\"gridcolor\":\"white\",\"linecolor\":\"white\",\"ticks\":\"\"},\"baxis\":{\"gridcolor\":\"white\",\"linecolor\":\"white\",\"ticks\":\"\"},\"caxis\":{\"gridcolor\":\"white\",\"linecolor\":\"white\",\"ticks\":\"\"}},\"coloraxis\":{\"colorbar\":{\"outlinewidth\":0,\"ticks\":\"\"}},\"colorscale\":{\"sequential\":[[0.0,\"#0d0887\"],[0.1111111111111111,\"#46039f\"],[0.2222222222222222,\"#7201a8\"],[0.3333333333333333,\"#9c179e\"],[0.4444444444444444,\"#bd3786\"],[0.5555555555555556,\"#d8576b\"],[0.6666666666666666,\"#ed7953\"],[0.7777777777777778,\"#fb9f3a\"],[0.8888888888888888,\"#fdca26\"],[1.0,\"#f0f921\"]],\"sequentialminus\":[[0.0,\"#0d0887\"],[0.1111111111111111,\"#46039f\"],[0.2222222222222222,\"#7201a8\"],[0.3333333333333333,\"#9c179e\"],[0.4444444444444444,\"#bd3786\"],[0.5555555555555556,\"#d8576b\"],[0.6666666666666666,\"#ed7953\"],[0.7777777777777778,\"#fb9f3a\"],[0.8888888888888888,\"#fdca26\"],[1.0,\"#f0f921\"]],\"diverging\":[[0,\"#8e0152\"],[0.1,\"#c51b7d\"],[0.2,\"#de77ae\"],[0.3,\"#f1b6da\"],[0.4,\"#fde0ef\"],[0.5,\"#f7f7f7\"],[0.6,\"#e6f5d0\"],[0.7,\"#b8e186\"],[0.8,\"#7fbc41\"],[0.9,\"#4d9221\"],[1,\"#276419\"]]},\"xaxis\":{\"gridcolor\":\"white\",\"linecolor\":\"white\",\"ticks\":\"\",\"title\":{\"standoff\":15},\"zerolinecolor\":\"white\",\"automargin\":true,\"zerolinewidth\":2},\"yaxis\":{\"gridcolor\":\"white\",\"linecolor\":\"white\",\"ticks\":\"\",\"title\":{\"standoff\":15},\"zerolinecolor\":\"white\",\"automargin\":true,\"zerolinewidth\":2},\"scene\":{\"xaxis\":{\"backgroundcolor\":\"#E5ECF6\",\"gridcolor\":\"white\",\"linecolor\":\"white\",\"showbackground\":true,\"ticks\":\"\",\"zerolinecolor\":\"white\",\"gridwidth\":2},\"yaxis\":{\"backgroundcolor\":\"#E5ECF6\",\"gridcolor\":\"white\",\"linecolor\":\"white\",\"showbackground\":true,\"ticks\":\"\",\"zerolinecolor\":\"white\",\"gridwidth\":2},\"zaxis\":{\"backgroundcolor\":\"#E5ECF6\",\"gridcolor\":\"white\",\"linecolor\":\"white\",\"showbackground\":true,\"ticks\":\"\",\"zerolinecolor\":\"white\",\"gridwidth\":2}},\"shapedefaults\":{\"line\":{\"color\":\"#2a3f5f\"}},\"annotationdefaults\":{\"arrowcolor\":\"#2a3f5f\",\"arrowhead\":0,\"arrowwidth\":1},\"geo\":{\"bgcolor\":\"white\",\"landcolor\":\"#E5ECF6\",\"subunitcolor\":\"white\",\"showland\":true,\"showlakes\":true,\"lakecolor\":\"white\"},\"title\":{\"x\":0.05},\"mapbox\":{\"style\":\"light\"}}}},                        {\"responsive\": true}                    ).then(function(){\n",
              "                            \n",
              "var gd = document.getElementById('7420986d-3959-4f18-b0b7-a67ba7c5c4e2');\n",
              "var x = new MutationObserver(function (mutations, observer) {{\n",
              "        var display = window.getComputedStyle(gd).display;\n",
              "        if (!display || display === 'none') {{\n",
              "            console.log([gd, 'removed!']);\n",
              "            Plotly.purge(gd);\n",
              "            observer.disconnect();\n",
              "        }}\n",
              "}});\n",
              "\n",
              "// Listen for the removal of the full notebook cells\n",
              "var notebookContainer = gd.closest('#notebook-container');\n",
              "if (notebookContainer) {{\n",
              "    x.observe(notebookContainer, {childList: true});\n",
              "}}\n",
              "\n",
              "// Listen for the clearing of the current output cell\n",
              "var outputEl = gd.closest('.output');\n",
              "if (outputEl) {{\n",
              "    x.observe(outputEl, {childList: true});\n",
              "}}\n",
              "\n",
              "                        })                };                            </script>        </div>\n",
              "</body>\n",
              "</html>"
            ]
          },
          "metadata": {}
        }
      ]
    },
    {
      "cell_type": "code",
      "source": [
        "def training(data_x,data_y,w_init,b_init,alpha,num_eopchs):\n",
        "  w=w_init\n",
        "  b = b_init\n",
        "\n",
        "  cost_history=[]\n",
        "\n",
        "  w_history=[]\n",
        "  b_history =[]\n",
        "  for i in range(num_eopchs):\n",
        "    cost_history.append(compute_costs(data_x,data_y,w,b))\n",
        "    w_history.append(w)\n",
        "    b_history.append(b)\n",
        "    w,b = step_gradient(data_x,data_y,w,b,alpha)\n",
        "    cost = compute_costs(data_x,data_y,w,b)\n",
        "    cost_history.append(cost)\n",
        "  return cost_history, w_history,b_history\n"
      ],
      "metadata": {
        "id": "yajrRfLnG0_U"
      },
      "execution_count": 46,
      "outputs": []
    },
    {
      "cell_type": "code",
      "source": [
        "cost_history, w_history,b_history = training(X,y,w,b,0.1,20)\n",
        "print(f'first cost = {cost_history[0]}, cost after 20 epochs and alpha =0.01 = {cost_history[-1]}')"
      ],
      "metadata": {
        "colab": {
          "base_uri": "https://localhost:8080/",
          "height": 321
        },
        "id": "h5NJN8JRHpRO",
        "outputId": "088cf09d-f427-4aef-b3dd-3bc6365ab2f4"
      },
      "execution_count": 74,
      "outputs": [
        {
          "output_type": "error",
          "ename": "ValueError",
          "evalue": "matmul: Input operand 1 has a mismatch in its core dimension 0, with gufunc signature (n?,k),(k,m?)->(n?,m?) (size 2 is different from 7)",
          "traceback": [
            "\u001b[0;31m---------------------------------------------------------------------------\u001b[0m",
            "\u001b[0;31mValueError\u001b[0m                                Traceback (most recent call last)",
            "\u001b[0;32m<ipython-input-74-ac2ce0fb6987>\u001b[0m in \u001b[0;36m<cell line: 0>\u001b[0;34m()\u001b[0m\n\u001b[0;32m----> 1\u001b[0;31m \u001b[0mcost_history\u001b[0m\u001b[0;34m,\u001b[0m \u001b[0mw_history\u001b[0m\u001b[0;34m,\u001b[0m\u001b[0mb_history\u001b[0m \u001b[0;34m=\u001b[0m \u001b[0mtraining\u001b[0m\u001b[0;34m(\u001b[0m\u001b[0mX\u001b[0m\u001b[0;34m,\u001b[0m\u001b[0my\u001b[0m\u001b[0;34m,\u001b[0m\u001b[0mw\u001b[0m\u001b[0;34m,\u001b[0m\u001b[0mb\u001b[0m\u001b[0;34m,\u001b[0m\u001b[0;36m0.1\u001b[0m\u001b[0;34m,\u001b[0m\u001b[0;36m20\u001b[0m\u001b[0;34m)\u001b[0m\u001b[0;34m\u001b[0m\u001b[0;34m\u001b[0m\u001b[0m\n\u001b[0m\u001b[1;32m      2\u001b[0m \u001b[0mprint\u001b[0m\u001b[0;34m(\u001b[0m\u001b[0;34mf'first cost = {cost_history[0]}, cost after 20 epochs and alpha =0.01 = {cost_history[-1]}'\u001b[0m\u001b[0;34m)\u001b[0m\u001b[0;34m\u001b[0m\u001b[0;34m\u001b[0m\u001b[0m\n",
            "\u001b[0;32m<ipython-input-46-cecfc777a5bc>\u001b[0m in \u001b[0;36mtraining\u001b[0;34m(data_x, data_y, w_init, b_init, alpha, num_eopchs)\u001b[0m\n\u001b[1;32m      8\u001b[0m   \u001b[0mb_history\u001b[0m \u001b[0;34m=\u001b[0m\u001b[0;34m[\u001b[0m\u001b[0;34m]\u001b[0m\u001b[0;34m\u001b[0m\u001b[0;34m\u001b[0m\u001b[0m\n\u001b[1;32m      9\u001b[0m   \u001b[0;32mfor\u001b[0m \u001b[0mi\u001b[0m \u001b[0;32min\u001b[0m \u001b[0mrange\u001b[0m\u001b[0;34m(\u001b[0m\u001b[0mnum_eopchs\u001b[0m\u001b[0;34m)\u001b[0m\u001b[0;34m:\u001b[0m\u001b[0;34m\u001b[0m\u001b[0;34m\u001b[0m\u001b[0m\n\u001b[0;32m---> 10\u001b[0;31m     \u001b[0mcost_history\u001b[0m\u001b[0;34m.\u001b[0m\u001b[0mappend\u001b[0m\u001b[0;34m(\u001b[0m\u001b[0mcompute_costs\u001b[0m\u001b[0;34m(\u001b[0m\u001b[0mdata_x\u001b[0m\u001b[0;34m,\u001b[0m\u001b[0mdata_y\u001b[0m\u001b[0;34m,\u001b[0m\u001b[0mw\u001b[0m\u001b[0;34m,\u001b[0m\u001b[0mb\u001b[0m\u001b[0;34m)\u001b[0m\u001b[0;34m)\u001b[0m\u001b[0;34m\u001b[0m\u001b[0;34m\u001b[0m\u001b[0m\n\u001b[0m\u001b[1;32m     11\u001b[0m     \u001b[0mw_history\u001b[0m\u001b[0;34m.\u001b[0m\u001b[0mappend\u001b[0m\u001b[0;34m(\u001b[0m\u001b[0mw\u001b[0m\u001b[0;34m)\u001b[0m\u001b[0;34m\u001b[0m\u001b[0;34m\u001b[0m\u001b[0m\n\u001b[1;32m     12\u001b[0m     \u001b[0mb_history\u001b[0m\u001b[0;34m.\u001b[0m\u001b[0mappend\u001b[0m\u001b[0;34m(\u001b[0m\u001b[0mb\u001b[0m\u001b[0;34m)\u001b[0m\u001b[0;34m\u001b[0m\u001b[0;34m\u001b[0m\u001b[0m\n",
            "\u001b[0;32m<ipython-input-36-a648af11da8b>\u001b[0m in \u001b[0;36mcompute_costs\u001b[0;34m(X, y, w, b)\u001b[0m\n\u001b[1;32m      1\u001b[0m \u001b[0;32mdef\u001b[0m \u001b[0mcompute_costs\u001b[0m\u001b[0;34m(\u001b[0m\u001b[0mX\u001b[0m\u001b[0;34m,\u001b[0m\u001b[0my\u001b[0m\u001b[0;34m,\u001b[0m\u001b[0mw\u001b[0m\u001b[0;34m,\u001b[0m\u001b[0mb\u001b[0m\u001b[0;34m)\u001b[0m\u001b[0;34m:\u001b[0m\u001b[0;34m\u001b[0m\u001b[0;34m\u001b[0m\u001b[0m\n\u001b[0;32m----> 2\u001b[0;31m   \u001b[0my_pred\u001b[0m \u001b[0;34m=\u001b[0m \u001b[0mmodel\u001b[0m\u001b[0;34m(\u001b[0m\u001b[0mX\u001b[0m\u001b[0;34m,\u001b[0m\u001b[0mw\u001b[0m\u001b[0;34m,\u001b[0m\u001b[0mb\u001b[0m\u001b[0;34m)\u001b[0m\u001b[0;34m\u001b[0m\u001b[0;34m\u001b[0m\u001b[0m\n\u001b[0m\u001b[1;32m      3\u001b[0m   \u001b[0;32mreturn\u001b[0m \u001b[0mcross_entropy\u001b[0m\u001b[0;34m(\u001b[0m\u001b[0my_pred\u001b[0m\u001b[0;34m,\u001b[0m\u001b[0my\u001b[0m\u001b[0;34m)\u001b[0m\u001b[0;34m\u001b[0m\u001b[0;34m\u001b[0m\u001b[0m\n",
            "\u001b[0;32m<ipython-input-32-1f0362d71edb>\u001b[0m in \u001b[0;36mmodel\u001b[0;34m(x, w, b)\u001b[0m\n\u001b[1;32m      1\u001b[0m \u001b[0;32mdef\u001b[0m \u001b[0mmodel\u001b[0m\u001b[0;34m(\u001b[0m\u001b[0mx\u001b[0m\u001b[0;34m,\u001b[0m\u001b[0mw\u001b[0m\u001b[0;34m,\u001b[0m\u001b[0mb\u001b[0m\u001b[0;34m)\u001b[0m\u001b[0;34m:\u001b[0m\u001b[0;34m\u001b[0m\u001b[0;34m\u001b[0m\u001b[0m\n\u001b[0;32m----> 2\u001b[0;31m   \u001b[0mlogits\u001b[0m \u001b[0;34m=\u001b[0m \u001b[0mnp\u001b[0m\u001b[0;34m.\u001b[0m\u001b[0mmatmul\u001b[0m\u001b[0;34m(\u001b[0m\u001b[0mx\u001b[0m\u001b[0;34m,\u001b[0m\u001b[0mw\u001b[0m\u001b[0;34m)\u001b[0m \u001b[0;34m+\u001b[0m \u001b[0mb\u001b[0m\u001b[0;34m\u001b[0m\u001b[0;34m\u001b[0m\u001b[0m\n\u001b[0m\u001b[1;32m      3\u001b[0m   \u001b[0;32mreturn\u001b[0m \u001b[0msigmoid\u001b[0m\u001b[0;34m(\u001b[0m\u001b[0mlogits\u001b[0m\u001b[0;34m)\u001b[0m\u001b[0;34m\u001b[0m\u001b[0;34m\u001b[0m\u001b[0m\n\u001b[1;32m      4\u001b[0m \u001b[0;34m\u001b[0m\u001b[0m\n\u001b[1;32m      5\u001b[0m \u001b[0my_pred\u001b[0m \u001b[0;34m=\u001b[0m \u001b[0mmodel\u001b[0m\u001b[0;34m(\u001b[0m\u001b[0mX\u001b[0m\u001b[0;34m,\u001b[0m\u001b[0mw\u001b[0m\u001b[0;34m,\u001b[0m\u001b[0mb\u001b[0m\u001b[0;34m)\u001b[0m\u001b[0;34m\u001b[0m\u001b[0;34m\u001b[0m\u001b[0m\n",
            "\u001b[0;31mValueError\u001b[0m: matmul: Input operand 1 has a mismatch in its core dimension 0, with gufunc signature (n?,k),(k,m?)->(n?,m?) (size 2 is different from 7)"
          ]
        }
      ]
    },
    {
      "cell_type": "code",
      "source": [
        "cost_history, w_history,b_history = training(X,y,w,b,0.1,100)\n",
        "print(f'first cost = {cost_history[0]}, cost after 100 and alpha =0.01 epochs = {cost_history[-1]}')"
      ],
      "metadata": {
        "colab": {
          "base_uri": "https://localhost:8080/"
        },
        "id": "YTo9AT2UHzKZ",
        "outputId": "85f7621e-1934-4a2a-a1a0-25a23d1912cc"
      },
      "execution_count": 48,
      "outputs": [
        {
          "output_type": "stream",
          "name": "stdout",
          "text": [
            "first cost = 1.027921502033809, cost after 100 and alpha =0.01 epochs = 0.3783349737244731\n"
          ]
        }
      ]
    },
    {
      "cell_type": "code",
      "source": [
        "cost_history, w_history,b_history = training(X,y,w,b,1,20)\n",
        "print(f'first cost = {cost_history[0]}, cost after 20 epochs and alpha =1 = {cost_history[-1]}')"
      ],
      "metadata": {
        "colab": {
          "base_uri": "https://localhost:8080/"
        },
        "id": "I-xOWqVPIKw2",
        "outputId": "d2c2d78f-80e2-4268-f9c3-6c304d16cf96"
      },
      "execution_count": 49,
      "outputs": [
        {
          "output_type": "stream",
          "name": "stdout",
          "text": [
            "first cost = 1.027921502033809, cost after 20 epochs and alpha =1 = 0.29649513318300824\n"
          ]
        }
      ]
    },
    {
      "cell_type": "markdown",
      "source": [
        "Plot for trained data with cost ~0.2964"
      ],
      "metadata": {
        "id": "tIi7a1XmI6Nz"
      }
    },
    {
      "cell_type": "code",
      "source": [
        "plot(w_history[-1],b_history[-1])"
      ],
      "metadata": {
        "colab": {
          "base_uri": "https://localhost:8080/",
          "height": 542
        },
        "id": "ECBl6YKXIWlQ",
        "outputId": "39c1e84d-8231-4223-9afb-84e300de4bdd"
      },
      "execution_count": 50,
      "outputs": [
        {
          "output_type": "display_data",
          "data": {
            "text/html": [
              "<html>\n",
              "<head><meta charset=\"utf-8\" /></head>\n",
              "<body>\n",
              "    <div>            <script src=\"https://cdnjs.cloudflare.com/ajax/libs/mathjax/2.7.5/MathJax.js?config=TeX-AMS-MML_SVG\"></script><script type=\"text/javascript\">if (window.MathJax && window.MathJax.Hub && window.MathJax.Hub.Config) {window.MathJax.Hub.Config({SVG: {font: \"STIX-Web\"}});}</script>                <script type=\"text/javascript\">window.PlotlyConfig = {MathJaxConfig: 'local'};</script>\n",
              "        <script charset=\"utf-8\" src=\"https://cdn.plot.ly/plotly-2.35.2.min.js\"></script>                <div id=\"0f8a7e2c-768f-4164-8ed8-5d23a5c0f4a6\" class=\"plotly-graph-div\" style=\"height:525px; width:100%;\"></div>            <script type=\"text/javascript\">                                    window.PLOTLYENV=window.PLOTLYENV || {};                                    if (document.getElementById(\"0f8a7e2c-768f-4164-8ed8-5d23a5c0f4a6\")) {                    Plotly.newPlot(                        \"0f8a7e2c-768f-4164-8ed8-5d23a5c0f4a6\",                        [{\"hovertemplate\":\"label=negative\\u003cbr\\u003eX_1=%{x}\\u003cbr\\u003eX_2=%{y}\\u003cextra\\u003e\\u003c\\u002fextra\\u003e\",\"legendgroup\":\"negative\",\"marker\":{\"color\":\"#636efa\",\"symbol\":\"circle\"},\"mode\":\"markers\",\"name\":\"negative\",\"orientation\":\"v\",\"showlegend\":true,\"x\":[1.434173635112031,-0.5469796802994843,0.24945568966188492,-1.0476066942141207,1.0832910619757434,0.0032250772357975688,-0.19683979873497215,1.1011976577275857,1.9072880096908222,-1.02113561308211,-1.1890243964309262,-0.9841168963809241,0.7976567283121585,-0.6668487210974013,0.43605818630062343,1.0404406336717182,1.0379017583590378,-0.6665896431292061,-0.5067129215131958,-0.9228829453892919,1.5867583319988618,-1.0464204597595783,2.3389396485994207,-1.1944935743138911,-0.6800950033413216,-0.8297910155085373,1.3250705067295145,-1.0481753395549422,0.3316404302443122,3.486147907234487,0.15315978468509017,-0.27431942937850873,-0.44598479838425975,-1.0704795316824134,0.3715499455724911,-0.5767535999432052,1.0960570141026196,2.199731343460071,-0.6532288263201578,1.5204423488162426,-0.6330693570891105,-1.3018898298573163,1.2063675339608968,1.604948824955505,-0.9122097196345488,0.2356781491695965,1.5222453853198652,1.268835056204761,-0.6677736898683282,1.0449954118473959,-0.00741554577248138,-1.06090632554496,-0.443192967631553,1.5670906141096337,-0.3718258399113319,1.3335118794829988,-1.2770823103063584,-1.1245582546901345,3.150024125877107,-0.26904280055593954,2.842403900484512,-1.4171010153111583,-1.1502394210411435,-0.5580183990596479,-0.9350458699576284,-0.5255894117514601,0.09233329570714344,0.8299507533944536,-0.062111432284645884,-0.3163498648460451,1.0811390139928967,1.2770787556501946,-0.45780057559044174,-1.2761968768979273,3.4059933802379634,-0.47489159766101996,-1.6786904836738152,2.7819580569778863,-0.8508331278401153,1.173619234527523,-0.6901902134888895,1.4600222060453132,-1.0215880314295191,-0.8733575898418926,1.860393113455874,1.7474899019389922,-0.15930635716140973,1.942763205103346,-0.9114702698449234,1.8619038915857051,1.894516412543466,-1.0850010580386786,-0.6772412833392627,1.1456602902749142,-0.7680303358959724,-0.542080851619884,-0.7848968148416233,-1.172132786791159,-0.9221377430009943,-1.0289125004643918],\"xaxis\":\"x\",\"y\":[-0.5937424792168728,-1.0617598692054115,-1.0333614912508065,-0.6937908736014446,-0.9055340458849237,-1.1205013286440806,-2.3693486994866366,0.22312514133001504,0.885041261321615,-1.2672894373822519,-1.6643369666262202,-2.1986432983298556,-0.5276170155152538,0.5902400374466996,-2.431184846867298,-1.4350042230287727,-1.1827897162215155,-1.0122070083872463,-2.5310483348068376,-0.9306826793473737,-0.10775267228457841,0.49783029509314614,-1.26172653531555,-1.356197250621976,-2.783864672043528,-0.8412562573193982,-1.8600717978336267,-0.49943962334147307,-1.4663397533194655,0.5975427484626821,-3.423914469881648,-1.8271013717999334,-0.3397829733573765,-0.547185390861365,-0.8692198189919627,-0.8981580628576675,-0.7127786543459882,-0.23504037042663262,-1.097100203226748,-0.8549927495415822,-1.741160662876014,-2.1638415831456483,-2.321854292912754,1.6298186753214625,0.21130211732064996,-0.8090425333688327,-1.1961245260476296,0.7006974072706913,-1.5842304913802319,-0.6934390910995909,-1.626488668625368,-0.3872285115327685,-0.533875317168361,0.11779391402639261,-0.0687440376915831,-0.016424446069008947,-0.650031223781796,0.030806034194265086,-1.067842872521462,-2.0630775335044813,1.7145704883334507,-3.117055201032854,0.6904286282832777,-2.063380516662323,-0.484024222754067,-2.7837353612767295,-1.405915759661006,-1.94427336417065,-1.7042300485191093,-0.18897377086430545,-0.8944076763115142,-2.7977943422189977,-0.03811275963607108,-1.0799574600243604,-0.7767054260348945,-0.9744685554844783,-0.7834799991909414,1.1054115688517276,-2.201332871115371,-2.2438176686026425,-1.5442076627429402,-0.41965382095526704,-1.4920787085608345,-1.4098972127739773,0.47552607520092405,-0.5073021544232863,-1.3072651852146597,0.6534927201086411,-2.1664317813605196,-0.35998385456389437,-1.1336855500348602,-0.4412254639097881,-0.5202518364532942,-1.2622945580958747,-1.576901800257325,-1.0869131760068007,1.1225880937073387,-1.582148727982375,-2.105524467786564,-1.0583491703900738],\"yaxis\":\"y\",\"type\":\"scatter\"},{\"hovertemplate\":\"label=positive\\u003cbr\\u003eX_1=%{x}\\u003cbr\\u003eX_2=%{y}\\u003cextra\\u003e\\u003c\\u002fextra\\u003e\",\"legendgroup\":\"positive\",\"marker\":{\"color\":\"#EF553B\",\"symbol\":\"circle\"},\"mode\":\"markers\",\"name\":\"positive\",\"orientation\":\"v\",\"showlegend\":true,\"x\":[0.6510436832547352,-0.3410376012882108,0.8617305852770683,1.6027681545263912,0.9365735054085003,0.10821284145501597,0.9655195962216812,-1.0001587915829502,0.11443704641698771,-1.7973232561347752,0.2970587124906483,1.8894200172994657,1.0357772317434946,2.0424401027238863,-0.8318651417803088,-0.5191026555223968,-1.3662843586334787,-1.6041552219245667,0.39186572886284277,2.5748561683765168,-0.23148278903150954,-0.06325539205681219,2.6516134781696623,0.1420115593764577,1.6873853176721323,-0.7807491025005086,-0.27095982951056274,-0.6849483057616574,-0.03628477816024889,0.37533296126232796,2.4469243827115736,-1.1757552880087836,-1.1226980484085467,1.3381071135820148,1.9857056206900054,0.3551154772800872,-1.2928405036391402,2.712178066557498,-0.92463346850637,-0.8808570717236589,0.19335378354673272,-1.6557060190822872,2.184009024732495,0.2144074932590475,-0.6959618145269912,0.9751001133336679,-1.0863991250718785,-0.5395531041201886,-2.059851039646218,0.26270955647378424,-1.3505591921343205,1.2965235317842714,-1.2204920305222637,-1.5453951737046212,1.134848028974001,-0.6826126203231383,-0.22166023730957307,-1.513550696486212,-1.16773623022518,2.471452293656415,1.4535615315098331,-0.34618955384579486,-0.07350275392955319,2.878763476552823,1.1334782198552205,1.1203041951882828,-0.14351937814585247,1.548674247489685,1.0839224441567763,0.6527481560659303,-0.3533281392877743,-0.7801628454249668,3.144663361162778,0.5522634453946011,-1.5839048990797184,-0.2779626074800725,-0.0952772886330977,-1.860351857931264,-0.41420302522970576,-1.7369492090202265,0.7606885612174914,-0.6398022828790222,-0.31698505021383483,0.18729941893382507,1.4613269191532985,-1.3749851211341155,1.7951503151743646,1.6209976516952556,-1.8864099604255016,-1.4265599737161012,-0.6937911366795119,-1.3413277208935337,-0.8708281378824403,-0.27976400639830745,0.6901385461362237,-1.9215116969329675,0.601835294963196,-1.3094696060289863,0.6177532610944598,0.26797144916940585],\"xaxis\":\"x\",\"y\":[0.8689714292342421,2.7318904170989304,0.8313684352127544,1.087409831689059,1.3711767769197787,0.6277025746774652,0.7388063393792065,1.827343387101576,2.145363357730863,-0.6221031730736324,3.003882413282427,0.7229775728153559,0.4221566479032871,1.657690150375862,1.7639181574525318,0.9269107547974382,0.35425055992420984,0.6138399555877183,-0.20820503241061905,2.693471419410173,1.3022635621611014,0.7013832716397305,0.9192538340540002,0.25074625949733076,0.9418447382765991,1.6018358955379393,1.5478315425682314,2.2725532374654795,1.0612484809670166,2.5018015197450882,1.7354546796524906,1.3038107127586032,0.3887655637155524,1.6417486663351777,1.2242774870774038,0.7480738422134088,1.7062344737147905,1.6789201176334347,-1.3183441462023788,1.0542554281245176,0.4592853420396935,-0.30653869519380117,1.1137032577311137,-0.36946864275666047,0.35868687509394304,0.1847448541880523,0.8489984323078783,2.82014130225763,-0.6126492766826697,2.523199215531265,0.16136294594849687,0.9630936044017779,1.1227631933835196,1.3770502242128133,1.390305798605041,2.32532078017761,-0.3730534770380276,0.956055652007788,1.2773279532004937,1.4166760298111751,0.27861055587475914,2.4866251664707213,0.7020043875666935,1.7171654855706007,2.3196542845601145,0.7602061407961114,1.3783900115066883,1.399625573221033,2.480798816640032,-0.37340748399885637,0.9153769522685488,0.8097016440617862,3.163970968194664,1.0940662029815658,-0.5515649003233232,2.6123526471290046,0.3121040404228138,0.376943521515933,0.5864857128679506,0.08792592017205914,0.9843691019956373,0.7278115478880403,2.1963294841409686,2.033058387897179,2.7395367184983295,0.09152183506577449,1.7953547137406425,1.530712288503985,-0.03174448455364143,0.5605900386584055,2.0896382461468064,1.1423076038254933,0.5078208733939417,2.9125706387992016,1.9439762341805595,-0.10689791208897925,3.8919891326538067,0.9496468818941581,0.7510261408268538,2.9731999261871334],\"yaxis\":\"y\",\"type\":\"scatter\"},{\"name\":\"brzeg\",\"x\":[-2,4],\"y\":[-0.47063859534681923,1.3019625067146299],\"type\":\"scatter\"}],                        {\"template\":{\"data\":{\"histogram2dcontour\":[{\"type\":\"histogram2dcontour\",\"colorbar\":{\"outlinewidth\":0,\"ticks\":\"\"},\"colorscale\":[[0.0,\"#0d0887\"],[0.1111111111111111,\"#46039f\"],[0.2222222222222222,\"#7201a8\"],[0.3333333333333333,\"#9c179e\"],[0.4444444444444444,\"#bd3786\"],[0.5555555555555556,\"#d8576b\"],[0.6666666666666666,\"#ed7953\"],[0.7777777777777778,\"#fb9f3a\"],[0.8888888888888888,\"#fdca26\"],[1.0,\"#f0f921\"]]}],\"choropleth\":[{\"type\":\"choropleth\",\"colorbar\":{\"outlinewidth\":0,\"ticks\":\"\"}}],\"histogram2d\":[{\"type\":\"histogram2d\",\"colorbar\":{\"outlinewidth\":0,\"ticks\":\"\"},\"colorscale\":[[0.0,\"#0d0887\"],[0.1111111111111111,\"#46039f\"],[0.2222222222222222,\"#7201a8\"],[0.3333333333333333,\"#9c179e\"],[0.4444444444444444,\"#bd3786\"],[0.5555555555555556,\"#d8576b\"],[0.6666666666666666,\"#ed7953\"],[0.7777777777777778,\"#fb9f3a\"],[0.8888888888888888,\"#fdca26\"],[1.0,\"#f0f921\"]]}],\"heatmap\":[{\"type\":\"heatmap\",\"colorbar\":{\"outlinewidth\":0,\"ticks\":\"\"},\"colorscale\":[[0.0,\"#0d0887\"],[0.1111111111111111,\"#46039f\"],[0.2222222222222222,\"#7201a8\"],[0.3333333333333333,\"#9c179e\"],[0.4444444444444444,\"#bd3786\"],[0.5555555555555556,\"#d8576b\"],[0.6666666666666666,\"#ed7953\"],[0.7777777777777778,\"#fb9f3a\"],[0.8888888888888888,\"#fdca26\"],[1.0,\"#f0f921\"]]}],\"heatmapgl\":[{\"type\":\"heatmapgl\",\"colorbar\":{\"outlinewidth\":0,\"ticks\":\"\"},\"colorscale\":[[0.0,\"#0d0887\"],[0.1111111111111111,\"#46039f\"],[0.2222222222222222,\"#7201a8\"],[0.3333333333333333,\"#9c179e\"],[0.4444444444444444,\"#bd3786\"],[0.5555555555555556,\"#d8576b\"],[0.6666666666666666,\"#ed7953\"],[0.7777777777777778,\"#fb9f3a\"],[0.8888888888888888,\"#fdca26\"],[1.0,\"#f0f921\"]]}],\"contourcarpet\":[{\"type\":\"contourcarpet\",\"colorbar\":{\"outlinewidth\":0,\"ticks\":\"\"}}],\"contour\":[{\"type\":\"contour\",\"colorbar\":{\"outlinewidth\":0,\"ticks\":\"\"},\"colorscale\":[[0.0,\"#0d0887\"],[0.1111111111111111,\"#46039f\"],[0.2222222222222222,\"#7201a8\"],[0.3333333333333333,\"#9c179e\"],[0.4444444444444444,\"#bd3786\"],[0.5555555555555556,\"#d8576b\"],[0.6666666666666666,\"#ed7953\"],[0.7777777777777778,\"#fb9f3a\"],[0.8888888888888888,\"#fdca26\"],[1.0,\"#f0f921\"]]}],\"surface\":[{\"type\":\"surface\",\"colorbar\":{\"outlinewidth\":0,\"ticks\":\"\"},\"colorscale\":[[0.0,\"#0d0887\"],[0.1111111111111111,\"#46039f\"],[0.2222222222222222,\"#7201a8\"],[0.3333333333333333,\"#9c179e\"],[0.4444444444444444,\"#bd3786\"],[0.5555555555555556,\"#d8576b\"],[0.6666666666666666,\"#ed7953\"],[0.7777777777777778,\"#fb9f3a\"],[0.8888888888888888,\"#fdca26\"],[1.0,\"#f0f921\"]]}],\"mesh3d\":[{\"type\":\"mesh3d\",\"colorbar\":{\"outlinewidth\":0,\"ticks\":\"\"}}],\"scatter\":[{\"fillpattern\":{\"fillmode\":\"overlay\",\"size\":10,\"solidity\":0.2},\"type\":\"scatter\"}],\"parcoords\":[{\"type\":\"parcoords\",\"line\":{\"colorbar\":{\"outlinewidth\":0,\"ticks\":\"\"}}}],\"scatterpolargl\":[{\"type\":\"scatterpolargl\",\"marker\":{\"colorbar\":{\"outlinewidth\":0,\"ticks\":\"\"}}}],\"bar\":[{\"error_x\":{\"color\":\"#2a3f5f\"},\"error_y\":{\"color\":\"#2a3f5f\"},\"marker\":{\"line\":{\"color\":\"#E5ECF6\",\"width\":0.5},\"pattern\":{\"fillmode\":\"overlay\",\"size\":10,\"solidity\":0.2}},\"type\":\"bar\"}],\"scattergeo\":[{\"type\":\"scattergeo\",\"marker\":{\"colorbar\":{\"outlinewidth\":0,\"ticks\":\"\"}}}],\"scatterpolar\":[{\"type\":\"scatterpolar\",\"marker\":{\"colorbar\":{\"outlinewidth\":0,\"ticks\":\"\"}}}],\"histogram\":[{\"marker\":{\"pattern\":{\"fillmode\":\"overlay\",\"size\":10,\"solidity\":0.2}},\"type\":\"histogram\"}],\"scattergl\":[{\"type\":\"scattergl\",\"marker\":{\"colorbar\":{\"outlinewidth\":0,\"ticks\":\"\"}}}],\"scatter3d\":[{\"type\":\"scatter3d\",\"line\":{\"colorbar\":{\"outlinewidth\":0,\"ticks\":\"\"}},\"marker\":{\"colorbar\":{\"outlinewidth\":0,\"ticks\":\"\"}}}],\"scattermapbox\":[{\"type\":\"scattermapbox\",\"marker\":{\"colorbar\":{\"outlinewidth\":0,\"ticks\":\"\"}}}],\"scatterternary\":[{\"type\":\"scatterternary\",\"marker\":{\"colorbar\":{\"outlinewidth\":0,\"ticks\":\"\"}}}],\"scattercarpet\":[{\"type\":\"scattercarpet\",\"marker\":{\"colorbar\":{\"outlinewidth\":0,\"ticks\":\"\"}}}],\"carpet\":[{\"aaxis\":{\"endlinecolor\":\"#2a3f5f\",\"gridcolor\":\"white\",\"linecolor\":\"white\",\"minorgridcolor\":\"white\",\"startlinecolor\":\"#2a3f5f\"},\"baxis\":{\"endlinecolor\":\"#2a3f5f\",\"gridcolor\":\"white\",\"linecolor\":\"white\",\"minorgridcolor\":\"white\",\"startlinecolor\":\"#2a3f5f\"},\"type\":\"carpet\"}],\"table\":[{\"cells\":{\"fill\":{\"color\":\"#EBF0F8\"},\"line\":{\"color\":\"white\"}},\"header\":{\"fill\":{\"color\":\"#C8D4E3\"},\"line\":{\"color\":\"white\"}},\"type\":\"table\"}],\"barpolar\":[{\"marker\":{\"line\":{\"color\":\"#E5ECF6\",\"width\":0.5},\"pattern\":{\"fillmode\":\"overlay\",\"size\":10,\"solidity\":0.2}},\"type\":\"barpolar\"}],\"pie\":[{\"automargin\":true,\"type\":\"pie\"}]},\"layout\":{\"autotypenumbers\":\"strict\",\"colorway\":[\"#636efa\",\"#EF553B\",\"#00cc96\",\"#ab63fa\",\"#FFA15A\",\"#19d3f3\",\"#FF6692\",\"#B6E880\",\"#FF97FF\",\"#FECB52\"],\"font\":{\"color\":\"#2a3f5f\"},\"hovermode\":\"closest\",\"hoverlabel\":{\"align\":\"left\"},\"paper_bgcolor\":\"white\",\"plot_bgcolor\":\"#E5ECF6\",\"polar\":{\"bgcolor\":\"#E5ECF6\",\"angularaxis\":{\"gridcolor\":\"white\",\"linecolor\":\"white\",\"ticks\":\"\"},\"radialaxis\":{\"gridcolor\":\"white\",\"linecolor\":\"white\",\"ticks\":\"\"}},\"ternary\":{\"bgcolor\":\"#E5ECF6\",\"aaxis\":{\"gridcolor\":\"white\",\"linecolor\":\"white\",\"ticks\":\"\"},\"baxis\":{\"gridcolor\":\"white\",\"linecolor\":\"white\",\"ticks\":\"\"},\"caxis\":{\"gridcolor\":\"white\",\"linecolor\":\"white\",\"ticks\":\"\"}},\"coloraxis\":{\"colorbar\":{\"outlinewidth\":0,\"ticks\":\"\"}},\"colorscale\":{\"sequential\":[[0.0,\"#0d0887\"],[0.1111111111111111,\"#46039f\"],[0.2222222222222222,\"#7201a8\"],[0.3333333333333333,\"#9c179e\"],[0.4444444444444444,\"#bd3786\"],[0.5555555555555556,\"#d8576b\"],[0.6666666666666666,\"#ed7953\"],[0.7777777777777778,\"#fb9f3a\"],[0.8888888888888888,\"#fdca26\"],[1.0,\"#f0f921\"]],\"sequentialminus\":[[0.0,\"#0d0887\"],[0.1111111111111111,\"#46039f\"],[0.2222222222222222,\"#7201a8\"],[0.3333333333333333,\"#9c179e\"],[0.4444444444444444,\"#bd3786\"],[0.5555555555555556,\"#d8576b\"],[0.6666666666666666,\"#ed7953\"],[0.7777777777777778,\"#fb9f3a\"],[0.8888888888888888,\"#fdca26\"],[1.0,\"#f0f921\"]],\"diverging\":[[0,\"#8e0152\"],[0.1,\"#c51b7d\"],[0.2,\"#de77ae\"],[0.3,\"#f1b6da\"],[0.4,\"#fde0ef\"],[0.5,\"#f7f7f7\"],[0.6,\"#e6f5d0\"],[0.7,\"#b8e186\"],[0.8,\"#7fbc41\"],[0.9,\"#4d9221\"],[1,\"#276419\"]]},\"xaxis\":{\"gridcolor\":\"white\",\"linecolor\":\"white\",\"ticks\":\"\",\"title\":{\"standoff\":15},\"zerolinecolor\":\"white\",\"automargin\":true,\"zerolinewidth\":2},\"yaxis\":{\"gridcolor\":\"white\",\"linecolor\":\"white\",\"ticks\":\"\",\"title\":{\"standoff\":15},\"zerolinecolor\":\"white\",\"automargin\":true,\"zerolinewidth\":2},\"scene\":{\"xaxis\":{\"backgroundcolor\":\"#E5ECF6\",\"gridcolor\":\"white\",\"linecolor\":\"white\",\"showbackground\":true,\"ticks\":\"\",\"zerolinecolor\":\"white\",\"gridwidth\":2},\"yaxis\":{\"backgroundcolor\":\"#E5ECF6\",\"gridcolor\":\"white\",\"linecolor\":\"white\",\"showbackground\":true,\"ticks\":\"\",\"zerolinecolor\":\"white\",\"gridwidth\":2},\"zaxis\":{\"backgroundcolor\":\"#E5ECF6\",\"gridcolor\":\"white\",\"linecolor\":\"white\",\"showbackground\":true,\"ticks\":\"\",\"zerolinecolor\":\"white\",\"gridwidth\":2}},\"shapedefaults\":{\"line\":{\"color\":\"#2a3f5f\"}},\"annotationdefaults\":{\"arrowcolor\":\"#2a3f5f\",\"arrowhead\":0,\"arrowwidth\":1},\"geo\":{\"bgcolor\":\"white\",\"landcolor\":\"#E5ECF6\",\"subunitcolor\":\"white\",\"showland\":true,\"showlakes\":true,\"lakecolor\":\"white\"},\"title\":{\"x\":0.05},\"mapbox\":{\"style\":\"light\"}}}},                        {\"responsive\": true}                    ).then(function(){\n",
              "                            \n",
              "var gd = document.getElementById('0f8a7e2c-768f-4164-8ed8-5d23a5c0f4a6');\n",
              "var x = new MutationObserver(function (mutations, observer) {{\n",
              "        var display = window.getComputedStyle(gd).display;\n",
              "        if (!display || display === 'none') {{\n",
              "            console.log([gd, 'removed!']);\n",
              "            Plotly.purge(gd);\n",
              "            observer.disconnect();\n",
              "        }}\n",
              "}});\n",
              "\n",
              "// Listen for the removal of the full notebook cells\n",
              "var notebookContainer = gd.closest('#notebook-container');\n",
              "if (notebookContainer) {{\n",
              "    x.observe(notebookContainer, {childList: true});\n",
              "}}\n",
              "\n",
              "// Listen for the clearing of the current output cell\n",
              "var outputEl = gd.closest('.output');\n",
              "if (outputEl) {{\n",
              "    x.observe(outputEl, {childList: true});\n",
              "}}\n",
              "\n",
              "                        })                };                            </script>        </div>\n",
              "</body>\n",
              "</html>"
            ]
          },
          "metadata": {}
        }
      ]
    },
    {
      "cell_type": "markdown",
      "source": [
        "plot for not trained data"
      ],
      "metadata": {
        "id": "LSHdfE1HJByQ"
      }
    },
    {
      "cell_type": "code",
      "source": [
        "plot(w,b)"
      ],
      "metadata": {
        "colab": {
          "base_uri": "https://localhost:8080/",
          "height": 542
        },
        "id": "5NAn_NtYI1K-",
        "outputId": "cbaab89c-be65-4897-8825-787a8010b1c5"
      },
      "execution_count": 51,
      "outputs": [
        {
          "output_type": "display_data",
          "data": {
            "text/html": [
              "<html>\n",
              "<head><meta charset=\"utf-8\" /></head>\n",
              "<body>\n",
              "    <div>            <script src=\"https://cdnjs.cloudflare.com/ajax/libs/mathjax/2.7.5/MathJax.js?config=TeX-AMS-MML_SVG\"></script><script type=\"text/javascript\">if (window.MathJax && window.MathJax.Hub && window.MathJax.Hub.Config) {window.MathJax.Hub.Config({SVG: {font: \"STIX-Web\"}});}</script>                <script type=\"text/javascript\">window.PlotlyConfig = {MathJaxConfig: 'local'};</script>\n",
              "        <script charset=\"utf-8\" src=\"https://cdn.plot.ly/plotly-2.35.2.min.js\"></script>                <div id=\"670e2502-86b2-4b8e-9673-6336831ed8b1\" class=\"plotly-graph-div\" style=\"height:525px; width:100%;\"></div>            <script type=\"text/javascript\">                                    window.PLOTLYENV=window.PLOTLYENV || {};                                    if (document.getElementById(\"670e2502-86b2-4b8e-9673-6336831ed8b1\")) {                    Plotly.newPlot(                        \"670e2502-86b2-4b8e-9673-6336831ed8b1\",                        [{\"hovertemplate\":\"label=negative\\u003cbr\\u003eX_1=%{x}\\u003cbr\\u003eX_2=%{y}\\u003cextra\\u003e\\u003c\\u002fextra\\u003e\",\"legendgroup\":\"negative\",\"marker\":{\"color\":\"#636efa\",\"symbol\":\"circle\"},\"mode\":\"markers\",\"name\":\"negative\",\"orientation\":\"v\",\"showlegend\":true,\"x\":[1.434173635112031,-0.5469796802994843,0.24945568966188492,-1.0476066942141207,1.0832910619757434,0.0032250772357975688,-0.19683979873497215,1.1011976577275857,1.9072880096908222,-1.02113561308211,-1.1890243964309262,-0.9841168963809241,0.7976567283121585,-0.6668487210974013,0.43605818630062343,1.0404406336717182,1.0379017583590378,-0.6665896431292061,-0.5067129215131958,-0.9228829453892919,1.5867583319988618,-1.0464204597595783,2.3389396485994207,-1.1944935743138911,-0.6800950033413216,-0.8297910155085373,1.3250705067295145,-1.0481753395549422,0.3316404302443122,3.486147907234487,0.15315978468509017,-0.27431942937850873,-0.44598479838425975,-1.0704795316824134,0.3715499455724911,-0.5767535999432052,1.0960570141026196,2.199731343460071,-0.6532288263201578,1.5204423488162426,-0.6330693570891105,-1.3018898298573163,1.2063675339608968,1.604948824955505,-0.9122097196345488,0.2356781491695965,1.5222453853198652,1.268835056204761,-0.6677736898683282,1.0449954118473959,-0.00741554577248138,-1.06090632554496,-0.443192967631553,1.5670906141096337,-0.3718258399113319,1.3335118794829988,-1.2770823103063584,-1.1245582546901345,3.150024125877107,-0.26904280055593954,2.842403900484512,-1.4171010153111583,-1.1502394210411435,-0.5580183990596479,-0.9350458699576284,-0.5255894117514601,0.09233329570714344,0.8299507533944536,-0.062111432284645884,-0.3163498648460451,1.0811390139928967,1.2770787556501946,-0.45780057559044174,-1.2761968768979273,3.4059933802379634,-0.47489159766101996,-1.6786904836738152,2.7819580569778863,-0.8508331278401153,1.173619234527523,-0.6901902134888895,1.4600222060453132,-1.0215880314295191,-0.8733575898418926,1.860393113455874,1.7474899019389922,-0.15930635716140973,1.942763205103346,-0.9114702698449234,1.8619038915857051,1.894516412543466,-1.0850010580386786,-0.6772412833392627,1.1456602902749142,-0.7680303358959724,-0.542080851619884,-0.7848968148416233,-1.172132786791159,-0.9221377430009943,-1.0289125004643918],\"xaxis\":\"x\",\"y\":[-0.5937424792168728,-1.0617598692054115,-1.0333614912508065,-0.6937908736014446,-0.9055340458849237,-1.1205013286440806,-2.3693486994866366,0.22312514133001504,0.885041261321615,-1.2672894373822519,-1.6643369666262202,-2.1986432983298556,-0.5276170155152538,0.5902400374466996,-2.431184846867298,-1.4350042230287727,-1.1827897162215155,-1.0122070083872463,-2.5310483348068376,-0.9306826793473737,-0.10775267228457841,0.49783029509314614,-1.26172653531555,-1.356197250621976,-2.783864672043528,-0.8412562573193982,-1.8600717978336267,-0.49943962334147307,-1.4663397533194655,0.5975427484626821,-3.423914469881648,-1.8271013717999334,-0.3397829733573765,-0.547185390861365,-0.8692198189919627,-0.8981580628576675,-0.7127786543459882,-0.23504037042663262,-1.097100203226748,-0.8549927495415822,-1.741160662876014,-2.1638415831456483,-2.321854292912754,1.6298186753214625,0.21130211732064996,-0.8090425333688327,-1.1961245260476296,0.7006974072706913,-1.5842304913802319,-0.6934390910995909,-1.626488668625368,-0.3872285115327685,-0.533875317168361,0.11779391402639261,-0.0687440376915831,-0.016424446069008947,-0.650031223781796,0.030806034194265086,-1.067842872521462,-2.0630775335044813,1.7145704883334507,-3.117055201032854,0.6904286282832777,-2.063380516662323,-0.484024222754067,-2.7837353612767295,-1.405915759661006,-1.94427336417065,-1.7042300485191093,-0.18897377086430545,-0.8944076763115142,-2.7977943422189977,-0.03811275963607108,-1.0799574600243604,-0.7767054260348945,-0.9744685554844783,-0.7834799991909414,1.1054115688517276,-2.201332871115371,-2.2438176686026425,-1.5442076627429402,-0.41965382095526704,-1.4920787085608345,-1.4098972127739773,0.47552607520092405,-0.5073021544232863,-1.3072651852146597,0.6534927201086411,-2.1664317813605196,-0.35998385456389437,-1.1336855500348602,-0.4412254639097881,-0.5202518364532942,-1.2622945580958747,-1.576901800257325,-1.0869131760068007,1.1225880937073387,-1.582148727982375,-2.105524467786564,-1.0583491703900738],\"yaxis\":\"y\",\"type\":\"scatter\"},{\"hovertemplate\":\"label=positive\\u003cbr\\u003eX_1=%{x}\\u003cbr\\u003eX_2=%{y}\\u003cextra\\u003e\\u003c\\u002fextra\\u003e\",\"legendgroup\":\"positive\",\"marker\":{\"color\":\"#EF553B\",\"symbol\":\"circle\"},\"mode\":\"markers\",\"name\":\"positive\",\"orientation\":\"v\",\"showlegend\":true,\"x\":[0.6510436832547352,-0.3410376012882108,0.8617305852770683,1.6027681545263912,0.9365735054085003,0.10821284145501597,0.9655195962216812,-1.0001587915829502,0.11443704641698771,-1.7973232561347752,0.2970587124906483,1.8894200172994657,1.0357772317434946,2.0424401027238863,-0.8318651417803088,-0.5191026555223968,-1.3662843586334787,-1.6041552219245667,0.39186572886284277,2.5748561683765168,-0.23148278903150954,-0.06325539205681219,2.6516134781696623,0.1420115593764577,1.6873853176721323,-0.7807491025005086,-0.27095982951056274,-0.6849483057616574,-0.03628477816024889,0.37533296126232796,2.4469243827115736,-1.1757552880087836,-1.1226980484085467,1.3381071135820148,1.9857056206900054,0.3551154772800872,-1.2928405036391402,2.712178066557498,-0.92463346850637,-0.8808570717236589,0.19335378354673272,-1.6557060190822872,2.184009024732495,0.2144074932590475,-0.6959618145269912,0.9751001133336679,-1.0863991250718785,-0.5395531041201886,-2.059851039646218,0.26270955647378424,-1.3505591921343205,1.2965235317842714,-1.2204920305222637,-1.5453951737046212,1.134848028974001,-0.6826126203231383,-0.22166023730957307,-1.513550696486212,-1.16773623022518,2.471452293656415,1.4535615315098331,-0.34618955384579486,-0.07350275392955319,2.878763476552823,1.1334782198552205,1.1203041951882828,-0.14351937814585247,1.548674247489685,1.0839224441567763,0.6527481560659303,-0.3533281392877743,-0.7801628454249668,3.144663361162778,0.5522634453946011,-1.5839048990797184,-0.2779626074800725,-0.0952772886330977,-1.860351857931264,-0.41420302522970576,-1.7369492090202265,0.7606885612174914,-0.6398022828790222,-0.31698505021383483,0.18729941893382507,1.4613269191532985,-1.3749851211341155,1.7951503151743646,1.6209976516952556,-1.8864099604255016,-1.4265599737161012,-0.6937911366795119,-1.3413277208935337,-0.8708281378824403,-0.27976400639830745,0.6901385461362237,-1.9215116969329675,0.601835294963196,-1.3094696060289863,0.6177532610944598,0.26797144916940585],\"xaxis\":\"x\",\"y\":[0.8689714292342421,2.7318904170989304,0.8313684352127544,1.087409831689059,1.3711767769197787,0.6277025746774652,0.7388063393792065,1.827343387101576,2.145363357730863,-0.6221031730736324,3.003882413282427,0.7229775728153559,0.4221566479032871,1.657690150375862,1.7639181574525318,0.9269107547974382,0.35425055992420984,0.6138399555877183,-0.20820503241061905,2.693471419410173,1.3022635621611014,0.7013832716397305,0.9192538340540002,0.25074625949733076,0.9418447382765991,1.6018358955379393,1.5478315425682314,2.2725532374654795,1.0612484809670166,2.5018015197450882,1.7354546796524906,1.3038107127586032,0.3887655637155524,1.6417486663351777,1.2242774870774038,0.7480738422134088,1.7062344737147905,1.6789201176334347,-1.3183441462023788,1.0542554281245176,0.4592853420396935,-0.30653869519380117,1.1137032577311137,-0.36946864275666047,0.35868687509394304,0.1847448541880523,0.8489984323078783,2.82014130225763,-0.6126492766826697,2.523199215531265,0.16136294594849687,0.9630936044017779,1.1227631933835196,1.3770502242128133,1.390305798605041,2.32532078017761,-0.3730534770380276,0.956055652007788,1.2773279532004937,1.4166760298111751,0.27861055587475914,2.4866251664707213,0.7020043875666935,1.7171654855706007,2.3196542845601145,0.7602061407961114,1.3783900115066883,1.399625573221033,2.480798816640032,-0.37340748399885637,0.9153769522685488,0.8097016440617862,3.163970968194664,1.0940662029815658,-0.5515649003233232,2.6123526471290046,0.3121040404228138,0.376943521515933,0.5864857128679506,0.08792592017205914,0.9843691019956373,0.7278115478880403,2.1963294841409686,2.033058387897179,2.7395367184983295,0.09152183506577449,1.7953547137406425,1.530712288503985,-0.03174448455364143,0.5605900386584055,2.0896382461468064,1.1423076038254933,0.5078208733939417,2.9125706387992016,1.9439762341805595,-0.10689791208897925,3.8919891326538067,0.9496468818941581,0.7510261408268538,2.9731999261871334],\"yaxis\":\"y\",\"type\":\"scatter\"},{\"name\":\"brzeg\",\"x\":[-2,4],\"y\":[2.5,-0.5],\"type\":\"scatter\"}],                        {\"template\":{\"data\":{\"histogram2dcontour\":[{\"type\":\"histogram2dcontour\",\"colorbar\":{\"outlinewidth\":0,\"ticks\":\"\"},\"colorscale\":[[0.0,\"#0d0887\"],[0.1111111111111111,\"#46039f\"],[0.2222222222222222,\"#7201a8\"],[0.3333333333333333,\"#9c179e\"],[0.4444444444444444,\"#bd3786\"],[0.5555555555555556,\"#d8576b\"],[0.6666666666666666,\"#ed7953\"],[0.7777777777777778,\"#fb9f3a\"],[0.8888888888888888,\"#fdca26\"],[1.0,\"#f0f921\"]]}],\"choropleth\":[{\"type\":\"choropleth\",\"colorbar\":{\"outlinewidth\":0,\"ticks\":\"\"}}],\"histogram2d\":[{\"type\":\"histogram2d\",\"colorbar\":{\"outlinewidth\":0,\"ticks\":\"\"},\"colorscale\":[[0.0,\"#0d0887\"],[0.1111111111111111,\"#46039f\"],[0.2222222222222222,\"#7201a8\"],[0.3333333333333333,\"#9c179e\"],[0.4444444444444444,\"#bd3786\"],[0.5555555555555556,\"#d8576b\"],[0.6666666666666666,\"#ed7953\"],[0.7777777777777778,\"#fb9f3a\"],[0.8888888888888888,\"#fdca26\"],[1.0,\"#f0f921\"]]}],\"heatmap\":[{\"type\":\"heatmap\",\"colorbar\":{\"outlinewidth\":0,\"ticks\":\"\"},\"colorscale\":[[0.0,\"#0d0887\"],[0.1111111111111111,\"#46039f\"],[0.2222222222222222,\"#7201a8\"],[0.3333333333333333,\"#9c179e\"],[0.4444444444444444,\"#bd3786\"],[0.5555555555555556,\"#d8576b\"],[0.6666666666666666,\"#ed7953\"],[0.7777777777777778,\"#fb9f3a\"],[0.8888888888888888,\"#fdca26\"],[1.0,\"#f0f921\"]]}],\"heatmapgl\":[{\"type\":\"heatmapgl\",\"colorbar\":{\"outlinewidth\":0,\"ticks\":\"\"},\"colorscale\":[[0.0,\"#0d0887\"],[0.1111111111111111,\"#46039f\"],[0.2222222222222222,\"#7201a8\"],[0.3333333333333333,\"#9c179e\"],[0.4444444444444444,\"#bd3786\"],[0.5555555555555556,\"#d8576b\"],[0.6666666666666666,\"#ed7953\"],[0.7777777777777778,\"#fb9f3a\"],[0.8888888888888888,\"#fdca26\"],[1.0,\"#f0f921\"]]}],\"contourcarpet\":[{\"type\":\"contourcarpet\",\"colorbar\":{\"outlinewidth\":0,\"ticks\":\"\"}}],\"contour\":[{\"type\":\"contour\",\"colorbar\":{\"outlinewidth\":0,\"ticks\":\"\"},\"colorscale\":[[0.0,\"#0d0887\"],[0.1111111111111111,\"#46039f\"],[0.2222222222222222,\"#7201a8\"],[0.3333333333333333,\"#9c179e\"],[0.4444444444444444,\"#bd3786\"],[0.5555555555555556,\"#d8576b\"],[0.6666666666666666,\"#ed7953\"],[0.7777777777777778,\"#fb9f3a\"],[0.8888888888888888,\"#fdca26\"],[1.0,\"#f0f921\"]]}],\"surface\":[{\"type\":\"surface\",\"colorbar\":{\"outlinewidth\":0,\"ticks\":\"\"},\"colorscale\":[[0.0,\"#0d0887\"],[0.1111111111111111,\"#46039f\"],[0.2222222222222222,\"#7201a8\"],[0.3333333333333333,\"#9c179e\"],[0.4444444444444444,\"#bd3786\"],[0.5555555555555556,\"#d8576b\"],[0.6666666666666666,\"#ed7953\"],[0.7777777777777778,\"#fb9f3a\"],[0.8888888888888888,\"#fdca26\"],[1.0,\"#f0f921\"]]}],\"mesh3d\":[{\"type\":\"mesh3d\",\"colorbar\":{\"outlinewidth\":0,\"ticks\":\"\"}}],\"scatter\":[{\"fillpattern\":{\"fillmode\":\"overlay\",\"size\":10,\"solidity\":0.2},\"type\":\"scatter\"}],\"parcoords\":[{\"type\":\"parcoords\",\"line\":{\"colorbar\":{\"outlinewidth\":0,\"ticks\":\"\"}}}],\"scatterpolargl\":[{\"type\":\"scatterpolargl\",\"marker\":{\"colorbar\":{\"outlinewidth\":0,\"ticks\":\"\"}}}],\"bar\":[{\"error_x\":{\"color\":\"#2a3f5f\"},\"error_y\":{\"color\":\"#2a3f5f\"},\"marker\":{\"line\":{\"color\":\"#E5ECF6\",\"width\":0.5},\"pattern\":{\"fillmode\":\"overlay\",\"size\":10,\"solidity\":0.2}},\"type\":\"bar\"}],\"scattergeo\":[{\"type\":\"scattergeo\",\"marker\":{\"colorbar\":{\"outlinewidth\":0,\"ticks\":\"\"}}}],\"scatterpolar\":[{\"type\":\"scatterpolar\",\"marker\":{\"colorbar\":{\"outlinewidth\":0,\"ticks\":\"\"}}}],\"histogram\":[{\"marker\":{\"pattern\":{\"fillmode\":\"overlay\",\"size\":10,\"solidity\":0.2}},\"type\":\"histogram\"}],\"scattergl\":[{\"type\":\"scattergl\",\"marker\":{\"colorbar\":{\"outlinewidth\":0,\"ticks\":\"\"}}}],\"scatter3d\":[{\"type\":\"scatter3d\",\"line\":{\"colorbar\":{\"outlinewidth\":0,\"ticks\":\"\"}},\"marker\":{\"colorbar\":{\"outlinewidth\":0,\"ticks\":\"\"}}}],\"scattermapbox\":[{\"type\":\"scattermapbox\",\"marker\":{\"colorbar\":{\"outlinewidth\":0,\"ticks\":\"\"}}}],\"scatterternary\":[{\"type\":\"scatterternary\",\"marker\":{\"colorbar\":{\"outlinewidth\":0,\"ticks\":\"\"}}}],\"scattercarpet\":[{\"type\":\"scattercarpet\",\"marker\":{\"colorbar\":{\"outlinewidth\":0,\"ticks\":\"\"}}}],\"carpet\":[{\"aaxis\":{\"endlinecolor\":\"#2a3f5f\",\"gridcolor\":\"white\",\"linecolor\":\"white\",\"minorgridcolor\":\"white\",\"startlinecolor\":\"#2a3f5f\"},\"baxis\":{\"endlinecolor\":\"#2a3f5f\",\"gridcolor\":\"white\",\"linecolor\":\"white\",\"minorgridcolor\":\"white\",\"startlinecolor\":\"#2a3f5f\"},\"type\":\"carpet\"}],\"table\":[{\"cells\":{\"fill\":{\"color\":\"#EBF0F8\"},\"line\":{\"color\":\"white\"}},\"header\":{\"fill\":{\"color\":\"#C8D4E3\"},\"line\":{\"color\":\"white\"}},\"type\":\"table\"}],\"barpolar\":[{\"marker\":{\"line\":{\"color\":\"#E5ECF6\",\"width\":0.5},\"pattern\":{\"fillmode\":\"overlay\",\"size\":10,\"solidity\":0.2}},\"type\":\"barpolar\"}],\"pie\":[{\"automargin\":true,\"type\":\"pie\"}]},\"layout\":{\"autotypenumbers\":\"strict\",\"colorway\":[\"#636efa\",\"#EF553B\",\"#00cc96\",\"#ab63fa\",\"#FFA15A\",\"#19d3f3\",\"#FF6692\",\"#B6E880\",\"#FF97FF\",\"#FECB52\"],\"font\":{\"color\":\"#2a3f5f\"},\"hovermode\":\"closest\",\"hoverlabel\":{\"align\":\"left\"},\"paper_bgcolor\":\"white\",\"plot_bgcolor\":\"#E5ECF6\",\"polar\":{\"bgcolor\":\"#E5ECF6\",\"angularaxis\":{\"gridcolor\":\"white\",\"linecolor\":\"white\",\"ticks\":\"\"},\"radialaxis\":{\"gridcolor\":\"white\",\"linecolor\":\"white\",\"ticks\":\"\"}},\"ternary\":{\"bgcolor\":\"#E5ECF6\",\"aaxis\":{\"gridcolor\":\"white\",\"linecolor\":\"white\",\"ticks\":\"\"},\"baxis\":{\"gridcolor\":\"white\",\"linecolor\":\"white\",\"ticks\":\"\"},\"caxis\":{\"gridcolor\":\"white\",\"linecolor\":\"white\",\"ticks\":\"\"}},\"coloraxis\":{\"colorbar\":{\"outlinewidth\":0,\"ticks\":\"\"}},\"colorscale\":{\"sequential\":[[0.0,\"#0d0887\"],[0.1111111111111111,\"#46039f\"],[0.2222222222222222,\"#7201a8\"],[0.3333333333333333,\"#9c179e\"],[0.4444444444444444,\"#bd3786\"],[0.5555555555555556,\"#d8576b\"],[0.6666666666666666,\"#ed7953\"],[0.7777777777777778,\"#fb9f3a\"],[0.8888888888888888,\"#fdca26\"],[1.0,\"#f0f921\"]],\"sequentialminus\":[[0.0,\"#0d0887\"],[0.1111111111111111,\"#46039f\"],[0.2222222222222222,\"#7201a8\"],[0.3333333333333333,\"#9c179e\"],[0.4444444444444444,\"#bd3786\"],[0.5555555555555556,\"#d8576b\"],[0.6666666666666666,\"#ed7953\"],[0.7777777777777778,\"#fb9f3a\"],[0.8888888888888888,\"#fdca26\"],[1.0,\"#f0f921\"]],\"diverging\":[[0,\"#8e0152\"],[0.1,\"#c51b7d\"],[0.2,\"#de77ae\"],[0.3,\"#f1b6da\"],[0.4,\"#fde0ef\"],[0.5,\"#f7f7f7\"],[0.6,\"#e6f5d0\"],[0.7,\"#b8e186\"],[0.8,\"#7fbc41\"],[0.9,\"#4d9221\"],[1,\"#276419\"]]},\"xaxis\":{\"gridcolor\":\"white\",\"linecolor\":\"white\",\"ticks\":\"\",\"title\":{\"standoff\":15},\"zerolinecolor\":\"white\",\"automargin\":true,\"zerolinewidth\":2},\"yaxis\":{\"gridcolor\":\"white\",\"linecolor\":\"white\",\"ticks\":\"\",\"title\":{\"standoff\":15},\"zerolinecolor\":\"white\",\"automargin\":true,\"zerolinewidth\":2},\"scene\":{\"xaxis\":{\"backgroundcolor\":\"#E5ECF6\",\"gridcolor\":\"white\",\"linecolor\":\"white\",\"showbackground\":true,\"ticks\":\"\",\"zerolinecolor\":\"white\",\"gridwidth\":2},\"yaxis\":{\"backgroundcolor\":\"#E5ECF6\",\"gridcolor\":\"white\",\"linecolor\":\"white\",\"showbackground\":true,\"ticks\":\"\",\"zerolinecolor\":\"white\",\"gridwidth\":2},\"zaxis\":{\"backgroundcolor\":\"#E5ECF6\",\"gridcolor\":\"white\",\"linecolor\":\"white\",\"showbackground\":true,\"ticks\":\"\",\"zerolinecolor\":\"white\",\"gridwidth\":2}},\"shapedefaults\":{\"line\":{\"color\":\"#2a3f5f\"}},\"annotationdefaults\":{\"arrowcolor\":\"#2a3f5f\",\"arrowhead\":0,\"arrowwidth\":1},\"geo\":{\"bgcolor\":\"white\",\"landcolor\":\"#E5ECF6\",\"subunitcolor\":\"white\",\"showland\":true,\"showlakes\":true,\"lakecolor\":\"white\"},\"title\":{\"x\":0.05},\"mapbox\":{\"style\":\"light\"}}}},                        {\"responsive\": true}                    ).then(function(){\n",
              "                            \n",
              "var gd = document.getElementById('670e2502-86b2-4b8e-9673-6336831ed8b1');\n",
              "var x = new MutationObserver(function (mutations, observer) {{\n",
              "        var display = window.getComputedStyle(gd).display;\n",
              "        if (!display || display === 'none') {{\n",
              "            console.log([gd, 'removed!']);\n",
              "            Plotly.purge(gd);\n",
              "            observer.disconnect();\n",
              "        }}\n",
              "}});\n",
              "\n",
              "// Listen for the removal of the full notebook cells\n",
              "var notebookContainer = gd.closest('#notebook-container');\n",
              "if (notebookContainer) {{\n",
              "    x.observe(notebookContainer, {childList: true});\n",
              "}}\n",
              "\n",
              "// Listen for the clearing of the current output cell\n",
              "var outputEl = gd.closest('.output');\n",
              "if (outputEl) {{\n",
              "    x.observe(outputEl, {childList: true});\n",
              "}}\n",
              "\n",
              "                        })                };                            </script>        </div>\n",
              "</body>\n",
              "</html>"
            ]
          },
          "metadata": {}
        }
      ]
    },
    {
      "cell_type": "code",
      "source": [
        "df = pd.read_csv('/content/Crop_recommendation.csv')\n",
        "df"
      ],
      "metadata": {
        "id": "zTZU-N5lI35H",
        "colab": {
          "base_uri": "https://localhost:8080/",
          "height": 423
        },
        "outputId": "0fb02a10-12f8-4676-dd0a-3bd2bc1a4e34"
      },
      "execution_count": 52,
      "outputs": [
        {
          "output_type": "execute_result",
          "data": {
            "text/plain": [
              "        N   P   K  temperature   humidity        ph    rainfall   label\n",
              "0      90  42  43    20.879744  82.002744  6.502985  202.935536    rice\n",
              "1      85  58  41    21.770462  80.319644  7.038096  226.655537    rice\n",
              "2      60  55  44    23.004459  82.320763  7.840207  263.964248    rice\n",
              "3      74  35  40    26.491096  80.158363  6.980401  242.864034    rice\n",
              "4      78  42  42    20.130175  81.604873  7.628473  262.717340    rice\n",
              "...   ...  ..  ..          ...        ...       ...         ...     ...\n",
              "2195  107  34  32    26.774637  66.413269  6.780064  177.774507  coffee\n",
              "2196   99  15  27    27.417112  56.636362  6.086922  127.924610  coffee\n",
              "2197  118  33  30    24.131797  67.225123  6.362608  173.322839  coffee\n",
              "2198  117  32  34    26.272418  52.127394  6.758793  127.175293  coffee\n",
              "2199  104  18  30    23.603016  60.396475  6.779833  140.937041  coffee\n",
              "\n",
              "[2200 rows x 8 columns]"
            ],
            "text/html": [
              "\n",
              "  <div id=\"df-3a1522a5-b992-4d47-ae59-6ad836297eb6\" class=\"colab-df-container\">\n",
              "    <div>\n",
              "<style scoped>\n",
              "    .dataframe tbody tr th:only-of-type {\n",
              "        vertical-align: middle;\n",
              "    }\n",
              "\n",
              "    .dataframe tbody tr th {\n",
              "        vertical-align: top;\n",
              "    }\n",
              "\n",
              "    .dataframe thead th {\n",
              "        text-align: right;\n",
              "    }\n",
              "</style>\n",
              "<table border=\"1\" class=\"dataframe\">\n",
              "  <thead>\n",
              "    <tr style=\"text-align: right;\">\n",
              "      <th></th>\n",
              "      <th>N</th>\n",
              "      <th>P</th>\n",
              "      <th>K</th>\n",
              "      <th>temperature</th>\n",
              "      <th>humidity</th>\n",
              "      <th>ph</th>\n",
              "      <th>rainfall</th>\n",
              "      <th>label</th>\n",
              "    </tr>\n",
              "  </thead>\n",
              "  <tbody>\n",
              "    <tr>\n",
              "      <th>0</th>\n",
              "      <td>90</td>\n",
              "      <td>42</td>\n",
              "      <td>43</td>\n",
              "      <td>20.879744</td>\n",
              "      <td>82.002744</td>\n",
              "      <td>6.502985</td>\n",
              "      <td>202.935536</td>\n",
              "      <td>rice</td>\n",
              "    </tr>\n",
              "    <tr>\n",
              "      <th>1</th>\n",
              "      <td>85</td>\n",
              "      <td>58</td>\n",
              "      <td>41</td>\n",
              "      <td>21.770462</td>\n",
              "      <td>80.319644</td>\n",
              "      <td>7.038096</td>\n",
              "      <td>226.655537</td>\n",
              "      <td>rice</td>\n",
              "    </tr>\n",
              "    <tr>\n",
              "      <th>2</th>\n",
              "      <td>60</td>\n",
              "      <td>55</td>\n",
              "      <td>44</td>\n",
              "      <td>23.004459</td>\n",
              "      <td>82.320763</td>\n",
              "      <td>7.840207</td>\n",
              "      <td>263.964248</td>\n",
              "      <td>rice</td>\n",
              "    </tr>\n",
              "    <tr>\n",
              "      <th>3</th>\n",
              "      <td>74</td>\n",
              "      <td>35</td>\n",
              "      <td>40</td>\n",
              "      <td>26.491096</td>\n",
              "      <td>80.158363</td>\n",
              "      <td>6.980401</td>\n",
              "      <td>242.864034</td>\n",
              "      <td>rice</td>\n",
              "    </tr>\n",
              "    <tr>\n",
              "      <th>4</th>\n",
              "      <td>78</td>\n",
              "      <td>42</td>\n",
              "      <td>42</td>\n",
              "      <td>20.130175</td>\n",
              "      <td>81.604873</td>\n",
              "      <td>7.628473</td>\n",
              "      <td>262.717340</td>\n",
              "      <td>rice</td>\n",
              "    </tr>\n",
              "    <tr>\n",
              "      <th>...</th>\n",
              "      <td>...</td>\n",
              "      <td>...</td>\n",
              "      <td>...</td>\n",
              "      <td>...</td>\n",
              "      <td>...</td>\n",
              "      <td>...</td>\n",
              "      <td>...</td>\n",
              "      <td>...</td>\n",
              "    </tr>\n",
              "    <tr>\n",
              "      <th>2195</th>\n",
              "      <td>107</td>\n",
              "      <td>34</td>\n",
              "      <td>32</td>\n",
              "      <td>26.774637</td>\n",
              "      <td>66.413269</td>\n",
              "      <td>6.780064</td>\n",
              "      <td>177.774507</td>\n",
              "      <td>coffee</td>\n",
              "    </tr>\n",
              "    <tr>\n",
              "      <th>2196</th>\n",
              "      <td>99</td>\n",
              "      <td>15</td>\n",
              "      <td>27</td>\n",
              "      <td>27.417112</td>\n",
              "      <td>56.636362</td>\n",
              "      <td>6.086922</td>\n",
              "      <td>127.924610</td>\n",
              "      <td>coffee</td>\n",
              "    </tr>\n",
              "    <tr>\n",
              "      <th>2197</th>\n",
              "      <td>118</td>\n",
              "      <td>33</td>\n",
              "      <td>30</td>\n",
              "      <td>24.131797</td>\n",
              "      <td>67.225123</td>\n",
              "      <td>6.362608</td>\n",
              "      <td>173.322839</td>\n",
              "      <td>coffee</td>\n",
              "    </tr>\n",
              "    <tr>\n",
              "      <th>2198</th>\n",
              "      <td>117</td>\n",
              "      <td>32</td>\n",
              "      <td>34</td>\n",
              "      <td>26.272418</td>\n",
              "      <td>52.127394</td>\n",
              "      <td>6.758793</td>\n",
              "      <td>127.175293</td>\n",
              "      <td>coffee</td>\n",
              "    </tr>\n",
              "    <tr>\n",
              "      <th>2199</th>\n",
              "      <td>104</td>\n",
              "      <td>18</td>\n",
              "      <td>30</td>\n",
              "      <td>23.603016</td>\n",
              "      <td>60.396475</td>\n",
              "      <td>6.779833</td>\n",
              "      <td>140.937041</td>\n",
              "      <td>coffee</td>\n",
              "    </tr>\n",
              "  </tbody>\n",
              "</table>\n",
              "<p>2200 rows × 8 columns</p>\n",
              "</div>\n",
              "    <div class=\"colab-df-buttons\">\n",
              "\n",
              "  <div class=\"colab-df-container\">\n",
              "    <button class=\"colab-df-convert\" onclick=\"convertToInteractive('df-3a1522a5-b992-4d47-ae59-6ad836297eb6')\"\n",
              "            title=\"Convert this dataframe to an interactive table.\"\n",
              "            style=\"display:none;\">\n",
              "\n",
              "  <svg xmlns=\"http://www.w3.org/2000/svg\" height=\"24px\" viewBox=\"0 -960 960 960\">\n",
              "    <path d=\"M120-120v-720h720v720H120Zm60-500h600v-160H180v160Zm220 220h160v-160H400v160Zm0 220h160v-160H400v160ZM180-400h160v-160H180v160Zm440 0h160v-160H620v160ZM180-180h160v-160H180v160Zm440 0h160v-160H620v160Z\"/>\n",
              "  </svg>\n",
              "    </button>\n",
              "\n",
              "  <style>\n",
              "    .colab-df-container {\n",
              "      display:flex;\n",
              "      gap: 12px;\n",
              "    }\n",
              "\n",
              "    .colab-df-convert {\n",
              "      background-color: #E8F0FE;\n",
              "      border: none;\n",
              "      border-radius: 50%;\n",
              "      cursor: pointer;\n",
              "      display: none;\n",
              "      fill: #1967D2;\n",
              "      height: 32px;\n",
              "      padding: 0 0 0 0;\n",
              "      width: 32px;\n",
              "    }\n",
              "\n",
              "    .colab-df-convert:hover {\n",
              "      background-color: #E2EBFA;\n",
              "      box-shadow: 0px 1px 2px rgba(60, 64, 67, 0.3), 0px 1px 3px 1px rgba(60, 64, 67, 0.15);\n",
              "      fill: #174EA6;\n",
              "    }\n",
              "\n",
              "    .colab-df-buttons div {\n",
              "      margin-bottom: 4px;\n",
              "    }\n",
              "\n",
              "    [theme=dark] .colab-df-convert {\n",
              "      background-color: #3B4455;\n",
              "      fill: #D2E3FC;\n",
              "    }\n",
              "\n",
              "    [theme=dark] .colab-df-convert:hover {\n",
              "      background-color: #434B5C;\n",
              "      box-shadow: 0px 1px 3px 1px rgba(0, 0, 0, 0.15);\n",
              "      filter: drop-shadow(0px 1px 2px rgba(0, 0, 0, 0.3));\n",
              "      fill: #FFFFFF;\n",
              "    }\n",
              "  </style>\n",
              "\n",
              "    <script>\n",
              "      const buttonEl =\n",
              "        document.querySelector('#df-3a1522a5-b992-4d47-ae59-6ad836297eb6 button.colab-df-convert');\n",
              "      buttonEl.style.display =\n",
              "        google.colab.kernel.accessAllowed ? 'block' : 'none';\n",
              "\n",
              "      async function convertToInteractive(key) {\n",
              "        const element = document.querySelector('#df-3a1522a5-b992-4d47-ae59-6ad836297eb6');\n",
              "        const dataTable =\n",
              "          await google.colab.kernel.invokeFunction('convertToInteractive',\n",
              "                                                    [key], {});\n",
              "        if (!dataTable) return;\n",
              "\n",
              "        const docLinkHtml = 'Like what you see? Visit the ' +\n",
              "          '<a target=\"_blank\" href=https://colab.research.google.com/notebooks/data_table.ipynb>data table notebook</a>'\n",
              "          + ' to learn more about interactive tables.';\n",
              "        element.innerHTML = '';\n",
              "        dataTable['output_type'] = 'display_data';\n",
              "        await google.colab.output.renderOutput(dataTable, element);\n",
              "        const docLink = document.createElement('div');\n",
              "        docLink.innerHTML = docLinkHtml;\n",
              "        element.appendChild(docLink);\n",
              "      }\n",
              "    </script>\n",
              "  </div>\n",
              "\n",
              "\n",
              "    <div id=\"df-ac155216-5dbc-4ac0-8d49-ffdadf99e642\">\n",
              "      <button class=\"colab-df-quickchart\" onclick=\"quickchart('df-ac155216-5dbc-4ac0-8d49-ffdadf99e642')\"\n",
              "                title=\"Suggest charts\"\n",
              "                style=\"display:none;\">\n",
              "\n",
              "<svg xmlns=\"http://www.w3.org/2000/svg\" height=\"24px\"viewBox=\"0 0 24 24\"\n",
              "     width=\"24px\">\n",
              "    <g>\n",
              "        <path d=\"M19 3H5c-1.1 0-2 .9-2 2v14c0 1.1.9 2 2 2h14c1.1 0 2-.9 2-2V5c0-1.1-.9-2-2-2zM9 17H7v-7h2v7zm4 0h-2V7h2v10zm4 0h-2v-4h2v4z\"/>\n",
              "    </g>\n",
              "</svg>\n",
              "      </button>\n",
              "\n",
              "<style>\n",
              "  .colab-df-quickchart {\n",
              "      --bg-color: #E8F0FE;\n",
              "      --fill-color: #1967D2;\n",
              "      --hover-bg-color: #E2EBFA;\n",
              "      --hover-fill-color: #174EA6;\n",
              "      --disabled-fill-color: #AAA;\n",
              "      --disabled-bg-color: #DDD;\n",
              "  }\n",
              "\n",
              "  [theme=dark] .colab-df-quickchart {\n",
              "      --bg-color: #3B4455;\n",
              "      --fill-color: #D2E3FC;\n",
              "      --hover-bg-color: #434B5C;\n",
              "      --hover-fill-color: #FFFFFF;\n",
              "      --disabled-bg-color: #3B4455;\n",
              "      --disabled-fill-color: #666;\n",
              "  }\n",
              "\n",
              "  .colab-df-quickchart {\n",
              "    background-color: var(--bg-color);\n",
              "    border: none;\n",
              "    border-radius: 50%;\n",
              "    cursor: pointer;\n",
              "    display: none;\n",
              "    fill: var(--fill-color);\n",
              "    height: 32px;\n",
              "    padding: 0;\n",
              "    width: 32px;\n",
              "  }\n",
              "\n",
              "  .colab-df-quickchart:hover {\n",
              "    background-color: var(--hover-bg-color);\n",
              "    box-shadow: 0 1px 2px rgba(60, 64, 67, 0.3), 0 1px 3px 1px rgba(60, 64, 67, 0.15);\n",
              "    fill: var(--button-hover-fill-color);\n",
              "  }\n",
              "\n",
              "  .colab-df-quickchart-complete:disabled,\n",
              "  .colab-df-quickchart-complete:disabled:hover {\n",
              "    background-color: var(--disabled-bg-color);\n",
              "    fill: var(--disabled-fill-color);\n",
              "    box-shadow: none;\n",
              "  }\n",
              "\n",
              "  .colab-df-spinner {\n",
              "    border: 2px solid var(--fill-color);\n",
              "    border-color: transparent;\n",
              "    border-bottom-color: var(--fill-color);\n",
              "    animation:\n",
              "      spin 1s steps(1) infinite;\n",
              "  }\n",
              "\n",
              "  @keyframes spin {\n",
              "    0% {\n",
              "      border-color: transparent;\n",
              "      border-bottom-color: var(--fill-color);\n",
              "      border-left-color: var(--fill-color);\n",
              "    }\n",
              "    20% {\n",
              "      border-color: transparent;\n",
              "      border-left-color: var(--fill-color);\n",
              "      border-top-color: var(--fill-color);\n",
              "    }\n",
              "    30% {\n",
              "      border-color: transparent;\n",
              "      border-left-color: var(--fill-color);\n",
              "      border-top-color: var(--fill-color);\n",
              "      border-right-color: var(--fill-color);\n",
              "    }\n",
              "    40% {\n",
              "      border-color: transparent;\n",
              "      border-right-color: var(--fill-color);\n",
              "      border-top-color: var(--fill-color);\n",
              "    }\n",
              "    60% {\n",
              "      border-color: transparent;\n",
              "      border-right-color: var(--fill-color);\n",
              "    }\n",
              "    80% {\n",
              "      border-color: transparent;\n",
              "      border-right-color: var(--fill-color);\n",
              "      border-bottom-color: var(--fill-color);\n",
              "    }\n",
              "    90% {\n",
              "      border-color: transparent;\n",
              "      border-bottom-color: var(--fill-color);\n",
              "    }\n",
              "  }\n",
              "</style>\n",
              "\n",
              "      <script>\n",
              "        async function quickchart(key) {\n",
              "          const quickchartButtonEl =\n",
              "            document.querySelector('#' + key + ' button');\n",
              "          quickchartButtonEl.disabled = true;  // To prevent multiple clicks.\n",
              "          quickchartButtonEl.classList.add('colab-df-spinner');\n",
              "          try {\n",
              "            const charts = await google.colab.kernel.invokeFunction(\n",
              "                'suggestCharts', [key], {});\n",
              "          } catch (error) {\n",
              "            console.error('Error during call to suggestCharts:', error);\n",
              "          }\n",
              "          quickchartButtonEl.classList.remove('colab-df-spinner');\n",
              "          quickchartButtonEl.classList.add('colab-df-quickchart-complete');\n",
              "        }\n",
              "        (() => {\n",
              "          let quickchartButtonEl =\n",
              "            document.querySelector('#df-ac155216-5dbc-4ac0-8d49-ffdadf99e642 button');\n",
              "          quickchartButtonEl.style.display =\n",
              "            google.colab.kernel.accessAllowed ? 'block' : 'none';\n",
              "        })();\n",
              "      </script>\n",
              "    </div>\n",
              "\n",
              "  <div id=\"id_a44c2b83-901e-4988-a7de-606a88026b57\">\n",
              "    <style>\n",
              "      .colab-df-generate {\n",
              "        background-color: #E8F0FE;\n",
              "        border: none;\n",
              "        border-radius: 50%;\n",
              "        cursor: pointer;\n",
              "        display: none;\n",
              "        fill: #1967D2;\n",
              "        height: 32px;\n",
              "        padding: 0 0 0 0;\n",
              "        width: 32px;\n",
              "      }\n",
              "\n",
              "      .colab-df-generate:hover {\n",
              "        background-color: #E2EBFA;\n",
              "        box-shadow: 0px 1px 2px rgba(60, 64, 67, 0.3), 0px 1px 3px 1px rgba(60, 64, 67, 0.15);\n",
              "        fill: #174EA6;\n",
              "      }\n",
              "\n",
              "      [theme=dark] .colab-df-generate {\n",
              "        background-color: #3B4455;\n",
              "        fill: #D2E3FC;\n",
              "      }\n",
              "\n",
              "      [theme=dark] .colab-df-generate:hover {\n",
              "        background-color: #434B5C;\n",
              "        box-shadow: 0px 1px 3px 1px rgba(0, 0, 0, 0.15);\n",
              "        filter: drop-shadow(0px 1px 2px rgba(0, 0, 0, 0.3));\n",
              "        fill: #FFFFFF;\n",
              "      }\n",
              "    </style>\n",
              "    <button class=\"colab-df-generate\" onclick=\"generateWithVariable('df')\"\n",
              "            title=\"Generate code using this dataframe.\"\n",
              "            style=\"display:none;\">\n",
              "\n",
              "  <svg xmlns=\"http://www.w3.org/2000/svg\" height=\"24px\"viewBox=\"0 0 24 24\"\n",
              "       width=\"24px\">\n",
              "    <path d=\"M7,19H8.4L18.45,9,17,7.55,7,17.6ZM5,21V16.75L18.45,3.32a2,2,0,0,1,2.83,0l1.4,1.43a1.91,1.91,0,0,1,.58,1.4,1.91,1.91,0,0,1-.58,1.4L9.25,21ZM18.45,9,17,7.55Zm-12,3A5.31,5.31,0,0,0,4.9,8.1,5.31,5.31,0,0,0,1,6.5,5.31,5.31,0,0,0,4.9,4.9,5.31,5.31,0,0,0,6.5,1,5.31,5.31,0,0,0,8.1,4.9,5.31,5.31,0,0,0,12,6.5,5.46,5.46,0,0,0,6.5,12Z\"/>\n",
              "  </svg>\n",
              "    </button>\n",
              "    <script>\n",
              "      (() => {\n",
              "      const buttonEl =\n",
              "        document.querySelector('#id_a44c2b83-901e-4988-a7de-606a88026b57 button.colab-df-generate');\n",
              "      buttonEl.style.display =\n",
              "        google.colab.kernel.accessAllowed ? 'block' : 'none';\n",
              "\n",
              "      buttonEl.onclick = () => {\n",
              "        google.colab.notebook.generateWithVariable('df');\n",
              "      }\n",
              "      })();\n",
              "    </script>\n",
              "  </div>\n",
              "\n",
              "    </div>\n",
              "  </div>\n"
            ],
            "application/vnd.google.colaboratory.intrinsic+json": {
              "type": "dataframe",
              "variable_name": "df",
              "summary": "{\n  \"name\": \"df\",\n  \"rows\": 2200,\n  \"fields\": [\n    {\n      \"column\": \"N\",\n      \"properties\": {\n        \"dtype\": \"number\",\n        \"std\": 36,\n        \"min\": 0,\n        \"max\": 140,\n        \"num_unique_values\": 137,\n        \"samples\": [\n          106,\n          101,\n          88\n        ],\n        \"semantic_type\": \"\",\n        \"description\": \"\"\n      }\n    },\n    {\n      \"column\": \"P\",\n      \"properties\": {\n        \"dtype\": \"number\",\n        \"std\": 32,\n        \"min\": 5,\n        \"max\": 145,\n        \"num_unique_values\": 117,\n        \"samples\": [\n          69,\n          37,\n          11\n        ],\n        \"semantic_type\": \"\",\n        \"description\": \"\"\n      }\n    },\n    {\n      \"column\": \"K\",\n      \"properties\": {\n        \"dtype\": \"number\",\n        \"std\": 50,\n        \"min\": 5,\n        \"max\": 205,\n        \"num_unique_values\": 73,\n        \"samples\": [\n          42,\n          12,\n          15\n        ],\n        \"semantic_type\": \"\",\n        \"description\": \"\"\n      }\n    },\n    {\n      \"column\": \"temperature\",\n      \"properties\": {\n        \"dtype\": \"number\",\n        \"std\": 5.063748599958843,\n        \"min\": 8.825674745,\n        \"max\": 43.67549305,\n        \"num_unique_values\": 2200,\n        \"samples\": [\n          29.49401389,\n          26.1793464,\n          43.36051537\n        ],\n        \"semantic_type\": \"\",\n        \"description\": \"\"\n      }\n    },\n    {\n      \"column\": \"humidity\",\n      \"properties\": {\n        \"dtype\": \"number\",\n        \"std\": 22.263811589761115,\n        \"min\": 14.25803981,\n        \"max\": 99.98187601,\n        \"num_unique_values\": 2200,\n        \"samples\": [\n          94.72981338,\n          86.52258079,\n          93.35191636\n        ],\n        \"semantic_type\": \"\",\n        \"description\": \"\"\n      }\n    },\n    {\n      \"column\": \"ph\",\n      \"properties\": {\n        \"dtype\": \"number\",\n        \"std\": 0.7739376880298721,\n        \"min\": 3.504752314,\n        \"max\": 9.93509073,\n        \"num_unique_values\": 2200,\n        \"samples\": [\n          6.185053234,\n          6.25933595,\n          6.941496806\n        ],\n        \"semantic_type\": \"\",\n        \"description\": \"\"\n      }\n    },\n    {\n      \"column\": \"rainfall\",\n      \"properties\": {\n        \"dtype\": \"number\",\n        \"std\": 54.95838852487811,\n        \"min\": 20.21126747,\n        \"max\": 298.5601175,\n        \"num_unique_values\": 2200,\n        \"samples\": [\n          26.30820876,\n          49.43050977,\n          114.778071\n        ],\n        \"semantic_type\": \"\",\n        \"description\": \"\"\n      }\n    },\n    {\n      \"column\": \"label\",\n      \"properties\": {\n        \"dtype\": \"category\",\n        \"num_unique_values\": 22,\n        \"samples\": [\n          \"rice\",\n          \"watermelon\",\n          \"lentil\"\n        ],\n        \"semantic_type\": \"\",\n        \"description\": \"\"\n      }\n    }\n  ]\n}"
            }
          },
          "metadata": {},
          "execution_count": 52
        }
      ]
    },
    {
      "cell_type": "code",
      "source": [
        "X = df.iloc[:,:-1].values\n",
        "y = df.iloc[:,-1].values\n",
        "labels = np.unique(y)\n",
        "print(labels)\n",
        "encoder = LabelEncoder()\n",
        "y = encoder.fit_transform(y)\n",
        "print(y)"
      ],
      "metadata": {
        "colab": {
          "base_uri": "https://localhost:8080/"
        },
        "id": "D08z6j5Q0FJG",
        "outputId": "0c393cb6-2b30-4ad1-95da-46d93502a3ae"
      },
      "execution_count": 58,
      "outputs": [
        {
          "output_type": "stream",
          "name": "stdout",
          "text": [
            "['apple' 'banana' 'blackgram' 'chickpea' 'coconut' 'coffee' 'cotton'\n",
            " 'grapes' 'jute' 'kidneybeans' 'lentil' 'maize' 'mango' 'mothbeans'\n",
            " 'mungbean' 'muskmelon' 'orange' 'papaya' 'pigeonpeas' 'pomegranate'\n",
            " 'rice' 'watermelon']\n",
            "[20 20 20 ...  5  5  5]\n"
          ]
        }
      ]
    },
    {
      "cell_type": "code",
      "source": [
        "X_train, X_test, y_train, y_test = train_test_split(X, y, test_size=0.33, random_state=42)"
      ],
      "metadata": {
        "id": "pdXkvFSwzzCp"
      },
      "execution_count": 75,
      "outputs": []
    },
    {
      "cell_type": "code",
      "source": [
        "cost_history, w_history,b_history = training(X_train,y_train,w_init=np.zeros((X_train.shape[1],1)),b_init=0,alpha=0.1,num_eopchs=20)\n",
        "print(f'first cost = {cost_history[0]}, cost after 100 and alpha =0.01 epochs = {cost_history[-1]}')"
      ],
      "metadata": {
        "colab": {
          "base_uri": "https://localhost:8080/"
        },
        "id": "1wBfCcB60EIN",
        "outputId": "e16eed29-d387-4fe1-d565-60f7341439a0"
      },
      "execution_count": 77,
      "outputs": [
        {
          "output_type": "stream",
          "name": "stdout",
          "text": [
            "first cost = 0.693147180559947, cost after 100 and alpha =0.01 epochs = -330.4846926295088\n"
          ]
        }
      ]
    },
    {
      "cell_type": "code",
      "source": [
        "X.shape"
      ],
      "metadata": {
        "colab": {
          "base_uri": "https://localhost:8080/"
        },
        "id": "RE4LlpdC2Hov",
        "outputId": "6380eb6c-ad95-42b2-d023-ee799c1d8340"
      },
      "execution_count": 62,
      "outputs": [
        {
          "output_type": "execute_result",
          "data": {
            "text/plain": [
              "(2200, 7)"
            ]
          },
          "metadata": {},
          "execution_count": 62
        }
      ]
    },
    {
      "cell_type": "code",
      "source": [
        "from sklearn.decomposition import PCA\n",
        "import matplotlib.pyplot as plt\n",
        "\n",
        "pca = PCA(n_components=2)\n",
        "X_reduced = pca.fit_transform(X)\n",
        "\n",
        "plt.figure(figsize=(10, 6))\n",
        "scatter = plt.scatter(X_reduced[:, 0], X_reduced[:, 1], c=y, cmap='tab20', s=20)\n",
        "plt.colorbar(scatter, ticks=range(20), label=\"Class\")\n",
        "plt.title(\"Showing 20 classes of dataset\")\n",
        "plt.xlabel(\"PCA 1\")\n",
        "plt.ylabel(\"PCA 2\")\n",
        "plt.grid(True)\n",
        "plt.show()"
      ],
      "metadata": {
        "colab": {
          "base_uri": "https://localhost:8080/",
          "height": 564
        },
        "id": "7PWwETam2cqC",
        "outputId": "039192b4-ffb6-447f-a8e3-7c9c3d488d02"
      },
      "execution_count": 78,
      "outputs": [
        {
          "output_type": "display_data",
          "data": {
            "text/plain": [
              "<Figure size 1000x600 with 2 Axes>"
            ],
            "image/png": "[encoded data removed]"
          },
          "metadata": {}
        }
      ]
    }
  ]
}