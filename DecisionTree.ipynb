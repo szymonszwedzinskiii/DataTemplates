{
  "nbformat": 4,
  "nbformat_minor": 0,
  "metadata": {
    "colab": {
      "provenance": [],
      "authorship_tag": "ABX9TyNQ0v7G0JoBw+My6kcA2p9v",
      "include_colab_link": true
    },
    "kernelspec": {
      "name": "python3",
      "display_name": "Python 3"
    },
    "language_info": {
      "name": "python"
    }
  },
  "cells": [
    {
      "cell_type": "markdown",
      "metadata": {
        "id": "view-in-github",
        "colab_type": "text"
      },
      "source": [
        "<a href=\"https://colab.research.google.com/github/szymonszwedzinskiii/DataTemplates/blob/main/DecisionTree.ipynb\" target=\"_parent\"><img src=\"https://colab.research.google.com/assets/colab-badge.svg\" alt=\"Open In Colab\"/></a>"
      ]
    },
    {
      "cell_type": "code",
      "execution_count": 14,
      "metadata": {
        "id": "-vBMr9JlczOM"
      },
      "outputs": [],
      "source": [
        "import numpy as np\n",
        "import pandas as pd\n",
        "from sklearn.datasets import load_iris\n",
        "from collections import Counter\n"
      ]
    },
    {
      "cell_type": "code",
      "source": [
        "X,y = load_iris(return_X_y=True)\n",
        "def count_gini(y):\n",
        "    if len(y) == 0:\n",
        "        return 0\n",
        "    counts = np.bincount(y)\n",
        "    probabilities = counts / len(y)\n",
        "    gini = 1 - np.sum(probabilities ** 2)\n",
        "    return gini\n"
      ],
      "metadata": {
        "id": "yH16IpVxc2qD"
      },
      "execution_count": 25,
      "outputs": []
    },
    {
      "cell_type": "code",
      "source": [
        "def most_common_class(y):\n",
        "    return Counter(y).most_common(1)[0][0]"
      ],
      "metadata": {
        "id": "Wp7HxAGJIfTb"
      },
      "execution_count": 26,
      "outputs": []
    },
    {
      "cell_type": "code",
      "source": [
        "def find_best_split(X, y):\n",
        "    n_samples, n_features = X.shape\n",
        "    best_gini = 1.0\n",
        "    best_feature, best_threshold = None, None\n",
        "    for feature_index in range(n_features):\n",
        "        thresholds = np.unique(X[:, feature_index])\n",
        "        for threshold in thresholds:\n",
        "            left_mask = X[:, feature_index] < threshold\n",
        "            right_mask = ~left_mask\n",
        "\n",
        "            if sum(left_mask) == 0 or sum(right_mask) == 0:\n",
        "                continue\n",
        "\n",
        "            y_left, y_right = y[left_mask], y[right_mask]\n",
        "            gini_left = count_gini(y_left)\n",
        "            gini_right = count_gini(y_right)\n",
        "\n",
        "            weighted_gini = (len(y_left) * gini_left + len(y_right) * gini_right) / n_samples\n",
        "\n",
        "            if weighted_gini < best_gini:\n",
        "                best_gini = weighted_gini\n",
        "                best_feature = feature_index\n",
        "                best_threshold = threshold\n",
        "\n",
        "    return best_feature, best_threshold"
      ],
      "metadata": {
        "id": "Qt-NpQXlJBHk"
      },
      "execution_count": 29,
      "outputs": []
    },
    {
      "cell_type": "code",
      "source": [
        "def build_tree(X,y,depth,max_depth=5,min_samples_split=2):\n",
        "  if np.unique(y).size == 1:\n",
        "      return {'leaf': y[0]}\n",
        "\n",
        "  if depth >= max_depth or len(y) < min_samples_split:\n",
        "      return {'leaf': most_common_class(y)}\n",
        "\n",
        "  best_feature, best_threshold = find_best_split(X, y)\n",
        "\n",
        "  if best_feature is None:\n",
        "      return {'leaf': most_common_class(y)}\n",
        "\n",
        "  left_idx = X[:, best_feature] < best_threshold\n",
        "  right_idx = ~left_idx\n",
        "\n",
        "  if np.sum(left_idx) == 0 or np.sum(right_idx) == 0:\n",
        "      return {'leaf': most_common_class(y)}\n",
        "\n",
        "  left_branch = build_tree(X[left_idx], y[left_idx], depth + 1, max_depth, min_samples_split)\n",
        "  right_branch = build_tree(X[right_idx], y[right_idx], depth + 1, max_depth, min_samples_split)\n",
        "\n",
        "  return {\n",
        "      'feature': best_feature,\n",
        "      'threshold': best_threshold,\n",
        "      'left': left_branch,\n",
        "      'right': right_branch\n",
        "  }\n",
        "tree = build_tree(X,y,0,5)\n",
        "def predict_tree(x, tree):\n",
        "    if 'leaf' in tree:\n",
        "        return tree['leaf']\n",
        "    if x[tree['feature']] < tree['threshold']:\n",
        "        return predict_tree(x, tree['left'])\n",
        "    else:\n",
        "        return predict_tree(x, tree['right'])\n",
        "\n",
        "predict = [predict_tree(x,tree) for x in X]\n",
        "print(predict)"
      ],
      "metadata": {
        "colab": {
          "base_uri": "https://localhost:8080/"
        },
        "id": "iOmO1b6mDGol",
        "outputId": "994a4212-2813-4cd0-83c8-2fb03892c119"
      },
      "execution_count": 37,
      "outputs": [
        {
          "output_type": "stream",
          "name": "stdout",
          "text": [
            "[np.int64(0), np.int64(0), np.int64(0), np.int64(0), np.int64(0), np.int64(0), np.int64(0), np.int64(0), np.int64(0), np.int64(0), np.int64(0), np.int64(0), np.int64(0), np.int64(0), np.int64(0), np.int64(0), np.int64(0), np.int64(0), np.int64(0), np.int64(0), np.int64(0), np.int64(0), np.int64(0), np.int64(0), np.int64(0), np.int64(0), np.int64(0), np.int64(0), np.int64(0), np.int64(0), np.int64(0), np.int64(0), np.int64(0), np.int64(0), np.int64(0), np.int64(0), np.int64(0), np.int64(0), np.int64(0), np.int64(0), np.int64(0), np.int64(0), np.int64(0), np.int64(0), np.int64(0), np.int64(0), np.int64(0), np.int64(0), np.int64(0), np.int64(0), np.int64(1), np.int64(1), np.int64(1), np.int64(1), np.int64(1), np.int64(1), np.int64(1), np.int64(1), np.int64(1), np.int64(1), np.int64(1), np.int64(1), np.int64(1), np.int64(1), np.int64(1), np.int64(1), np.int64(1), np.int64(1), np.int64(1), np.int64(1), np.int64(1), np.int64(1), np.int64(1), np.int64(1), np.int64(1), np.int64(1), np.int64(1), np.int64(1), np.int64(1), np.int64(1), np.int64(1), np.int64(1), np.int64(1), np.int64(1), np.int64(1), np.int64(1), np.int64(1), np.int64(1), np.int64(1), np.int64(1), np.int64(1), np.int64(1), np.int64(1), np.int64(1), np.int64(1), np.int64(1), np.int64(1), np.int64(1), np.int64(1), np.int64(1), np.int64(2), np.int64(2), np.int64(2), np.int64(2), np.int64(2), np.int64(2), np.int64(2), np.int64(2), np.int64(2), np.int64(2), np.int64(2), np.int64(2), np.int64(2), np.int64(2), np.int64(2), np.int64(2), np.int64(2), np.int64(2), np.int64(2), np.int64(2), np.int64(2), np.int64(2), np.int64(2), np.int64(2), np.int64(2), np.int64(2), np.int64(2), np.int64(2), np.int64(2), np.int64(2), np.int64(2), np.int64(2), np.int64(2), np.int64(2), np.int64(2), np.int64(2), np.int64(2), np.int64(2), np.int64(2), np.int64(2), np.int64(2), np.int64(2), np.int64(2), np.int64(2), np.int64(2), np.int64(2), np.int64(2), np.int64(2), np.int64(2), np.int64(2)]\n"
          ]
        }
      ]
    },
    {
      "cell_type": "code",
      "source": [
        "def print_tree(tree, depth=0):\n",
        "    indent = \"  \" * depth\n",
        "    if 'leaf' in tree:\n",
        "        print(f\"{indent}Leaf: {tree['leaf']}\")\n",
        "    else:\n",
        "        print(f\"{indent}X[{tree['feature']}] < {tree['threshold']}\")\n",
        "        print(f\"{indent}Left:\")\n",
        "        print_tree(tree['left'], depth + 1)\n",
        "        print(f\"{indent}Right:\")\n",
        "        print_tree(tree['right'], depth + 1)\n",
        "\n",
        "print_tree(tree)"
      ],
      "metadata": {
        "id": "IuMPRDhUHNoU",
        "colab": {
          "base_uri": "https://localhost:8080/"
        },
        "outputId": "c1b9184c-ea26-48a3-d976-08ca1e5add1c"
      },
      "execution_count": 34,
      "outputs": [
        {
          "output_type": "stream",
          "name": "stdout",
          "text": [
            "X[2] < 3.0\n",
            "Left:\n",
            "  Leaf: 0\n",
            "Right:\n",
            "  X[3] < 1.8\n",
            "  Left:\n",
            "    X[2] < 5.0\n",
            "    Left:\n",
            "      X[3] < 1.7\n",
            "      Left:\n",
            "        Leaf: 1\n",
            "      Right:\n",
            "        Leaf: 2\n",
            "    Right:\n",
            "      X[3] < 1.6\n",
            "      Left:\n",
            "        Leaf: 2\n",
            "      Right:\n",
            "        X[0] < 7.2\n",
            "        Left:\n",
            "          Leaf: 1\n",
            "        Right:\n",
            "          Leaf: 2\n",
            "  Right:\n",
            "    X[2] < 4.9\n",
            "    Left:\n",
            "      X[0] < 6.0\n",
            "      Left:\n",
            "        Leaf: 1\n",
            "      Right:\n",
            "        Leaf: 2\n",
            "    Right:\n",
            "      Leaf: 2\n"
          ]
        }
      ]
    }
  ]
}